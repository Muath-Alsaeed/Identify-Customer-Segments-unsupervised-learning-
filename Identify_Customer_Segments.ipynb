{
 "cells": [
  {
   "cell_type": "markdown",
   "metadata": {},
   "source": [
    "# Project: Identify Customer Segments\n",
    "\n",
    "In this project, you will apply unsupervised learning techniques to identify segments of the population that form the core customer base for a mail-order sales company in Germany. These segments can then be used to direct marketing campaigns towards audiences that will have the highest expected rate of returns. The data that you will use has been provided by our partners at Bertelsmann Arvato Analytics, and represents a real-life data science task.\n",
    "\n",
    "This notebook will help you complete this task by providing a framework within which you will perform your analysis steps. In each step of the project, you will see some text describing the subtask that you will perform, followed by one or more code cells for you to complete your work. **Feel free to add additional code and markdown cells as you go along so that you can explore everything in precise chunks.** The code cells provided in the base template will outline only the major tasks, and will usually not be enough to cover all of the minor tasks that comprise it.\n",
    "\n",
    "It should be noted that while there will be precise guidelines on how you should handle certain tasks in the project, there will also be places where an exact specification is not provided. **There will be times in the project where you will need to make and justify your own decisions on how to treat the data.** These are places where there may not be only one way to handle the data. In real-life tasks, there may be many valid ways to approach an analysis task. One of the most important things you can do is clearly document your approach so that other scientists can understand the decisions you've made.\n",
    "\n",
    "At the end of most sections, there will be a Markdown cell labeled **Discussion**. In these cells, you will report your findings for the completed section, as well as document the decisions that you made in your approach to each subtask. **Your project will be evaluated not just on the code used to complete the tasks outlined, but also your communication about your observations and conclusions at each stage.**"
   ]
  },
  {
   "cell_type": "code",
   "execution_count": 1,
   "metadata": {},
   "outputs": [
    {
     "data": {
      "text/plain": [
       "'\\nImport note: The classroom currently uses sklearn version 0.19.\\nIf you need to use an imputer, it is available in sklearn.preprocessing.Imputer,\\ninstead of sklearn.impute as in newer versions of sklearn.\\n'"
      ]
     },
     "execution_count": 1,
     "metadata": {},
     "output_type": "execute_result"
    }
   ],
   "source": [
    "# import libraries here; add more as necessary\n",
    "import numpy as np\n",
    "import pandas as pd\n",
    "import matplotlib.pyplot as plt\n",
    "import seaborn as sns\n",
    "from sklearn.preprocessing import StandardScaler, Imputer\n",
    "from sklearn.decomposition import PCA\n",
    "from sklearn.cluster import KMeans\n",
    "# magic word for producing visualizations in notebook\n",
    "%matplotlib inline\n",
    "\n",
    "'''\n",
    "Import note: The classroom currently uses sklearn version 0.19.\n",
    "If you need to use an imputer, it is available in sklearn.preprocessing.Imputer,\n",
    "instead of sklearn.impute as in newer versions of sklearn.\n",
    "'''"
   ]
  },
  {
   "cell_type": "markdown",
   "metadata": {},
   "source": [
    "### Step 0: Load the Data\n",
    "\n",
    "There are four files associated with this project (not including this one):\n",
    "\n",
    "- `Udacity_AZDIAS_Subset.csv`: Demographics data for the general population of Germany; 891211 persons (rows) x 85 features (columns).\n",
    "- `Udacity_CUSTOMERS_Subset.csv`: Demographics data for customers of a mail-order company; 191652 persons (rows) x 85 features (columns).\n",
    "- `Data_Dictionary.md`: Detailed information file about the features in the provided datasets.\n",
    "- `AZDIAS_Feature_Summary.csv`: Summary of feature attributes for demographics data; 85 features (rows) x 4 columns\n",
    "\n",
    "Each row of the demographics files represents a single person, but also includes information outside of individuals, including information about their household, building, and neighborhood. You will use this information to cluster the general population into groups with similar demographic properties. Then, you will see how the people in the customers dataset fit into those created clusters. The hope here is that certain clusters are over-represented in the customers data, as compared to the general population; those over-represented clusters will be assumed to be part of the core userbase. This information can then be used for further applications, such as targeting for a marketing campaign.\n",
    "\n",
    "To start off with, load in the demographics data for the general population into a pandas DataFrame, and do the same for the feature attributes summary. Note for all of the `.csv` data files in this project: they're semicolon (`;`) delimited, so you'll need an additional argument in your [`read_csv()`](https://pandas.pydata.org/pandas-docs/stable/generated/pandas.read_csv.html) call to read in the data properly. Also, considering the size of the main dataset, it may take some time for it to load completely.\n",
    "\n",
    "Once the dataset is loaded, it's recommended that you take a little bit of time just browsing the general structure of the dataset and feature summary file. You'll be getting deep into the innards of the cleaning in the first major step of the project, so gaining some general familiarity can help you get your bearings."
   ]
  },
  {
   "cell_type": "code",
   "execution_count": 2,
   "metadata": {},
   "outputs": [],
   "source": [
    "# Load in the general demographics data.\n",
    "azdias =  pd.read_csv(\"Udacity_AZDIAS_Subset.csv\",sep=';')\n",
    "\n",
    "# Load in the feature summary file.\n",
    "feat_info = pd.read_csv(\"AZDIAS_Feature_Summary.csv\",sep=';')"
   ]
  },
  {
   "cell_type": "code",
   "execution_count": 3,
   "metadata": {},
   "outputs": [
    {
     "data": {
      "text/html": [
       "<div>\n",
       "<style scoped>\n",
       "    .dataframe tbody tr th:only-of-type {\n",
       "        vertical-align: middle;\n",
       "    }\n",
       "\n",
       "    .dataframe tbody tr th {\n",
       "        vertical-align: top;\n",
       "    }\n",
       "\n",
       "    .dataframe thead th {\n",
       "        text-align: right;\n",
       "    }\n",
       "</style>\n",
       "<table border=\"1\" class=\"dataframe\">\n",
       "  <thead>\n",
       "    <tr style=\"text-align: right;\">\n",
       "      <th></th>\n",
       "      <th>AGER_TYP</th>\n",
       "      <th>ALTERSKATEGORIE_GROB</th>\n",
       "      <th>ANREDE_KZ</th>\n",
       "      <th>CJT_GESAMTTYP</th>\n",
       "      <th>FINANZ_MINIMALIST</th>\n",
       "      <th>FINANZ_SPARER</th>\n",
       "      <th>FINANZ_VORSORGER</th>\n",
       "      <th>FINANZ_ANLEGER</th>\n",
       "      <th>FINANZ_UNAUFFAELLIGER</th>\n",
       "      <th>FINANZ_HAUSBAUER</th>\n",
       "      <th>...</th>\n",
       "      <th>PLZ8_ANTG1</th>\n",
       "      <th>PLZ8_ANTG2</th>\n",
       "      <th>PLZ8_ANTG3</th>\n",
       "      <th>PLZ8_ANTG4</th>\n",
       "      <th>PLZ8_BAUMAX</th>\n",
       "      <th>PLZ8_HHZ</th>\n",
       "      <th>PLZ8_GBZ</th>\n",
       "      <th>ARBEIT</th>\n",
       "      <th>ORTSGR_KLS9</th>\n",
       "      <th>RELAT_AB</th>\n",
       "    </tr>\n",
       "  </thead>\n",
       "  <tbody>\n",
       "    <tr>\n",
       "      <th>0</th>\n",
       "      <td>-1</td>\n",
       "      <td>2</td>\n",
       "      <td>1</td>\n",
       "      <td>2.0</td>\n",
       "      <td>3</td>\n",
       "      <td>4</td>\n",
       "      <td>3</td>\n",
       "      <td>5</td>\n",
       "      <td>5</td>\n",
       "      <td>3</td>\n",
       "      <td>...</td>\n",
       "      <td>NaN</td>\n",
       "      <td>NaN</td>\n",
       "      <td>NaN</td>\n",
       "      <td>NaN</td>\n",
       "      <td>NaN</td>\n",
       "      <td>NaN</td>\n",
       "      <td>NaN</td>\n",
       "      <td>NaN</td>\n",
       "      <td>NaN</td>\n",
       "      <td>NaN</td>\n",
       "    </tr>\n",
       "    <tr>\n",
       "      <th>1</th>\n",
       "      <td>-1</td>\n",
       "      <td>1</td>\n",
       "      <td>2</td>\n",
       "      <td>5.0</td>\n",
       "      <td>1</td>\n",
       "      <td>5</td>\n",
       "      <td>2</td>\n",
       "      <td>5</td>\n",
       "      <td>4</td>\n",
       "      <td>5</td>\n",
       "      <td>...</td>\n",
       "      <td>2.0</td>\n",
       "      <td>3.0</td>\n",
       "      <td>2.0</td>\n",
       "      <td>1.0</td>\n",
       "      <td>1.0</td>\n",
       "      <td>5.0</td>\n",
       "      <td>4.0</td>\n",
       "      <td>3.0</td>\n",
       "      <td>5.0</td>\n",
       "      <td>4.0</td>\n",
       "    </tr>\n",
       "    <tr>\n",
       "      <th>2</th>\n",
       "      <td>-1</td>\n",
       "      <td>3</td>\n",
       "      <td>2</td>\n",
       "      <td>3.0</td>\n",
       "      <td>1</td>\n",
       "      <td>4</td>\n",
       "      <td>1</td>\n",
       "      <td>2</td>\n",
       "      <td>3</td>\n",
       "      <td>5</td>\n",
       "      <td>...</td>\n",
       "      <td>3.0</td>\n",
       "      <td>3.0</td>\n",
       "      <td>1.0</td>\n",
       "      <td>0.0</td>\n",
       "      <td>1.0</td>\n",
       "      <td>4.0</td>\n",
       "      <td>4.0</td>\n",
       "      <td>3.0</td>\n",
       "      <td>5.0</td>\n",
       "      <td>2.0</td>\n",
       "    </tr>\n",
       "    <tr>\n",
       "      <th>3</th>\n",
       "      <td>2</td>\n",
       "      <td>4</td>\n",
       "      <td>2</td>\n",
       "      <td>2.0</td>\n",
       "      <td>4</td>\n",
       "      <td>2</td>\n",
       "      <td>5</td>\n",
       "      <td>2</td>\n",
       "      <td>1</td>\n",
       "      <td>2</td>\n",
       "      <td>...</td>\n",
       "      <td>2.0</td>\n",
       "      <td>2.0</td>\n",
       "      <td>2.0</td>\n",
       "      <td>0.0</td>\n",
       "      <td>1.0</td>\n",
       "      <td>3.0</td>\n",
       "      <td>4.0</td>\n",
       "      <td>2.0</td>\n",
       "      <td>3.0</td>\n",
       "      <td>3.0</td>\n",
       "    </tr>\n",
       "    <tr>\n",
       "      <th>4</th>\n",
       "      <td>-1</td>\n",
       "      <td>3</td>\n",
       "      <td>1</td>\n",
       "      <td>5.0</td>\n",
       "      <td>4</td>\n",
       "      <td>3</td>\n",
       "      <td>4</td>\n",
       "      <td>1</td>\n",
       "      <td>3</td>\n",
       "      <td>2</td>\n",
       "      <td>...</td>\n",
       "      <td>2.0</td>\n",
       "      <td>4.0</td>\n",
       "      <td>2.0</td>\n",
       "      <td>1.0</td>\n",
       "      <td>2.0</td>\n",
       "      <td>3.0</td>\n",
       "      <td>3.0</td>\n",
       "      <td>4.0</td>\n",
       "      <td>6.0</td>\n",
       "      <td>5.0</td>\n",
       "    </tr>\n",
       "    <tr>\n",
       "      <th>5</th>\n",
       "      <td>3</td>\n",
       "      <td>1</td>\n",
       "      <td>2</td>\n",
       "      <td>2.0</td>\n",
       "      <td>3</td>\n",
       "      <td>1</td>\n",
       "      <td>5</td>\n",
       "      <td>2</td>\n",
       "      <td>2</td>\n",
       "      <td>5</td>\n",
       "      <td>...</td>\n",
       "      <td>2.0</td>\n",
       "      <td>3.0</td>\n",
       "      <td>1.0</td>\n",
       "      <td>1.0</td>\n",
       "      <td>1.0</td>\n",
       "      <td>5.0</td>\n",
       "      <td>5.0</td>\n",
       "      <td>2.0</td>\n",
       "      <td>3.0</td>\n",
       "      <td>3.0</td>\n",
       "    </tr>\n",
       "    <tr>\n",
       "      <th>6</th>\n",
       "      <td>-1</td>\n",
       "      <td>2</td>\n",
       "      <td>2</td>\n",
       "      <td>5.0</td>\n",
       "      <td>1</td>\n",
       "      <td>5</td>\n",
       "      <td>1</td>\n",
       "      <td>5</td>\n",
       "      <td>4</td>\n",
       "      <td>3</td>\n",
       "      <td>...</td>\n",
       "      <td>3.0</td>\n",
       "      <td>3.0</td>\n",
       "      <td>1.0</td>\n",
       "      <td>0.0</td>\n",
       "      <td>1.0</td>\n",
       "      <td>5.0</td>\n",
       "      <td>5.0</td>\n",
       "      <td>4.0</td>\n",
       "      <td>6.0</td>\n",
       "      <td>3.0</td>\n",
       "    </tr>\n",
       "    <tr>\n",
       "      <th>7</th>\n",
       "      <td>-1</td>\n",
       "      <td>1</td>\n",
       "      <td>1</td>\n",
       "      <td>3.0</td>\n",
       "      <td>3</td>\n",
       "      <td>3</td>\n",
       "      <td>4</td>\n",
       "      <td>1</td>\n",
       "      <td>3</td>\n",
       "      <td>2</td>\n",
       "      <td>...</td>\n",
       "      <td>3.0</td>\n",
       "      <td>3.0</td>\n",
       "      <td>1.0</td>\n",
       "      <td>0.0</td>\n",
       "      <td>1.0</td>\n",
       "      <td>4.0</td>\n",
       "      <td>4.0</td>\n",
       "      <td>2.0</td>\n",
       "      <td>5.0</td>\n",
       "      <td>2.0</td>\n",
       "    </tr>\n",
       "    <tr>\n",
       "      <th>8</th>\n",
       "      <td>-1</td>\n",
       "      <td>3</td>\n",
       "      <td>1</td>\n",
       "      <td>3.0</td>\n",
       "      <td>4</td>\n",
       "      <td>4</td>\n",
       "      <td>2</td>\n",
       "      <td>4</td>\n",
       "      <td>2</td>\n",
       "      <td>2</td>\n",
       "      <td>...</td>\n",
       "      <td>2.0</td>\n",
       "      <td>3.0</td>\n",
       "      <td>2.0</td>\n",
       "      <td>1.0</td>\n",
       "      <td>1.0</td>\n",
       "      <td>3.0</td>\n",
       "      <td>3.0</td>\n",
       "      <td>2.0</td>\n",
       "      <td>4.0</td>\n",
       "      <td>3.0</td>\n",
       "    </tr>\n",
       "    <tr>\n",
       "      <th>9</th>\n",
       "      <td>-1</td>\n",
       "      <td>3</td>\n",
       "      <td>2</td>\n",
       "      <td>4.0</td>\n",
       "      <td>2</td>\n",
       "      <td>4</td>\n",
       "      <td>2</td>\n",
       "      <td>3</td>\n",
       "      <td>5</td>\n",
       "      <td>4</td>\n",
       "      <td>...</td>\n",
       "      <td>2.0</td>\n",
       "      <td>3.0</td>\n",
       "      <td>2.0</td>\n",
       "      <td>1.0</td>\n",
       "      <td>1.0</td>\n",
       "      <td>3.0</td>\n",
       "      <td>3.0</td>\n",
       "      <td>2.0</td>\n",
       "      <td>3.0</td>\n",
       "      <td>1.0</td>\n",
       "    </tr>\n",
       "  </tbody>\n",
       "</table>\n",
       "<p>10 rows × 85 columns</p>\n",
       "</div>"
      ],
      "text/plain": [
       "   AGER_TYP  ALTERSKATEGORIE_GROB  ANREDE_KZ  CJT_GESAMTTYP  \\\n",
       "0        -1                     2          1            2.0   \n",
       "1        -1                     1          2            5.0   \n",
       "2        -1                     3          2            3.0   \n",
       "3         2                     4          2            2.0   \n",
       "4        -1                     3          1            5.0   \n",
       "5         3                     1          2            2.0   \n",
       "6        -1                     2          2            5.0   \n",
       "7        -1                     1          1            3.0   \n",
       "8        -1                     3          1            3.0   \n",
       "9        -1                     3          2            4.0   \n",
       "\n",
       "   FINANZ_MINIMALIST  FINANZ_SPARER  FINANZ_VORSORGER  FINANZ_ANLEGER  \\\n",
       "0                  3              4                 3               5   \n",
       "1                  1              5                 2               5   \n",
       "2                  1              4                 1               2   \n",
       "3                  4              2                 5               2   \n",
       "4                  4              3                 4               1   \n",
       "5                  3              1                 5               2   \n",
       "6                  1              5                 1               5   \n",
       "7                  3              3                 4               1   \n",
       "8                  4              4                 2               4   \n",
       "9                  2              4                 2               3   \n",
       "\n",
       "   FINANZ_UNAUFFAELLIGER  FINANZ_HAUSBAUER    ...     PLZ8_ANTG1  PLZ8_ANTG2  \\\n",
       "0                      5                 3    ...            NaN         NaN   \n",
       "1                      4                 5    ...            2.0         3.0   \n",
       "2                      3                 5    ...            3.0         3.0   \n",
       "3                      1                 2    ...            2.0         2.0   \n",
       "4                      3                 2    ...            2.0         4.0   \n",
       "5                      2                 5    ...            2.0         3.0   \n",
       "6                      4                 3    ...            3.0         3.0   \n",
       "7                      3                 2    ...            3.0         3.0   \n",
       "8                      2                 2    ...            2.0         3.0   \n",
       "9                      5                 4    ...            2.0         3.0   \n",
       "\n",
       "   PLZ8_ANTG3  PLZ8_ANTG4  PLZ8_BAUMAX  PLZ8_HHZ  PLZ8_GBZ  ARBEIT  \\\n",
       "0         NaN         NaN          NaN       NaN       NaN     NaN   \n",
       "1         2.0         1.0          1.0       5.0       4.0     3.0   \n",
       "2         1.0         0.0          1.0       4.0       4.0     3.0   \n",
       "3         2.0         0.0          1.0       3.0       4.0     2.0   \n",
       "4         2.0         1.0          2.0       3.0       3.0     4.0   \n",
       "5         1.0         1.0          1.0       5.0       5.0     2.0   \n",
       "6         1.0         0.0          1.0       5.0       5.0     4.0   \n",
       "7         1.0         0.0          1.0       4.0       4.0     2.0   \n",
       "8         2.0         1.0          1.0       3.0       3.0     2.0   \n",
       "9         2.0         1.0          1.0       3.0       3.0     2.0   \n",
       "\n",
       "   ORTSGR_KLS9  RELAT_AB  \n",
       "0          NaN       NaN  \n",
       "1          5.0       4.0  \n",
       "2          5.0       2.0  \n",
       "3          3.0       3.0  \n",
       "4          6.0       5.0  \n",
       "5          3.0       3.0  \n",
       "6          6.0       3.0  \n",
       "7          5.0       2.0  \n",
       "8          4.0       3.0  \n",
       "9          3.0       1.0  \n",
       "\n",
       "[10 rows x 85 columns]"
      ]
     },
     "execution_count": 3,
     "metadata": {},
     "output_type": "execute_result"
    }
   ],
   "source": [
    "# Check the structure of the data after it's loaded (e.g. print the number of\n",
    "# rows and columns, print the first few rows).\n",
    "azdias.head(10)\n"
   ]
  },
  {
   "cell_type": "code",
   "execution_count": 4,
   "metadata": {},
   "outputs": [
    {
     "data": {
      "text/plain": [
       "(891221, 85)"
      ]
     },
     "execution_count": 4,
     "metadata": {},
     "output_type": "execute_result"
    }
   ],
   "source": [
    "azdias.shape\n"
   ]
  },
  {
   "cell_type": "code",
   "execution_count": 5,
   "metadata": {},
   "outputs": [
    {
     "data": {
      "text/html": [
       "<div>\n",
       "<style scoped>\n",
       "    .dataframe tbody tr th:only-of-type {\n",
       "        vertical-align: middle;\n",
       "    }\n",
       "\n",
       "    .dataframe tbody tr th {\n",
       "        vertical-align: top;\n",
       "    }\n",
       "\n",
       "    .dataframe thead th {\n",
       "        text-align: right;\n",
       "    }\n",
       "</style>\n",
       "<table border=\"1\" class=\"dataframe\">\n",
       "  <thead>\n",
       "    <tr style=\"text-align: right;\">\n",
       "      <th></th>\n",
       "      <th>AGER_TYP</th>\n",
       "      <th>ALTERSKATEGORIE_GROB</th>\n",
       "      <th>ANREDE_KZ</th>\n",
       "      <th>CJT_GESAMTTYP</th>\n",
       "      <th>FINANZ_MINIMALIST</th>\n",
       "      <th>FINANZ_SPARER</th>\n",
       "      <th>FINANZ_VORSORGER</th>\n",
       "      <th>FINANZ_ANLEGER</th>\n",
       "      <th>FINANZ_UNAUFFAELLIGER</th>\n",
       "      <th>FINANZ_HAUSBAUER</th>\n",
       "      <th>...</th>\n",
       "      <th>PLZ8_ANTG1</th>\n",
       "      <th>PLZ8_ANTG2</th>\n",
       "      <th>PLZ8_ANTG3</th>\n",
       "      <th>PLZ8_ANTG4</th>\n",
       "      <th>PLZ8_BAUMAX</th>\n",
       "      <th>PLZ8_HHZ</th>\n",
       "      <th>PLZ8_GBZ</th>\n",
       "      <th>ARBEIT</th>\n",
       "      <th>ORTSGR_KLS9</th>\n",
       "      <th>RELAT_AB</th>\n",
       "    </tr>\n",
       "  </thead>\n",
       "  <tbody>\n",
       "    <tr>\n",
       "      <th>count</th>\n",
       "      <td>891221.000000</td>\n",
       "      <td>891221.000000</td>\n",
       "      <td>891221.000000</td>\n",
       "      <td>886367.000000</td>\n",
       "      <td>891221.000000</td>\n",
       "      <td>891221.000000</td>\n",
       "      <td>891221.000000</td>\n",
       "      <td>891221.000000</td>\n",
       "      <td>891221.000000</td>\n",
       "      <td>891221.000000</td>\n",
       "      <td>...</td>\n",
       "      <td>774706.000000</td>\n",
       "      <td>774706.000000</td>\n",
       "      <td>774706.000000</td>\n",
       "      <td>774706.000000</td>\n",
       "      <td>774706.000000</td>\n",
       "      <td>774706.000000</td>\n",
       "      <td>774706.000000</td>\n",
       "      <td>794005.000000</td>\n",
       "      <td>794005.000000</td>\n",
       "      <td>794005.00000</td>\n",
       "    </tr>\n",
       "    <tr>\n",
       "      <th>mean</th>\n",
       "      <td>-0.358435</td>\n",
       "      <td>2.777398</td>\n",
       "      <td>1.522098</td>\n",
       "      <td>3.632838</td>\n",
       "      <td>3.074528</td>\n",
       "      <td>2.821039</td>\n",
       "      <td>3.401106</td>\n",
       "      <td>3.033328</td>\n",
       "      <td>2.874167</td>\n",
       "      <td>3.075121</td>\n",
       "      <td>...</td>\n",
       "      <td>2.253330</td>\n",
       "      <td>2.801858</td>\n",
       "      <td>1.595426</td>\n",
       "      <td>0.699166</td>\n",
       "      <td>1.943913</td>\n",
       "      <td>3.612821</td>\n",
       "      <td>3.381087</td>\n",
       "      <td>3.167854</td>\n",
       "      <td>5.293002</td>\n",
       "      <td>3.07222</td>\n",
       "    </tr>\n",
       "    <tr>\n",
       "      <th>std</th>\n",
       "      <td>1.198724</td>\n",
       "      <td>1.068775</td>\n",
       "      <td>0.499512</td>\n",
       "      <td>1.595021</td>\n",
       "      <td>1.321055</td>\n",
       "      <td>1.464749</td>\n",
       "      <td>1.322134</td>\n",
       "      <td>1.529603</td>\n",
       "      <td>1.486731</td>\n",
       "      <td>1.353248</td>\n",
       "      <td>...</td>\n",
       "      <td>0.972008</td>\n",
       "      <td>0.920309</td>\n",
       "      <td>0.986736</td>\n",
       "      <td>0.727137</td>\n",
       "      <td>1.459654</td>\n",
       "      <td>0.973967</td>\n",
       "      <td>1.111598</td>\n",
       "      <td>1.002376</td>\n",
       "      <td>2.303739</td>\n",
       "      <td>1.36298</td>\n",
       "    </tr>\n",
       "    <tr>\n",
       "      <th>min</th>\n",
       "      <td>-1.000000</td>\n",
       "      <td>1.000000</td>\n",
       "      <td>1.000000</td>\n",
       "      <td>1.000000</td>\n",
       "      <td>1.000000</td>\n",
       "      <td>1.000000</td>\n",
       "      <td>1.000000</td>\n",
       "      <td>1.000000</td>\n",
       "      <td>1.000000</td>\n",
       "      <td>1.000000</td>\n",
       "      <td>...</td>\n",
       "      <td>0.000000</td>\n",
       "      <td>0.000000</td>\n",
       "      <td>0.000000</td>\n",
       "      <td>0.000000</td>\n",
       "      <td>1.000000</td>\n",
       "      <td>1.000000</td>\n",
       "      <td>1.000000</td>\n",
       "      <td>1.000000</td>\n",
       "      <td>0.000000</td>\n",
       "      <td>1.00000</td>\n",
       "    </tr>\n",
       "    <tr>\n",
       "      <th>25%</th>\n",
       "      <td>-1.000000</td>\n",
       "      <td>2.000000</td>\n",
       "      <td>1.000000</td>\n",
       "      <td>2.000000</td>\n",
       "      <td>2.000000</td>\n",
       "      <td>1.000000</td>\n",
       "      <td>3.000000</td>\n",
       "      <td>2.000000</td>\n",
       "      <td>2.000000</td>\n",
       "      <td>2.000000</td>\n",
       "      <td>...</td>\n",
       "      <td>1.000000</td>\n",
       "      <td>2.000000</td>\n",
       "      <td>1.000000</td>\n",
       "      <td>0.000000</td>\n",
       "      <td>1.000000</td>\n",
       "      <td>3.000000</td>\n",
       "      <td>3.000000</td>\n",
       "      <td>3.000000</td>\n",
       "      <td>4.000000</td>\n",
       "      <td>2.00000</td>\n",
       "    </tr>\n",
       "    <tr>\n",
       "      <th>50%</th>\n",
       "      <td>-1.000000</td>\n",
       "      <td>3.000000</td>\n",
       "      <td>2.000000</td>\n",
       "      <td>4.000000</td>\n",
       "      <td>3.000000</td>\n",
       "      <td>3.000000</td>\n",
       "      <td>3.000000</td>\n",
       "      <td>3.000000</td>\n",
       "      <td>3.000000</td>\n",
       "      <td>3.000000</td>\n",
       "      <td>...</td>\n",
       "      <td>2.000000</td>\n",
       "      <td>3.000000</td>\n",
       "      <td>2.000000</td>\n",
       "      <td>1.000000</td>\n",
       "      <td>1.000000</td>\n",
       "      <td>4.000000</td>\n",
       "      <td>3.000000</td>\n",
       "      <td>3.000000</td>\n",
       "      <td>5.000000</td>\n",
       "      <td>3.00000</td>\n",
       "    </tr>\n",
       "    <tr>\n",
       "      <th>75%</th>\n",
       "      <td>-1.000000</td>\n",
       "      <td>4.000000</td>\n",
       "      <td>2.000000</td>\n",
       "      <td>5.000000</td>\n",
       "      <td>4.000000</td>\n",
       "      <td>4.000000</td>\n",
       "      <td>5.000000</td>\n",
       "      <td>5.000000</td>\n",
       "      <td>4.000000</td>\n",
       "      <td>4.000000</td>\n",
       "      <td>...</td>\n",
       "      <td>3.000000</td>\n",
       "      <td>3.000000</td>\n",
       "      <td>2.000000</td>\n",
       "      <td>1.000000</td>\n",
       "      <td>3.000000</td>\n",
       "      <td>4.000000</td>\n",
       "      <td>4.000000</td>\n",
       "      <td>4.000000</td>\n",
       "      <td>7.000000</td>\n",
       "      <td>4.00000</td>\n",
       "    </tr>\n",
       "    <tr>\n",
       "      <th>max</th>\n",
       "      <td>3.000000</td>\n",
       "      <td>9.000000</td>\n",
       "      <td>2.000000</td>\n",
       "      <td>6.000000</td>\n",
       "      <td>5.000000</td>\n",
       "      <td>5.000000</td>\n",
       "      <td>5.000000</td>\n",
       "      <td>5.000000</td>\n",
       "      <td>5.000000</td>\n",
       "      <td>5.000000</td>\n",
       "      <td>...</td>\n",
       "      <td>4.000000</td>\n",
       "      <td>4.000000</td>\n",
       "      <td>3.000000</td>\n",
       "      <td>2.000000</td>\n",
       "      <td>5.000000</td>\n",
       "      <td>5.000000</td>\n",
       "      <td>5.000000</td>\n",
       "      <td>9.000000</td>\n",
       "      <td>9.000000</td>\n",
       "      <td>9.00000</td>\n",
       "    </tr>\n",
       "  </tbody>\n",
       "</table>\n",
       "<p>8 rows × 81 columns</p>\n",
       "</div>"
      ],
      "text/plain": [
       "            AGER_TYP  ALTERSKATEGORIE_GROB      ANREDE_KZ  CJT_GESAMTTYP  \\\n",
       "count  891221.000000         891221.000000  891221.000000  886367.000000   \n",
       "mean       -0.358435              2.777398       1.522098       3.632838   \n",
       "std         1.198724              1.068775       0.499512       1.595021   \n",
       "min        -1.000000              1.000000       1.000000       1.000000   \n",
       "25%        -1.000000              2.000000       1.000000       2.000000   \n",
       "50%        -1.000000              3.000000       2.000000       4.000000   \n",
       "75%        -1.000000              4.000000       2.000000       5.000000   \n",
       "max         3.000000              9.000000       2.000000       6.000000   \n",
       "\n",
       "       FINANZ_MINIMALIST  FINANZ_SPARER  FINANZ_VORSORGER  FINANZ_ANLEGER  \\\n",
       "count      891221.000000  891221.000000     891221.000000   891221.000000   \n",
       "mean            3.074528       2.821039          3.401106        3.033328   \n",
       "std             1.321055       1.464749          1.322134        1.529603   \n",
       "min             1.000000       1.000000          1.000000        1.000000   \n",
       "25%             2.000000       1.000000          3.000000        2.000000   \n",
       "50%             3.000000       3.000000          3.000000        3.000000   \n",
       "75%             4.000000       4.000000          5.000000        5.000000   \n",
       "max             5.000000       5.000000          5.000000        5.000000   \n",
       "\n",
       "       FINANZ_UNAUFFAELLIGER  FINANZ_HAUSBAUER      ...          PLZ8_ANTG1  \\\n",
       "count          891221.000000     891221.000000      ...       774706.000000   \n",
       "mean                2.874167          3.075121      ...            2.253330   \n",
       "std                 1.486731          1.353248      ...            0.972008   \n",
       "min                 1.000000          1.000000      ...            0.000000   \n",
       "25%                 2.000000          2.000000      ...            1.000000   \n",
       "50%                 3.000000          3.000000      ...            2.000000   \n",
       "75%                 4.000000          4.000000      ...            3.000000   \n",
       "max                 5.000000          5.000000      ...            4.000000   \n",
       "\n",
       "          PLZ8_ANTG2     PLZ8_ANTG3     PLZ8_ANTG4    PLZ8_BAUMAX  \\\n",
       "count  774706.000000  774706.000000  774706.000000  774706.000000   \n",
       "mean        2.801858       1.595426       0.699166       1.943913   \n",
       "std         0.920309       0.986736       0.727137       1.459654   \n",
       "min         0.000000       0.000000       0.000000       1.000000   \n",
       "25%         2.000000       1.000000       0.000000       1.000000   \n",
       "50%         3.000000       2.000000       1.000000       1.000000   \n",
       "75%         3.000000       2.000000       1.000000       3.000000   \n",
       "max         4.000000       3.000000       2.000000       5.000000   \n",
       "\n",
       "            PLZ8_HHZ       PLZ8_GBZ         ARBEIT    ORTSGR_KLS9  \\\n",
       "count  774706.000000  774706.000000  794005.000000  794005.000000   \n",
       "mean        3.612821       3.381087       3.167854       5.293002   \n",
       "std         0.973967       1.111598       1.002376       2.303739   \n",
       "min         1.000000       1.000000       1.000000       0.000000   \n",
       "25%         3.000000       3.000000       3.000000       4.000000   \n",
       "50%         4.000000       3.000000       3.000000       5.000000   \n",
       "75%         4.000000       4.000000       4.000000       7.000000   \n",
       "max         5.000000       5.000000       9.000000       9.000000   \n",
       "\n",
       "           RELAT_AB  \n",
       "count  794005.00000  \n",
       "mean        3.07222  \n",
       "std         1.36298  \n",
       "min         1.00000  \n",
       "25%         2.00000  \n",
       "50%         3.00000  \n",
       "75%         4.00000  \n",
       "max         9.00000  \n",
       "\n",
       "[8 rows x 81 columns]"
      ]
     },
     "execution_count": 5,
     "metadata": {},
     "output_type": "execute_result"
    }
   ],
   "source": [
    "azdias.describe()"
   ]
  },
  {
   "cell_type": "code",
   "execution_count": 6,
   "metadata": {},
   "outputs": [
    {
     "data": {
      "text/html": [
       "<div>\n",
       "<style scoped>\n",
       "    .dataframe tbody tr th:only-of-type {\n",
       "        vertical-align: middle;\n",
       "    }\n",
       "\n",
       "    .dataframe tbody tr th {\n",
       "        vertical-align: top;\n",
       "    }\n",
       "\n",
       "    .dataframe thead th {\n",
       "        text-align: right;\n",
       "    }\n",
       "</style>\n",
       "<table border=\"1\" class=\"dataframe\">\n",
       "  <thead>\n",
       "    <tr style=\"text-align: right;\">\n",
       "      <th></th>\n",
       "      <th>attribute</th>\n",
       "      <th>information_level</th>\n",
       "      <th>type</th>\n",
       "      <th>missing_or_unknown</th>\n",
       "    </tr>\n",
       "  </thead>\n",
       "  <tbody>\n",
       "    <tr>\n",
       "      <th>0</th>\n",
       "      <td>AGER_TYP</td>\n",
       "      <td>person</td>\n",
       "      <td>categorical</td>\n",
       "      <td>[-1,0]</td>\n",
       "    </tr>\n",
       "    <tr>\n",
       "      <th>1</th>\n",
       "      <td>ALTERSKATEGORIE_GROB</td>\n",
       "      <td>person</td>\n",
       "      <td>ordinal</td>\n",
       "      <td>[-1,0,9]</td>\n",
       "    </tr>\n",
       "    <tr>\n",
       "      <th>2</th>\n",
       "      <td>ANREDE_KZ</td>\n",
       "      <td>person</td>\n",
       "      <td>categorical</td>\n",
       "      <td>[-1,0]</td>\n",
       "    </tr>\n",
       "    <tr>\n",
       "      <th>3</th>\n",
       "      <td>CJT_GESAMTTYP</td>\n",
       "      <td>person</td>\n",
       "      <td>categorical</td>\n",
       "      <td>[0]</td>\n",
       "    </tr>\n",
       "    <tr>\n",
       "      <th>4</th>\n",
       "      <td>FINANZ_MINIMALIST</td>\n",
       "      <td>person</td>\n",
       "      <td>ordinal</td>\n",
       "      <td>[-1]</td>\n",
       "    </tr>\n",
       "  </tbody>\n",
       "</table>\n",
       "</div>"
      ],
      "text/plain": [
       "              attribute information_level         type missing_or_unknown\n",
       "0              AGER_TYP            person  categorical             [-1,0]\n",
       "1  ALTERSKATEGORIE_GROB            person      ordinal           [-1,0,9]\n",
       "2             ANREDE_KZ            person  categorical             [-1,0]\n",
       "3         CJT_GESAMTTYP            person  categorical                [0]\n",
       "4     FINANZ_MINIMALIST            person      ordinal               [-1]"
      ]
     },
     "execution_count": 6,
     "metadata": {},
     "output_type": "execute_result"
    }
   ],
   "source": [
    "feat_info.head()\n"
   ]
  },
  {
   "cell_type": "code",
   "execution_count": 7,
   "metadata": {},
   "outputs": [
    {
     "data": {
      "text/plain": [
       "pandas.core.frame.DataFrame"
      ]
     },
     "execution_count": 7,
     "metadata": {},
     "output_type": "execute_result"
    }
   ],
   "source": [
    "type(feat_info)"
   ]
  },
  {
   "cell_type": "code",
   "execution_count": 8,
   "metadata": {},
   "outputs": [
    {
     "data": {
      "text/plain": [
       "pandas.core.series.Series"
      ]
     },
     "execution_count": 8,
     "metadata": {},
     "output_type": "execute_result"
    }
   ],
   "source": [
    "type(feat_info['missing_or_unknown'])"
   ]
  },
  {
   "cell_type": "code",
   "execution_count": 9,
   "metadata": {},
   "outputs": [],
   "source": [
    "feat_info_copy = feat_info.copy()"
   ]
  },
  {
   "cell_type": "code",
   "execution_count": 10,
   "metadata": {},
   "outputs": [],
   "source": [
    "azdias_copy = azdias.copy()"
   ]
  },
  {
   "cell_type": "code",
   "execution_count": 11,
   "metadata": {},
   "outputs": [
    {
     "data": {
      "text/plain": [
       "pandas.core.frame.DataFrame"
      ]
     },
     "execution_count": 11,
     "metadata": {},
     "output_type": "execute_result"
    }
   ],
   "source": [
    "type(feat_info_copy)\n"
   ]
  },
  {
   "cell_type": "markdown",
   "metadata": {},
   "source": [
    "> **Tip**: Add additional cells to keep everything in reasonably-sized chunks! Keyboard shortcut `esc --> a` (press escape to enter command mode, then press the 'A' key) adds a new cell before the active cell, and `esc --> b` adds a new cell after the active cell. If you need to convert an active cell to a markdown cell, use `esc --> m` and to convert to a code cell, use `esc --> y`. \n",
    "\n",
    "## Step 1: Preprocessing\n",
    "\n",
    "### Step 1.1: Assess Missing Data\n",
    "\n",
    "The feature summary file contains a summary of properties for each demographics data column. You will use this file to help you make cleaning decisions during this stage of the project. First of all, you should assess the demographics data in terms of missing data. Pay attention to the following points as you perform your analysis, and take notes on what you observe. Make sure that you fill in the **Discussion** cell with your findings and decisions at the end of each step that has one!\n",
    "\n",
    "#### Step 1.1.1: Convert Missing Value Codes to NaNs\n",
    "The fourth column of the feature attributes summary (loaded in above as `feat_info`) documents the codes from the data dictionary that indicate missing or unknown data. While the file encodes this as a list (e.g. `[-1,0]`), this will get read in as a string object. You'll need to do a little bit of parsing to make use of it to identify and clean the data. Convert data that matches a 'missing' or 'unknown' value code into a numpy NaN value. You might want to see how much data takes on a 'missing' or 'unknown' code, and how much data is naturally missing, as a point of interest.\n",
    "\n",
    "**As one more reminder, you are encouraged to add additional cells to break up your analysis into manageable chunks.**"
   ]
  },
  {
   "cell_type": "code",
   "execution_count": 12,
   "metadata": {},
   "outputs": [
    {
     "data": {
      "text/plain": [
       "4896838"
      ]
     },
     "execution_count": 12,
     "metadata": {},
     "output_type": "execute_result"
    }
   ],
   "source": [
    "azdias_copy.isnull().sum().sum()\n"
   ]
  },
  {
   "cell_type": "code",
   "execution_count": 13,
   "metadata": {},
   "outputs": [
    {
     "data": {
      "text/plain": [
       "'[-1,0]'"
      ]
     },
     "execution_count": 13,
     "metadata": {},
     "output_type": "execute_result"
    }
   ],
   "source": [
    "feat_info_copy.missing_or_unknown.iloc[0]\n"
   ]
  },
  {
   "cell_type": "code",
   "execution_count": 14,
   "metadata": {},
   "outputs": [],
   "source": [
    "feat_info_copy['missing_or_unknown'] = feat_info_copy['missing_or_unknown'].str.strip('[').str.strip(']').str.split(',').values\n"
   ]
  },
  {
   "cell_type": "code",
   "execution_count": 15,
   "metadata": {},
   "outputs": [
    {
     "data": {
      "text/plain": [
       "pandas.core.frame.DataFrame"
      ]
     },
     "execution_count": 15,
     "metadata": {},
     "output_type": "execute_result"
    }
   ],
   "source": [
    "type(feat_info_copy)\n"
   ]
  },
  {
   "cell_type": "code",
   "execution_count": 16,
   "metadata": {},
   "outputs": [
    {
     "data": {
      "text/plain": [
       "pandas.core.series.Series"
      ]
     },
     "execution_count": 16,
     "metadata": {},
     "output_type": "execute_result"
    }
   ],
   "source": [
    "type(feat_info_copy['missing_or_unknown'])\n"
   ]
  },
  {
   "cell_type": "code",
   "execution_count": 17,
   "metadata": {},
   "outputs": [],
   "source": [
    "feat_info_copy.set_index(['attribute'], inplace=True)"
   ]
  },
  {
   "cell_type": "code",
   "execution_count": 18,
   "metadata": {},
   "outputs": [
    {
     "name": "stdout",
     "output_type": "stream",
     "text": [
      "AGER_TYP\n",
      "['-1', '0']\n",
      "ALTERSKATEGORIE_GROB\n",
      "['-1', '0', '9']\n",
      "ANREDE_KZ\n",
      "['-1', '0']\n",
      "CJT_GESAMTTYP\n",
      "['0']\n",
      "FINANZ_MINIMALIST\n",
      "['-1']\n",
      "FINANZ_SPARER\n",
      "['-1']\n",
      "FINANZ_VORSORGER\n",
      "['-1']\n",
      "FINANZ_ANLEGER\n",
      "['-1']\n",
      "FINANZ_UNAUFFAELLIGER\n",
      "['-1']\n",
      "FINANZ_HAUSBAUER\n",
      "['-1']\n",
      "FINANZTYP\n",
      "['-1']\n",
      "GEBURTSJAHR\n",
      "['0']\n",
      "GFK_URLAUBERTYP\n",
      "['']\n",
      "GREEN_AVANTGARDE\n",
      "['']\n",
      "HEALTH_TYP\n",
      "['-1', '0']\n",
      "LP_LEBENSPHASE_FEIN\n",
      "['0']\n",
      "LP_LEBENSPHASE_GROB\n",
      "['0']\n",
      "LP_FAMILIE_FEIN\n",
      "['0']\n",
      "LP_FAMILIE_GROB\n",
      "['0']\n",
      "LP_STATUS_FEIN\n",
      "['0']\n",
      "LP_STATUS_GROB\n",
      "['0']\n",
      "NATIONALITAET_KZ\n",
      "['-1', '0']\n",
      "PRAEGENDE_JUGENDJAHRE\n",
      "['-1', '0']\n",
      "RETOURTYP_BK_S\n",
      "['0']\n",
      "SEMIO_SOZ\n",
      "['-1', '9']\n",
      "SEMIO_FAM\n",
      "['-1', '9']\n",
      "SEMIO_REL\n",
      "['-1', '9']\n",
      "SEMIO_MAT\n",
      "['-1', '9']\n",
      "SEMIO_VERT\n",
      "['-1', '9']\n",
      "SEMIO_LUST\n",
      "['-1', '9']\n",
      "SEMIO_ERL\n",
      "['-1', '9']\n",
      "SEMIO_KULT\n",
      "['-1', '9']\n",
      "SEMIO_RAT\n",
      "['-1', '9']\n",
      "SEMIO_KRIT\n",
      "['-1', '9']\n",
      "SEMIO_DOM\n",
      "['-1', '9']\n",
      "SEMIO_KAEM\n",
      "['-1', '9']\n",
      "SEMIO_PFLICHT\n",
      "['-1', '9']\n",
      "SEMIO_TRADV\n",
      "['-1', '9']\n",
      "SHOPPER_TYP\n",
      "['-1']\n",
      "SOHO_KZ\n",
      "['-1']\n",
      "TITEL_KZ\n",
      "['-1', '0']\n",
      "VERS_TYP\n",
      "['-1']\n",
      "ZABEOTYP\n",
      "['-1', '9']\n",
      "ALTER_HH\n",
      "['0']\n",
      "ANZ_PERSONEN\n",
      "['']\n",
      "ANZ_TITEL\n",
      "['']\n",
      "HH_EINKOMMEN_SCORE\n",
      "['-1', '0']\n",
      "KK_KUNDENTYP\n",
      "['-1']\n",
      "W_KEIT_KIND_HH\n",
      "['-1', '0']\n",
      "WOHNDAUER_2008\n",
      "['-1', '0']\n",
      "ANZ_HAUSHALTE_AKTIV\n",
      "['0']\n",
      "ANZ_HH_TITEL\n",
      "['']\n",
      "GEBAEUDETYP\n",
      "['-1', '0']\n",
      "KONSUMNAEHE\n",
      "['']\n",
      "MIN_GEBAEUDEJAHR\n",
      "['0']\n",
      "OST_WEST_KZ\n",
      "['-1']\n",
      "WOHNLAGE\n",
      "['-1']\n",
      "CAMEO_DEUG_2015\n",
      "['-1', 'X']\n",
      "CAMEO_DEU_2015\n",
      "['XX']\n",
      "CAMEO_INTL_2015\n",
      "['-1', 'XX']\n",
      "KBA05_ANTG1\n",
      "['-1']\n",
      "KBA05_ANTG2\n",
      "['-1']\n",
      "KBA05_ANTG3\n",
      "['-1']\n",
      "KBA05_ANTG4\n",
      "['-1']\n",
      "KBA05_BAUMAX\n",
      "['-1', '0']\n",
      "KBA05_GBZ\n",
      "['-1', '0']\n",
      "BALLRAUM\n",
      "['-1']\n",
      "EWDICHTE\n",
      "['-1']\n",
      "INNENSTADT\n",
      "['-1']\n",
      "GEBAEUDETYP_RASTER\n",
      "['']\n",
      "KKK\n",
      "['-1', '0']\n",
      "MOBI_REGIO\n",
      "['']\n",
      "ONLINE_AFFINITAET\n",
      "['']\n",
      "REGIOTYP\n",
      "['-1', '0']\n",
      "KBA13_ANZAHL_PKW\n",
      "['']\n",
      "PLZ8_ANTG1\n",
      "['-1']\n",
      "PLZ8_ANTG2\n",
      "['-1']\n",
      "PLZ8_ANTG3\n",
      "['-1']\n",
      "PLZ8_ANTG4\n",
      "['-1']\n",
      "PLZ8_BAUMAX\n",
      "['-1', '0']\n",
      "PLZ8_HHZ\n",
      "['-1']\n",
      "PLZ8_GBZ\n",
      "['-1']\n",
      "ARBEIT\n",
      "['-1', '9']\n",
      "ORTSGR_KLS9\n",
      "['-1', '0']\n",
      "RELAT_AB\n",
      "['-1', '9']\n"
     ]
    }
   ],
   "source": [
    "for lab , row  in feat_info_copy.iterrows():\n",
    "    print(lab)\n",
    "    print(row['missing_or_unknown'])\n",
    "    d=row['missing_or_unknown']\n",
    "    for i in range(len(d)): \n",
    "        if ( d[i] != 'X'and d[i] != 'XX'and d[i] != '' ):\n",
    "             d[i] = int(d[i]) \n",
    "        else:\n",
    "             d[i] = d[i]\n"
   ]
  },
  {
   "cell_type": "code",
   "execution_count": 19,
   "metadata": {},
   "outputs": [
    {
     "name": "stdout",
     "output_type": "stream",
     "text": [
      "AGER_TYP\n",
      "[-1, 0]\n",
      "ALTERSKATEGORIE_GROB\n",
      "[-1, 0, 9]\n",
      "ANREDE_KZ\n",
      "[-1, 0]\n",
      "CJT_GESAMTTYP\n",
      "[0]\n",
      "FINANZ_MINIMALIST\n",
      "[-1]\n",
      "FINANZ_SPARER\n",
      "[-1]\n",
      "FINANZ_VORSORGER\n",
      "[-1]\n",
      "FINANZ_ANLEGER\n",
      "[-1]\n",
      "FINANZ_UNAUFFAELLIGER\n",
      "[-1]\n",
      "FINANZ_HAUSBAUER\n",
      "[-1]\n",
      "FINANZTYP\n",
      "[-1]\n",
      "GEBURTSJAHR\n",
      "[0]\n",
      "GFK_URLAUBERTYP\n",
      "['']\n",
      "GREEN_AVANTGARDE\n",
      "['']\n",
      "HEALTH_TYP\n",
      "[-1, 0]\n",
      "LP_LEBENSPHASE_FEIN\n",
      "[0]\n",
      "LP_LEBENSPHASE_GROB\n",
      "[0]\n",
      "LP_FAMILIE_FEIN\n",
      "[0]\n",
      "LP_FAMILIE_GROB\n",
      "[0]\n",
      "LP_STATUS_FEIN\n",
      "[0]\n",
      "LP_STATUS_GROB\n",
      "[0]\n",
      "NATIONALITAET_KZ\n",
      "[-1, 0]\n",
      "PRAEGENDE_JUGENDJAHRE\n",
      "[-1, 0]\n",
      "RETOURTYP_BK_S\n",
      "[0]\n",
      "SEMIO_SOZ\n",
      "[-1, 9]\n",
      "SEMIO_FAM\n",
      "[-1, 9]\n",
      "SEMIO_REL\n",
      "[-1, 9]\n",
      "SEMIO_MAT\n",
      "[-1, 9]\n",
      "SEMIO_VERT\n",
      "[-1, 9]\n",
      "SEMIO_LUST\n",
      "[-1, 9]\n",
      "SEMIO_ERL\n",
      "[-1, 9]\n",
      "SEMIO_KULT\n",
      "[-1, 9]\n",
      "SEMIO_RAT\n",
      "[-1, 9]\n",
      "SEMIO_KRIT\n",
      "[-1, 9]\n",
      "SEMIO_DOM\n",
      "[-1, 9]\n",
      "SEMIO_KAEM\n",
      "[-1, 9]\n",
      "SEMIO_PFLICHT\n",
      "[-1, 9]\n",
      "SEMIO_TRADV\n",
      "[-1, 9]\n",
      "SHOPPER_TYP\n",
      "[-1]\n",
      "SOHO_KZ\n",
      "[-1]\n",
      "TITEL_KZ\n",
      "[-1, 0]\n",
      "VERS_TYP\n",
      "[-1]\n",
      "ZABEOTYP\n",
      "[-1, 9]\n",
      "ALTER_HH\n",
      "[0]\n",
      "ANZ_PERSONEN\n",
      "['']\n",
      "ANZ_TITEL\n",
      "['']\n",
      "HH_EINKOMMEN_SCORE\n",
      "[-1, 0]\n",
      "KK_KUNDENTYP\n",
      "[-1]\n",
      "W_KEIT_KIND_HH\n",
      "[-1, 0]\n",
      "WOHNDAUER_2008\n",
      "[-1, 0]\n",
      "ANZ_HAUSHALTE_AKTIV\n",
      "[0]\n",
      "ANZ_HH_TITEL\n",
      "['']\n",
      "GEBAEUDETYP\n",
      "[-1, 0]\n",
      "KONSUMNAEHE\n",
      "['']\n",
      "MIN_GEBAEUDEJAHR\n",
      "[0]\n",
      "OST_WEST_KZ\n",
      "[-1]\n",
      "WOHNLAGE\n",
      "[-1]\n",
      "CAMEO_DEUG_2015\n",
      "[-1, 'X']\n",
      "CAMEO_DEU_2015\n",
      "['XX']\n",
      "CAMEO_INTL_2015\n",
      "[-1, 'XX']\n",
      "KBA05_ANTG1\n",
      "[-1]\n",
      "KBA05_ANTG2\n",
      "[-1]\n",
      "KBA05_ANTG3\n",
      "[-1]\n",
      "KBA05_ANTG4\n",
      "[-1]\n",
      "KBA05_BAUMAX\n",
      "[-1, 0]\n",
      "KBA05_GBZ\n",
      "[-1, 0]\n",
      "BALLRAUM\n",
      "[-1]\n",
      "EWDICHTE\n",
      "[-1]\n",
      "INNENSTADT\n",
      "[-1]\n",
      "GEBAEUDETYP_RASTER\n",
      "['']\n",
      "KKK\n",
      "[-1, 0]\n",
      "MOBI_REGIO\n",
      "['']\n",
      "ONLINE_AFFINITAET\n",
      "['']\n",
      "REGIOTYP\n",
      "[-1, 0]\n",
      "KBA13_ANZAHL_PKW\n",
      "['']\n",
      "PLZ8_ANTG1\n",
      "[-1]\n",
      "PLZ8_ANTG2\n",
      "[-1]\n",
      "PLZ8_ANTG3\n",
      "[-1]\n",
      "PLZ8_ANTG4\n",
      "[-1]\n",
      "PLZ8_BAUMAX\n",
      "[-1, 0]\n",
      "PLZ8_HHZ\n",
      "[-1]\n",
      "PLZ8_GBZ\n",
      "[-1]\n",
      "ARBEIT\n",
      "[-1, 9]\n",
      "ORTSGR_KLS9\n",
      "[-1, 0]\n",
      "RELAT_AB\n",
      "[-1, 9]\n"
     ]
    }
   ],
   "source": [
    "for lab , row  in feat_info_copy.iterrows():\n",
    "    print(lab)\n",
    "    print(row['missing_or_unknown'])"
   ]
  },
  {
   "cell_type": "code",
   "execution_count": 20,
   "metadata": {},
   "outputs": [],
   "source": [
    "# Identify missing or unknown data values and convert them to NaNs.\n",
    "\n",
    "for lab2 , row  in feat_info_copy.iterrows():\n",
    "   \n",
    "    d=row['missing_or_unknown']\n",
    "\n",
    "    for s in d:\n",
    "            azdias_copy[lab2].replace(s, np.NaN, inplace=True)"
   ]
  },
  {
   "cell_type": "code",
   "execution_count": 21,
   "metadata": {},
   "outputs": [
    {
     "data": {
      "text/plain": [
       "8373929"
      ]
     },
     "execution_count": 21,
     "metadata": {},
     "output_type": "execute_result"
    }
   ],
   "source": [
    "azdias_copy.isnull().sum().sum()"
   ]
  },
  {
   "cell_type": "markdown",
   "metadata": {},
   "source": [
    "#### Step 1.1.2: Assess Missing Data in Each Column\n",
    "\n",
    "How much missing data is present in each column? There are a few columns that are outliers in terms of the proportion of values that are missing. You will want to use matplotlib's [`hist()`](https://matplotlib.org/api/_as_gen/matplotlib.pyplot.hist.html) function to visualize the distribution of missing value counts to find these columns. Identify and document these columns. While some of these columns might have justifications for keeping or re-encoding the data, for this project you should just remove them from the dataframe. (Feel free to make remarks about these outlier columns in the discussion, however!)\n",
    "\n",
    "For the remaining features, are there any patterns in which columns have, or share, missing data?"
   ]
  },
  {
   "cell_type": "code",
   "execution_count": 22,
   "metadata": {},
   "outputs": [
    {
     "data": {
      "image/png": "[encoded data removed]",
      "text/plain": [
       "<matplotlib.figure.Figure at 0x7f054488cc50>"
      ]
     },
     "metadata": {
      "needs_background": "light"
     },
     "output_type": "display_data"
    }
   ],
   "source": [
    "# Perform an assessment of how much missing data there is in each column of the\n",
    "# dataset.\n",
    "\n",
    "column_isnull = azdias_copy.isnull().sum().sort_values()\n",
    "\n",
    "plt.hist(column_isnull.sort_values(), bins=86);"
   ]
  },
  {
   "cell_type": "code",
   "execution_count": 25,
   "metadata": {},
   "outputs": [
    {
     "data": {
      "image/png": "[encoded data removed]",
      "text/plain": [
       "<matplotlib.figure.Figure at 0x7fcf1438fda0>"
      ]
     },
     "metadata": {
      "needs_background": "light"
     },
     "output_type": "display_data"
    }
   ],
   "source": [
    "azdias_copy.isnull().sum().sort_values(ascending = False).plot(figsize=(35, 35),kind='bar');"
   ]
  },
  {
   "cell_type": "code",
   "execution_count": 23,
   "metadata": {},
   "outputs": [
    {
     "data": {
      "text/plain": [
       "['AGER_TYP', 'TITEL_KZ', 'KK_KUNDENTYP', 'KBA05_BAUMAX']"
      ]
     },
     "execution_count": 23,
     "metadata": {},
     "output_type": "execute_result"
    }
   ],
   "source": [
    "# Investigate patterns in the amount of missing data in each column.\n",
    "azdias_drop_column = azdias_copy.columns[azdias_copy.isnull().mean() >0.50].tolist()\n",
    "azdias_drop_column"
   ]
  },
  {
   "cell_type": "code",
   "execution_count": 24,
   "metadata": {},
   "outputs": [],
   "source": [
    "d=feat_info[feat_info[\"attribute\"] == \"AGER_TYP\"]"
   ]
  },
  {
   "cell_type": "code",
   "execution_count": 25,
   "metadata": {},
   "outputs": [
    {
     "data": {
      "text/plain": [
       "['AGER_TYP', 'TITEL_KZ', 'KK_KUNDENTYP', 'KBA05_BAUMAX']"
      ]
     },
     "execution_count": 25,
     "metadata": {},
     "output_type": "execute_result"
    }
   ],
   "source": [
    "azdias_drop_column"
   ]
  },
  {
   "cell_type": "code",
   "execution_count": 26,
   "metadata": {},
   "outputs": [],
   "source": [
    "# Remove the outlier columns from the dataset. (You'll perform other data\n",
    "# engineering tasks such as re-encoding and imputation later.)\n",
    "azdias_copy.drop(azdias_drop_column, axis =1,inplace=True)"
   ]
  },
  {
   "cell_type": "code",
   "execution_count": 27,
   "metadata": {},
   "outputs": [
    {
     "data": {
      "text/plain": [
       "(891221, 81)"
      ]
     },
     "execution_count": 27,
     "metadata": {},
     "output_type": "execute_result"
    }
   ],
   "source": [
    "azdias_copy.shape"
   ]
  },
  {
   "cell_type": "code",
   "execution_count": 28,
   "metadata": {},
   "outputs": [
    {
     "data": {
      "text/plain": [
       "[]"
      ]
     },
     "execution_count": 28,
     "metadata": {},
     "output_type": "execute_result"
    }
   ],
   "source": [
    "azdias_drop_column2 = azdias_copy.columns[azdias_copy.isnull().mean() >0.50].tolist()\n",
    "azdias_drop_column2"
   ]
  },
  {
   "cell_type": "code",
   "execution_count": 28,
   "metadata": {},
   "outputs": [
    {
     "data": {
      "text/plain": [
       "(85, 3)"
      ]
     },
     "execution_count": 28,
     "metadata": {},
     "output_type": "execute_result"
    }
   ],
   "source": [
    "feat_info_copy.shape"
   ]
  },
  {
   "cell_type": "code",
   "execution_count": 29,
   "metadata": {},
   "outputs": [
    {
     "data": {
      "text/html": [
       "<div>\n",
       "<style scoped>\n",
       "    .dataframe tbody tr th:only-of-type {\n",
       "        vertical-align: middle;\n",
       "    }\n",
       "\n",
       "    .dataframe tbody tr th {\n",
       "        vertical-align: top;\n",
       "    }\n",
       "\n",
       "    .dataframe thead th {\n",
       "        text-align: right;\n",
       "    }\n",
       "</style>\n",
       "<table border=\"1\" class=\"dataframe\">\n",
       "  <thead>\n",
       "    <tr style=\"text-align: right;\">\n",
       "      <th></th>\n",
       "      <th>information_level</th>\n",
       "      <th>type</th>\n",
       "      <th>missing_or_unknown</th>\n",
       "    </tr>\n",
       "    <tr>\n",
       "      <th>attribute</th>\n",
       "      <th></th>\n",
       "      <th></th>\n",
       "      <th></th>\n",
       "    </tr>\n",
       "  </thead>\n",
       "  <tbody>\n",
       "    <tr>\n",
       "      <th>AGER_TYP</th>\n",
       "      <td>person</td>\n",
       "      <td>categorical</td>\n",
       "      <td>[-1, 0]</td>\n",
       "    </tr>\n",
       "    <tr>\n",
       "      <th>ALTERSKATEGORIE_GROB</th>\n",
       "      <td>person</td>\n",
       "      <td>ordinal</td>\n",
       "      <td>[-1, 0, 9]</td>\n",
       "    </tr>\n",
       "    <tr>\n",
       "      <th>ANREDE_KZ</th>\n",
       "      <td>person</td>\n",
       "      <td>categorical</td>\n",
       "      <td>[-1, 0]</td>\n",
       "    </tr>\n",
       "    <tr>\n",
       "      <th>CJT_GESAMTTYP</th>\n",
       "      <td>person</td>\n",
       "      <td>categorical</td>\n",
       "      <td>[0]</td>\n",
       "    </tr>\n",
       "    <tr>\n",
       "      <th>FINANZ_MINIMALIST</th>\n",
       "      <td>person</td>\n",
       "      <td>ordinal</td>\n",
       "      <td>[-1]</td>\n",
       "    </tr>\n",
       "  </tbody>\n",
       "</table>\n",
       "</div>"
      ],
      "text/plain": [
       "                     information_level         type missing_or_unknown\n",
       "attribute                                                             \n",
       "AGER_TYP                        person  categorical            [-1, 0]\n",
       "ALTERSKATEGORIE_GROB            person      ordinal         [-1, 0, 9]\n",
       "ANREDE_KZ                       person  categorical            [-1, 0]\n",
       "CJT_GESAMTTYP                   person  categorical                [0]\n",
       "FINANZ_MINIMALIST               person      ordinal               [-1]"
      ]
     },
     "execution_count": 29,
     "metadata": {},
     "output_type": "execute_result"
    }
   ],
   "source": [
    "feat_info_copy.head()"
   ]
  },
  {
   "cell_type": "code",
   "execution_count": 30,
   "metadata": {},
   "outputs": [],
   "source": [
    "\n",
    "feat_info_copy.reset_index(['attribute'], inplace=True)"
   ]
  },
  {
   "cell_type": "code",
   "execution_count": 31,
   "metadata": {},
   "outputs": [
    {
     "data": {
      "text/html": [
       "<div>\n",
       "<style scoped>\n",
       "    .dataframe tbody tr th:only-of-type {\n",
       "        vertical-align: middle;\n",
       "    }\n",
       "\n",
       "    .dataframe tbody tr th {\n",
       "        vertical-align: top;\n",
       "    }\n",
       "\n",
       "    .dataframe thead th {\n",
       "        text-align: right;\n",
       "    }\n",
       "</style>\n",
       "<table border=\"1\" class=\"dataframe\">\n",
       "  <thead>\n",
       "    <tr style=\"text-align: right;\">\n",
       "      <th></th>\n",
       "      <th>attribute</th>\n",
       "      <th>information_level</th>\n",
       "      <th>type</th>\n",
       "      <th>missing_or_unknown</th>\n",
       "    </tr>\n",
       "  </thead>\n",
       "  <tbody>\n",
       "    <tr>\n",
       "      <th>0</th>\n",
       "      <td>AGER_TYP</td>\n",
       "      <td>person</td>\n",
       "      <td>categorical</td>\n",
       "      <td>[-1, 0]</td>\n",
       "    </tr>\n",
       "    <tr>\n",
       "      <th>1</th>\n",
       "      <td>ALTERSKATEGORIE_GROB</td>\n",
       "      <td>person</td>\n",
       "      <td>ordinal</td>\n",
       "      <td>[-1, 0, 9]</td>\n",
       "    </tr>\n",
       "    <tr>\n",
       "      <th>2</th>\n",
       "      <td>ANREDE_KZ</td>\n",
       "      <td>person</td>\n",
       "      <td>categorical</td>\n",
       "      <td>[-1, 0]</td>\n",
       "    </tr>\n",
       "    <tr>\n",
       "      <th>3</th>\n",
       "      <td>CJT_GESAMTTYP</td>\n",
       "      <td>person</td>\n",
       "      <td>categorical</td>\n",
       "      <td>[0]</td>\n",
       "    </tr>\n",
       "    <tr>\n",
       "      <th>4</th>\n",
       "      <td>FINANZ_MINIMALIST</td>\n",
       "      <td>person</td>\n",
       "      <td>ordinal</td>\n",
       "      <td>[-1]</td>\n",
       "    </tr>\n",
       "  </tbody>\n",
       "</table>\n",
       "</div>"
      ],
      "text/plain": [
       "              attribute information_level         type missing_or_unknown\n",
       "0              AGER_TYP            person  categorical            [-1, 0]\n",
       "1  ALTERSKATEGORIE_GROB            person      ordinal         [-1, 0, 9]\n",
       "2             ANREDE_KZ            person  categorical            [-1, 0]\n",
       "3         CJT_GESAMTTYP            person  categorical                [0]\n",
       "4     FINANZ_MINIMALIST            person      ordinal               [-1]"
      ]
     },
     "execution_count": 31,
     "metadata": {},
     "output_type": "execute_result"
    }
   ],
   "source": [
    "feat_info_copy.head()"
   ]
  },
  {
   "cell_type": "code",
   "execution_count": 32,
   "metadata": {},
   "outputs": [
    {
     "data": {
      "text/plain": [
       "(85, 4)"
      ]
     },
     "execution_count": 32,
     "metadata": {},
     "output_type": "execute_result"
    }
   ],
   "source": [
    "feat_info_copy.shape"
   ]
  },
  {
   "cell_type": "code",
   "execution_count": 33,
   "metadata": {},
   "outputs": [
    {
     "data": {
      "text/plain": [
       "0                  AGER_TYP\n",
       "1      ALTERSKATEGORIE_GROB\n",
       "2                 ANREDE_KZ\n",
       "3             CJT_GESAMTTYP\n",
       "4         FINANZ_MINIMALIST\n",
       "5             FINANZ_SPARER\n",
       "6          FINANZ_VORSORGER\n",
       "7            FINANZ_ANLEGER\n",
       "8     FINANZ_UNAUFFAELLIGER\n",
       "9          FINANZ_HAUSBAUER\n",
       "10                FINANZTYP\n",
       "11              GEBURTSJAHR\n",
       "12          GFK_URLAUBERTYP\n",
       "13         GREEN_AVANTGARDE\n",
       "14               HEALTH_TYP\n",
       "15      LP_LEBENSPHASE_FEIN\n",
       "16      LP_LEBENSPHASE_GROB\n",
       "17          LP_FAMILIE_FEIN\n",
       "18          LP_FAMILIE_GROB\n",
       "19           LP_STATUS_FEIN\n",
       "20           LP_STATUS_GROB\n",
       "21         NATIONALITAET_KZ\n",
       "22    PRAEGENDE_JUGENDJAHRE\n",
       "23           RETOURTYP_BK_S\n",
       "24                SEMIO_SOZ\n",
       "25                SEMIO_FAM\n",
       "26                SEMIO_REL\n",
       "27                SEMIO_MAT\n",
       "28               SEMIO_VERT\n",
       "29               SEMIO_LUST\n",
       "              ...          \n",
       "55              OST_WEST_KZ\n",
       "56                 WOHNLAGE\n",
       "57          CAMEO_DEUG_2015\n",
       "58           CAMEO_DEU_2015\n",
       "59          CAMEO_INTL_2015\n",
       "60              KBA05_ANTG1\n",
       "61              KBA05_ANTG2\n",
       "62              KBA05_ANTG3\n",
       "63              KBA05_ANTG4\n",
       "64             KBA05_BAUMAX\n",
       "65                KBA05_GBZ\n",
       "66                 BALLRAUM\n",
       "67                 EWDICHTE\n",
       "68               INNENSTADT\n",
       "69       GEBAEUDETYP_RASTER\n",
       "70                      KKK\n",
       "71               MOBI_REGIO\n",
       "72        ONLINE_AFFINITAET\n",
       "73                 REGIOTYP\n",
       "74         KBA13_ANZAHL_PKW\n",
       "75               PLZ8_ANTG1\n",
       "76               PLZ8_ANTG2\n",
       "77               PLZ8_ANTG3\n",
       "78               PLZ8_ANTG4\n",
       "79              PLZ8_BAUMAX\n",
       "80                 PLZ8_HHZ\n",
       "81                 PLZ8_GBZ\n",
       "82                   ARBEIT\n",
       "83              ORTSGR_KLS9\n",
       "84                 RELAT_AB\n",
       "Name: attribute, Length: 85, dtype: object"
      ]
     },
     "execution_count": 33,
     "metadata": {},
     "output_type": "execute_result"
    }
   ],
   "source": [
    "feat_info_copy[\"attribute\"]"
   ]
  },
  {
   "cell_type": "code",
   "execution_count": 34,
   "metadata": {},
   "outputs": [],
   "source": [
    "\n",
    "for azdias_drop_column in azdias_drop_column:\n",
    "    \n",
    "    drop_feat_info = feat_info[feat_info[\"attribute\"] == azdias_drop_column].index[0]\n",
    "    feat_info_copy.drop(drop_feat_info,axis = 0,inplace=True)"
   ]
  },
  {
   "cell_type": "code",
   "execution_count": 35,
   "metadata": {},
   "outputs": [
    {
     "data": {
      "text/plain": [
       "(81, 4)"
      ]
     },
     "execution_count": 35,
     "metadata": {},
     "output_type": "execute_result"
    }
   ],
   "source": [
    "feat_info_copy.shape"
   ]
  },
  {
   "cell_type": "markdown",
   "metadata": {},
   "source": [
    "#### Discussion 1.1.2: Assess Missing Data in Each Column\n",
    "\n",
    "The data set contains 4 columns whose missing values represent more than half. These columns (['AGER_TYP', 'TITEL_KZ', 'KK_KUNDENTYP', 'KBA05_BAUMAX'] will be removed from the dataset. "
   ]
  },
  {
   "cell_type": "markdown",
   "metadata": {},
   "source": [
    "#### Step 1.1.3: Assess Missing Data in Each Row\n",
    "\n",
    "Now, you'll perform a similar assessment for the rows of the dataset. How much data is missing in each row? As with the columns, you should see some groups of points that have a very different numbers of missing values. Divide the data into two subsets: one for data points that are above some threshold for missing values, and a second subset for points below that threshold.\n",
    "\n",
    "In order to know what to do with the outlier rows, we should see if the distribution of data values on columns that are not missing data (or are missing very little data) are similar or different between the two groups. Select at least five of these columns and compare the distribution of values.\n",
    "- You can use seaborn's [`countplot()`](https://seaborn.pydata.org/generated/seaborn.countplot.html) function to create a bar chart of code frequencies and matplotlib's [`subplot()`](https://matplotlib.org/api/_as_gen/matplotlib.pyplot.subplot.html) function to put bar charts for the two subplots side by side.\n",
    "- To reduce repeated code, you might want to write a function that can perform this comparison, taking as one of its arguments a column to be compared.\n",
    "\n",
    "Depending on what you observe in your comparison, this will have implications on how you approach your conclusions later in the analysis. If the distributions of non-missing features look similar between the data with many missing values and the data with few or no missing values, then we could argue that simply dropping those points from the analysis won't present a major issue. On the other hand, if the data with many missing values looks very different from the data with few or no missing values, then we should make a note on those data as special. We'll revisit these data later on. **Either way, you should continue your analysis for now using just the subset of the data with few or no missing values.**"
   ]
  },
  {
   "cell_type": "code",
   "execution_count": 36,
   "metadata": {},
   "outputs": [
    {
     "data": {
      "text/plain": [
       "732775    50\n",
       "643174    50\n",
       "554349    49\n",
       "288539    49\n",
       "716425    49\n",
       "68140     49\n",
       "288589    49\n",
       "288588    49\n",
       "288587    49\n",
       "850248    49\n",
       "288584    49\n",
       "716437    49\n",
       "68149     49\n",
       "288569    49\n",
       "716445    49\n",
       "288533    49\n",
       "288594    49\n",
       "288532    49\n",
       "288528    49\n",
       "288526    49\n",
       "68163     49\n",
       "68166     49\n",
       "288517    49\n",
       "288515    49\n",
       "288509    49\n",
       "288505    49\n",
       "68182     49\n",
       "716424    49\n",
       "68135     49\n",
       "68186     49\n",
       "          ..\n",
       "327953     0\n",
       "692037     0\n",
       "327957     0\n",
       "327903     0\n",
       "327900     0\n",
       "327862     0\n",
       "327877     0\n",
       "692089     0\n",
       "692088     0\n",
       "327866     0\n",
       "327867     0\n",
       "692087     0\n",
       "327869     0\n",
       "327870     0\n",
       "692086     0\n",
       "692084     0\n",
       "327875     0\n",
       "327879     0\n",
       "327899     0\n",
       "692080     0\n",
       "692079     0\n",
       "327884     0\n",
       "692078     0\n",
       "692076     0\n",
       "692075     0\n",
       "327892     0\n",
       "327894     0\n",
       "692072     0\n",
       "692069     0\n",
       "445610     0\n",
       "Length: 891221, dtype: int64"
      ]
     },
     "execution_count": 36,
     "metadata": {},
     "output_type": "execute_result"
    }
   ],
   "source": [
    "# How much data is missing in each row of the dataset?\n",
    "\n",
    "azdias_copy.isnull().sum(axis=1).sort_values(ascending = False)\n"
   ]
  },
  {
   "cell_type": "code",
   "execution_count": 37,
   "metadata": {},
   "outputs": [],
   "source": [
    "# Write code to divide the data into two subsets based on the number of missing\n",
    "# values in each row.\n",
    "azdias_less_missing =  azdias_copy[azdias_copy.isnull().sum(axis=1) <=30]\n",
    "azdias_more_missing = azdias_copy[azdias_copy.isnull().sum(axis=1) > 30]\n"
   ]
  },
  {
   "cell_type": "code",
   "execution_count": 38,
   "metadata": {},
   "outputs": [
    {
     "data": {
      "text/plain": [
       "0.8954647612657242"
      ]
     },
     "execution_count": 38,
     "metadata": {},
     "output_type": "execute_result"
    }
   ],
   "source": [
    "azdias_less_missing.shape[0] / azdias_copy.shape[0]"
   ]
  },
  {
   "cell_type": "code",
   "execution_count": 36,
   "metadata": {},
   "outputs": [],
   "source": [
    "# Compare the distribution of values for at least five columns where there are\n",
    "# no or few missing values, between the two subsets.\n",
    "\n"
   ]
  },
  {
   "cell_type": "code",
   "execution_count": 46,
   "metadata": {},
   "outputs": [
    {
     "name": "stdout",
     "output_type": "stream",
     "text": [
      "LP_LEBENSPHASE_GROB    LP_LEBENSPHASE_GROB\n",
      "FINANZTYP                        FINANZTYP\n",
      "GFK_URLAUBERTYP            GFK_URLAUBERTYP\n",
      "FINANZ_HAUSBAUER          FINANZ_HAUSBAUER\n",
      "RETOURTYP_BK_S              RETOURTYP_BK_S\n",
      "dtype: object\n"
     ]
    }
   ],
   "source": [
    "#select random 5 column\n",
    "random_column = azdias_copy.columns.to_series().sample(5)\n",
    "print(random_column)"
   ]
  },
  {
   "cell_type": "code",
   "execution_count": 47,
   "metadata": {},
   "outputs": [
    {
     "data": {
      "image/png": "[encoded data removed]",
      "text/plain": [
       "<matplotlib.figure.Figure at 0x7f5024c625c0>"
      ]
     },
     "metadata": {
      "needs_background": "light"
     },
     "output_type": "display_data"
    },
    {
     "data": {
      "image/png": "[encoded data removed]",
      "text/plain": [
       "<matplotlib.figure.Figure at 0x7f5024be9198>"
      ]
     },
     "metadata": {
      "needs_background": "light"
     },
     "output_type": "display_data"
    },
    {
     "data": {
      "image/png": "[encoded data removed]",
      "text/plain": [
       "<matplotlib.figure.Figure at 0x7f5025349e10>"
      ]
     },
     "metadata": {
      "needs_background": "light"
     },
     "output_type": "display_data"
    },
    {
     "data": {
      "image/png": "[encoded data removed]",
      "text/plain": [
       "<matplotlib.figure.Figure at 0x7f50254db208>"
      ]
     },
     "metadata": {
      "needs_background": "light"
     },
     "output_type": "display_data"
    },
    {
     "data": {
      "image/png": "[encoded data removed]",
      "text/plain": [
       "<matplotlib.figure.Figure at 0x7f5024f16be0>"
      ]
     },
     "metadata": {
      "needs_background": "light"
     },
     "output_type": "display_data"
    }
   ],
   "source": [
    "for i in random_column:\n",
    "    plt.figure(figsize=(10,3))\n",
    "    plt.subplot(1,2,1)\n",
    "    azdias_less_missing[i].value_counts().sort_index().plot.bar(color='blue')    \n",
    "    plt.subplot(1,2,2)\n",
    "    azdias_more_missing[i].value_counts().sort_index().plot.bar(color='red')"
   ]
  },
  {
   "cell_type": "code",
   "execution_count": 39,
   "metadata": {},
   "outputs": [],
   "source": [
    "azdias_copy = azdias_less_missing.copy()"
   ]
  },
  {
   "cell_type": "code",
   "execution_count": 40,
   "metadata": {},
   "outputs": [
    {
     "data": {
      "text/plain": [
       "GEBURTSJAHR              310904\n",
       "ALTER_HH                 230450\n",
       "REGIOTYP                  64903\n",
       "KKK                       64903\n",
       "W_KEIT_KIND_HH            59300\n",
       "LP_LEBENSPHASE_FEIN       50229\n",
       "LP_LEBENSPHASE_GROB       47336\n",
       "KBA05_ANTG3               40160\n",
       "KBA05_ANTG1               40160\n",
       "KBA05_ANTG2               40160\n",
       "KBA05_ANTG4               40160\n",
       "KBA05_GBZ                 40160\n",
       "MOBI_REGIO                40160\n",
       "SHOPPER_TYP               36720\n",
       "HEALTH_TYP                36720\n",
       "VERS_TYP                  36720\n",
       "NATIONALITAET_KZ          33917\n",
       "LP_FAMILIE_FEIN           31464\n",
       "LP_FAMILIE_GROB           31464\n",
       "PRAEGENDE_JUGENDJAHRE     28753\n",
       "PLZ8_HHZ                  23351\n",
       "PLZ8_GBZ                  23351\n",
       "PLZ8_ANTG1                23351\n",
       "PLZ8_ANTG2                23351\n",
       "PLZ8_ANTG3                23351\n",
       "PLZ8_ANTG4                23351\n",
       "PLZ8_BAUMAX               23351\n",
       "KBA13_ANZAHL_PKW          12637\n",
       "ANZ_HAUSHALTE_AKTIV        6459\n",
       "CAMEO_DEUG_2015            6193\n",
       "                          ...  \n",
       "WOHNLAGE                      0\n",
       "GREEN_AVANTGARDE              0\n",
       "SOHO_KZ                       0\n",
       "SEMIO_TRADV                   0\n",
       "FINANZ_UNAUFFAELLIGER         0\n",
       "FINANZ_ANLEGER                0\n",
       "FINANZ_VORSORGER              0\n",
       "FINANZ_SPARER                 0\n",
       "FINANZ_MINIMALIST             0\n",
       "ANREDE_KZ                     0\n",
       "FINANZ_HAUSBAUER              0\n",
       "GEBAEUDETYP                   0\n",
       "WOHNDAUER_2008                0\n",
       "HH_EINKOMMEN_SCORE            0\n",
       "SEMIO_PFLICHT                 0\n",
       "SEMIO_KAEM                    0\n",
       "SEMIO_DOM                     0\n",
       "SEMIO_KRIT                    0\n",
       "SEMIO_RAT                     0\n",
       "SEMIO_KULT                    0\n",
       "SEMIO_ERL                     0\n",
       "SEMIO_LUST                    0\n",
       "SEMIO_VERT                    0\n",
       "SEMIO_MAT                     0\n",
       "SEMIO_REL                     0\n",
       "SEMIO_FAM                     0\n",
       "SEMIO_SOZ                     0\n",
       "ANZ_PERSONEN                  0\n",
       "ANZ_TITEL                     0\n",
       "ZABEOTYP                      0\n",
       "Length: 81, dtype: int64"
      ]
     },
     "execution_count": 40,
     "metadata": {},
     "output_type": "execute_result"
    }
   ],
   "source": [
    "azdias_copy.isnull().sum().sort_values(ascending = False)"
   ]
  },
  {
   "cell_type": "markdown",
   "metadata": {},
   "source": [
    "#### Discussion 1.1.3: Assess Missing Data in Each Row\n",
    "\n",
    "We observe that 89% of Row have less missing less than or equal 30 percent and the Remaining  is = 11% of the row  which have more than >30 so i decide to drop the rows . "
   ]
  },
  {
   "cell_type": "markdown",
   "metadata": {},
   "source": [
    "### Step 1.2: Select and Re-Encode Features\n",
    "\n",
    "Checking for missing data isn't the only way in which you can prepare a dataset for analysis. Since the unsupervised learning techniques to be used will only work on data that is encoded numerically, you need to make a few encoding changes or additional assumptions to be able to make progress. In addition, while almost all of the values in the dataset are encoded using numbers, not all of them represent numeric values. Check the third column of the feature summary (`feat_info`) for a summary of types of measurement.\n",
    "- For numeric and interval data, these features can be kept without changes.\n",
    "- Most of the variables in the dataset are ordinal in nature. While ordinal values may technically be non-linear in spacing, make the simplifying assumption that the ordinal variables can be treated as being interval in nature (that is, kept without any changes).\n",
    "- Special handling may be necessary for the remaining two variable types: categorical, and 'mixed'.\n",
    "\n",
    "In the first two parts of this sub-step, you will perform an investigation of the categorical and mixed-type features and make a decision on each of them, whether you will keep, drop, or re-encode each. Then, in the last part, you will create a new data frame with only the selected and engineered columns.\n",
    "\n",
    "Data wrangling is often the trickiest part of the data analysis process, and there's a lot of it to be done here. But stick with it: once you're done with this step, you'll be ready to get to the machine learning parts of the project!"
   ]
  },
  {
   "cell_type": "code",
   "execution_count": 41,
   "metadata": {},
   "outputs": [
    {
     "data": {
      "text/plain": [
       "array(['ordinal', 'categorical', 'numeric', 'mixed', 'interval'], dtype=object)"
      ]
     },
     "execution_count": 41,
     "metadata": {},
     "output_type": "execute_result"
    }
   ],
   "source": [
    "# How many features are there of each data type?\n",
    "feat_info_copy.type.unique()\n"
   ]
  },
  {
   "cell_type": "code",
   "execution_count": 42,
   "metadata": {},
   "outputs": [
    {
     "data": {
      "text/plain": [
       "ordinal        49\n",
       "categorical    18\n",
       "numeric         7\n",
       "mixed           6\n",
       "interval        1\n",
       "Name: type, dtype: int64"
      ]
     },
     "execution_count": 42,
     "metadata": {},
     "output_type": "execute_result"
    }
   ],
   "source": [
    "feat_info_copy.type.value_counts()"
   ]
  },
  {
   "cell_type": "markdown",
   "metadata": {},
   "source": [
    "#### Step 1.2.1: Re-Encode Categorical Features\n",
    "\n",
    "For categorical data, you would ordinarily need to encode the levels as dummy variables. Depending on the number of categories, perform one of the following:\n",
    "- For binary (two-level) categoricals that take numeric values, you can keep them without needing to do anything.\n",
    "- There is one binary variable that takes on non-numeric values. For this one, you need to re-encode the values as numbers or create a dummy variable.\n",
    "- For multi-level categoricals (three or more values), you can choose to encode the values using multiple dummy variables (e.g. via [OneHotEncoder](http://scikit-learn.org/stable/modules/generated/sklearn.preprocessing.OneHotEncoder.html)), or (to keep things straightforward) just drop them from the analysis. As always, document your choices in the Discussion section."
   ]
  },
  {
   "cell_type": "code",
   "execution_count": 43,
   "metadata": {},
   "outputs": [
    {
     "data": {
      "text/html": [
       "<div>\n",
       "<style scoped>\n",
       "    .dataframe tbody tr th:only-of-type {\n",
       "        vertical-align: middle;\n",
       "    }\n",
       "\n",
       "    .dataframe tbody tr th {\n",
       "        vertical-align: top;\n",
       "    }\n",
       "\n",
       "    .dataframe thead th {\n",
       "        text-align: right;\n",
       "    }\n",
       "</style>\n",
       "<table border=\"1\" class=\"dataframe\">\n",
       "  <thead>\n",
       "    <tr style=\"text-align: right;\">\n",
       "      <th></th>\n",
       "      <th>attribute</th>\n",
       "      <th>information_level</th>\n",
       "      <th>type</th>\n",
       "      <th>missing_or_unknown</th>\n",
       "    </tr>\n",
       "  </thead>\n",
       "  <tbody>\n",
       "    <tr>\n",
       "      <th>2</th>\n",
       "      <td>ANREDE_KZ</td>\n",
       "      <td>person</td>\n",
       "      <td>categorical</td>\n",
       "      <td>[-1, 0]</td>\n",
       "    </tr>\n",
       "    <tr>\n",
       "      <th>3</th>\n",
       "      <td>CJT_GESAMTTYP</td>\n",
       "      <td>person</td>\n",
       "      <td>categorical</td>\n",
       "      <td>[0]</td>\n",
       "    </tr>\n",
       "    <tr>\n",
       "      <th>10</th>\n",
       "      <td>FINANZTYP</td>\n",
       "      <td>person</td>\n",
       "      <td>categorical</td>\n",
       "      <td>[-1]</td>\n",
       "    </tr>\n",
       "    <tr>\n",
       "      <th>12</th>\n",
       "      <td>GFK_URLAUBERTYP</td>\n",
       "      <td>person</td>\n",
       "      <td>categorical</td>\n",
       "      <td>[]</td>\n",
       "    </tr>\n",
       "    <tr>\n",
       "      <th>13</th>\n",
       "      <td>GREEN_AVANTGARDE</td>\n",
       "      <td>person</td>\n",
       "      <td>categorical</td>\n",
       "      <td>[]</td>\n",
       "    </tr>\n",
       "    <tr>\n",
       "      <th>17</th>\n",
       "      <td>LP_FAMILIE_FEIN</td>\n",
       "      <td>person</td>\n",
       "      <td>categorical</td>\n",
       "      <td>[0]</td>\n",
       "    </tr>\n",
       "    <tr>\n",
       "      <th>18</th>\n",
       "      <td>LP_FAMILIE_GROB</td>\n",
       "      <td>person</td>\n",
       "      <td>categorical</td>\n",
       "      <td>[0]</td>\n",
       "    </tr>\n",
       "    <tr>\n",
       "      <th>19</th>\n",
       "      <td>LP_STATUS_FEIN</td>\n",
       "      <td>person</td>\n",
       "      <td>categorical</td>\n",
       "      <td>[0]</td>\n",
       "    </tr>\n",
       "    <tr>\n",
       "      <th>20</th>\n",
       "      <td>LP_STATUS_GROB</td>\n",
       "      <td>person</td>\n",
       "      <td>categorical</td>\n",
       "      <td>[0]</td>\n",
       "    </tr>\n",
       "    <tr>\n",
       "      <th>21</th>\n",
       "      <td>NATIONALITAET_KZ</td>\n",
       "      <td>person</td>\n",
       "      <td>categorical</td>\n",
       "      <td>[-1, 0]</td>\n",
       "    </tr>\n",
       "    <tr>\n",
       "      <th>38</th>\n",
       "      <td>SHOPPER_TYP</td>\n",
       "      <td>person</td>\n",
       "      <td>categorical</td>\n",
       "      <td>[-1]</td>\n",
       "    </tr>\n",
       "    <tr>\n",
       "      <th>39</th>\n",
       "      <td>SOHO_KZ</td>\n",
       "      <td>person</td>\n",
       "      <td>categorical</td>\n",
       "      <td>[-1]</td>\n",
       "    </tr>\n",
       "    <tr>\n",
       "      <th>41</th>\n",
       "      <td>VERS_TYP</td>\n",
       "      <td>person</td>\n",
       "      <td>categorical</td>\n",
       "      <td>[-1]</td>\n",
       "    </tr>\n",
       "    <tr>\n",
       "      <th>42</th>\n",
       "      <td>ZABEOTYP</td>\n",
       "      <td>person</td>\n",
       "      <td>categorical</td>\n",
       "      <td>[-1, 9]</td>\n",
       "    </tr>\n",
       "    <tr>\n",
       "      <th>52</th>\n",
       "      <td>GEBAEUDETYP</td>\n",
       "      <td>building</td>\n",
       "      <td>categorical</td>\n",
       "      <td>[-1, 0]</td>\n",
       "    </tr>\n",
       "    <tr>\n",
       "      <th>55</th>\n",
       "      <td>OST_WEST_KZ</td>\n",
       "      <td>building</td>\n",
       "      <td>categorical</td>\n",
       "      <td>[-1]</td>\n",
       "    </tr>\n",
       "    <tr>\n",
       "      <th>57</th>\n",
       "      <td>CAMEO_DEUG_2015</td>\n",
       "      <td>microcell_rr4</td>\n",
       "      <td>categorical</td>\n",
       "      <td>[-1, X]</td>\n",
       "    </tr>\n",
       "    <tr>\n",
       "      <th>58</th>\n",
       "      <td>CAMEO_DEU_2015</td>\n",
       "      <td>microcell_rr4</td>\n",
       "      <td>categorical</td>\n",
       "      <td>[XX]</td>\n",
       "    </tr>\n",
       "  </tbody>\n",
       "</table>\n",
       "</div>"
      ],
      "text/plain": [
       "           attribute information_level         type missing_or_unknown\n",
       "2          ANREDE_KZ            person  categorical            [-1, 0]\n",
       "3      CJT_GESAMTTYP            person  categorical                [0]\n",
       "10         FINANZTYP            person  categorical               [-1]\n",
       "12   GFK_URLAUBERTYP            person  categorical                 []\n",
       "13  GREEN_AVANTGARDE            person  categorical                 []\n",
       "17   LP_FAMILIE_FEIN            person  categorical                [0]\n",
       "18   LP_FAMILIE_GROB            person  categorical                [0]\n",
       "19    LP_STATUS_FEIN            person  categorical                [0]\n",
       "20    LP_STATUS_GROB            person  categorical                [0]\n",
       "21  NATIONALITAET_KZ            person  categorical            [-1, 0]\n",
       "38       SHOPPER_TYP            person  categorical               [-1]\n",
       "39           SOHO_KZ            person  categorical               [-1]\n",
       "41          VERS_TYP            person  categorical               [-1]\n",
       "42          ZABEOTYP            person  categorical            [-1, 9]\n",
       "52       GEBAEUDETYP          building  categorical            [-1, 0]\n",
       "55       OST_WEST_KZ          building  categorical               [-1]\n",
       "57   CAMEO_DEUG_2015     microcell_rr4  categorical            [-1, X]\n",
       "58    CAMEO_DEU_2015     microcell_rr4  categorical               [XX]"
      ]
     },
     "execution_count": 43,
     "metadata": {},
     "output_type": "execute_result"
    }
   ],
   "source": [
    "feat_info_copy.query('type == \"categorical\"')"
   ]
  },
  {
   "cell_type": "code",
   "execution_count": 44,
   "metadata": {},
   "outputs": [
    {
     "data": {
      "text/plain": [
       "2            ANREDE_KZ\n",
       "3        CJT_GESAMTTYP\n",
       "10           FINANZTYP\n",
       "12     GFK_URLAUBERTYP\n",
       "13    GREEN_AVANTGARDE\n",
       "17     LP_FAMILIE_FEIN\n",
       "18     LP_FAMILIE_GROB\n",
       "19      LP_STATUS_FEIN\n",
       "20      LP_STATUS_GROB\n",
       "21    NATIONALITAET_KZ\n",
       "38         SHOPPER_TYP\n",
       "39             SOHO_KZ\n",
       "41            VERS_TYP\n",
       "42            ZABEOTYP\n",
       "52         GEBAEUDETYP\n",
       "55         OST_WEST_KZ\n",
       "57     CAMEO_DEUG_2015\n",
       "58      CAMEO_DEU_2015\n",
       "Name: attribute, dtype: object"
      ]
     },
     "execution_count": 44,
     "metadata": {},
     "output_type": "execute_result"
    }
   ],
   "source": [
    "feat_categorical = feat_info_copy[feat_info_copy[\"type\"] == \"categorical\"].attribute\n",
    "feat_categorical"
   ]
  },
  {
   "cell_type": "code",
   "execution_count": 45,
   "metadata": {},
   "outputs": [
    {
     "data": {
      "image/png": "[encoded data removed]",
      "text/plain": [
       "<matplotlib.figure.Figure at 0x7f05259f8dd8>"
      ]
     },
     "metadata": {},
     "output_type": "display_data"
    },
    {
     "data": {
      "image/png": "[encoded data removed]",
      "text/plain": [
       "<matplotlib.figure.Figure at 0x7f054487d668>"
      ]
     },
     "metadata": {},
     "output_type": "display_data"
    },
    {
     "data": {
      "image/png": "[encoded data removed]",
      "text/plain": [
       "<matplotlib.figure.Figure at 0x7f05252a5550>"
      ]
     },
     "metadata": {},
     "output_type": "display_data"
    },
    {
     "data": {
      "image/png": "[encoded data removed]",
      "text/plain": [
       "<matplotlib.figure.Figure at 0x7f0525201080>"
      ]
     },
     "metadata": {},
     "output_type": "display_data"
    },
    {
     "data": {
      "image/png": "[encoded data removed]",
      "text/plain": [
       "<matplotlib.figure.Figure at 0x7f05251b6da0>"
      ]
     },
     "metadata": {},
     "output_type": "display_data"
    },
    {
     "data": {
      "image/png": "[encoded data removed]",
      "text/plain": [
       "<matplotlib.figure.Figure at 0x7f052515c5f8>"
      ]
     },
     "metadata": {},
     "output_type": "display_data"
    },
    {
     "data": {
      "image/png": "[encoded data removed]",
      "text/plain": [
       "<matplotlib.figure.Figure at 0x7f0525089208>"
      ]
     },
     "metadata": {},
     "output_type": "display_data"
    },
    {
     "data": {
      "image/png": "[encoded data removed]",
      "text/plain": [
       "<matplotlib.figure.Figure at 0x7f05250e1828>"
      ]
     },
     "metadata": {},
     "output_type": "display_data"
    },
    {
     "data": {
      "image/png": "[encoded data removed]",
      "text/plain": [
       "<matplotlib.figure.Figure at 0x7f05250ba860>"
      ]
     },
     "metadata": {},
     "output_type": "display_data"
    },
    {
     "data": {
      "image/png": "[encoded data removed]",
      "text/plain": [
       "<matplotlib.figure.Figure at 0x7f05250f4dd8>"
      ]
     },
     "metadata": {},
     "output_type": "display_data"
    },
    {
     "data": {
      "image/png": "[encoded data removed]",
      "text/plain": [
       "<matplotlib.figure.Figure at 0x7f052555f710>"
      ]
     },
     "metadata": {},
     "output_type": "display_data"
    },
    {
     "data": {
      "image/png": "[encoded data removed]",
      "text/plain": [
       "<matplotlib.figure.Figure at 0x7f05219c7390>"
      ]
     },
     "metadata": {},
     "output_type": "display_data"
    },
    {
     "data": {
      "image/png": "[encoded data removed]",
      "text/plain": [
       "<matplotlib.figure.Figure at 0x7f0522e315f8>"
      ]
     },
     "metadata": {},
     "output_type": "display_data"
    },
    {
     "data": {
      "image/png": "[encoded data removed]",
      "text/plain": [
       "<matplotlib.figure.Figure at 0x7f0522e31160>"
      ]
     },
     "metadata": {},
     "output_type": "display_data"
    },
    {
     "data": {
      "image/png": "[encoded data removed]",
      "text/plain": [
       "<matplotlib.figure.Figure at 0x7f054486ec18>"
      ]
     },
     "metadata": {},
     "output_type": "display_data"
    },
    {
     "data": {
      "image/png": "[encoded data removed]",
      "text/plain": [
       "<matplotlib.figure.Figure at 0x7f05447cadd8>"
      ]
     },
     "metadata": {},
     "output_type": "display_data"
    },
    {
     "data": {
      "image/png": "[encoded data removed]",
      "text/plain": [
       "<matplotlib.figure.Figure at 0x7f052512f390>"
      ]
     },
     "metadata": {},
     "output_type": "display_data"
    },
    {
     "data": {
      "image/png": "[encoded data removed]",
      "text/plain": [
       "<matplotlib.figure.Figure at 0x7f0525163dd8>"
      ]
     },
     "metadata": {},
     "output_type": "display_data"
    }
   ],
   "source": [
    "for attribute in feat_info_copy[feat_info_copy['type'] == 'categorical']['attribute']:\n",
    "    sns.set(style=\"darkgrid\")\n",
    "    ax = sns.countplot(x = attribute, data=azdias_copy)\n",
    "    plt.show()"
   ]
  },
  {
   "cell_type": "code",
   "execution_count": 46,
   "metadata": {},
   "outputs": [
    {
     "name": "stdout",
     "output_type": "stream",
     "text": [
      "ANREDE_KZ[2 1]\n",
      "CJT_GESAMTTYP[  5.   3.   2.   4.   1.   6.  nan]\n",
      "FINANZTYP[1 6 5 2 4 3]\n",
      "GFK_URLAUBERTYP[ 10.   1.   5.  12.   9.   3.   8.  11.   4.   2.   7.   6.  nan]\n",
      "GREEN_AVANTGARDE[0 1]\n",
      "LP_FAMILIE_FEIN[  5.   1.  nan  10.   2.   7.  11.   8.   4.   6.   9.   3.]\n",
      "LP_FAMILIE_GROB[  3.   1.  nan   5.   2.   4.]\n",
      "LP_STATUS_FEIN[  2.   3.   9.   4.   1.  10.   5.   8.   6.   7.  nan]\n",
      "LP_STATUS_GROB[  1.   2.   4.   5.   3.  nan]\n",
      "NATIONALITAET_KZ[  1.   3.   2.  nan]\n",
      "SHOPPER_TYP[  3.   2.   1.   0.  nan]\n",
      "SOHO_KZ[ 1.  0.]\n",
      "VERS_TYP[  2.   1.  nan]\n",
      "ZABEOTYP[5 3 4 1 6 2]\n",
      "GEBAEUDETYP[ 8.  1.  3.  2.  6.  4.  5.]\n",
      "OST_WEST_KZ['W' 'O']\n",
      "CAMEO_DEUG_2015['8' '4' '2' '6' '1' '9' '5' '7' nan '3']\n",
      "CAMEO_DEU_2015['8A' '4C' '2A' '6B' '8C' '4A' '2D' '1A' '1E' '9D' '5C' '8B' '7A' '5D' '9E'\n",
      " nan '9B' '1B' '3D' '4E' '4B' '3C' '5A' '7B' '9A' '6D' '6E' '2C' '7C' '9C'\n",
      " '7D' '5E' '1D' '8D' '6C' '6A' '5B' '4D' '3A' '2B' '7E' '3B' '6F' '5F' '1C']\n"
     ]
    }
   ],
   "source": [
    "for i in feat_categorical:\n",
    "  \n",
    " \n",
    "    print(i + str(azdias_copy[i].unique()))"
   ]
  },
  {
   "cell_type": "code",
   "execution_count": 47,
   "metadata": {},
   "outputs": [
    {
     "name": "stdout",
     "output_type": "stream",
     "text": [
      "the value in ANREDE_KZ = 2\n",
      "the value in CJT_GESAMTTYP = 6\n",
      "the value in FINANZTYP = 6\n",
      "the value in GFK_URLAUBERTYP = 12\n",
      "the value in GREEN_AVANTGARDE = 2\n",
      "the value in LP_FAMILIE_FEIN = 11\n",
      "the value in LP_FAMILIE_GROB = 5\n",
      "the value in LP_STATUS_FEIN = 10\n",
      "the value in LP_STATUS_GROB = 5\n",
      "the value in NATIONALITAET_KZ = 3\n",
      "the value in SHOPPER_TYP = 4\n",
      "the value in SOHO_KZ = 2\n",
      "the value in VERS_TYP = 2\n",
      "the value in ZABEOTYP = 6\n",
      "the value in GEBAEUDETYP = 7\n",
      "the value in OST_WEST_KZ = 2\n",
      "the value in CAMEO_DEUG_2015 = 9\n",
      "the value in CAMEO_DEU_2015 = 44\n"
     ]
    }
   ],
   "source": [
    "for i in feat_categorical:\n",
    "  \n",
    " \n",
    "    print(\"the value in \"+i + \" = \"+ str(azdias_copy[i].value_counts().count()))"
   ]
  },
  {
   "cell_type": "code",
   "execution_count": 48,
   "metadata": {},
   "outputs": [
    {
     "name": "stdout",
     "output_type": "stream",
     "text": [
      "18\n"
     ]
    }
   ],
   "source": [
    "print(len(feat_categorical))"
   ]
  },
  {
   "cell_type": "code",
   "execution_count": 49,
   "metadata": {},
   "outputs": [],
   "source": [
    "# Assess categorical variables: which are binary, which are multi-level, and\n",
    "# which one needs to be re-encoded?\n",
    "\n",
    "binary_list = []\n",
    "multi_level_list = []\n",
    "\n",
    "for i in feat_categorical:\n",
    "    if (azdias_copy[i].value_counts().count() < 3):\n",
    "        \n",
    "        binary_list.append(i)\n",
    "    else:\n",
    "        multi_level_list.append(i)\n",
    "        \n",
    "  \n",
    " \n"
   ]
  },
  {
   "cell_type": "code",
   "execution_count": 50,
   "metadata": {},
   "outputs": [
    {
     "name": "stdout",
     "output_type": "stream",
     "text": [
      "['ANREDE_KZ', 'GREEN_AVANTGARDE', 'SOHO_KZ', 'VERS_TYP', 'OST_WEST_KZ']\n"
     ]
    }
   ],
   "source": [
    "print(binary_list)"
   ]
  },
  {
   "cell_type": "code",
   "execution_count": 51,
   "metadata": {},
   "outputs": [
    {
     "name": "stdout",
     "output_type": "stream",
     "text": [
      "5\n"
     ]
    }
   ],
   "source": [
    "print(len(binary_list))"
   ]
  },
  {
   "cell_type": "code",
   "execution_count": 52,
   "metadata": {},
   "outputs": [
    {
     "name": "stdout",
     "output_type": "stream",
     "text": [
      "['CJT_GESAMTTYP', 'FINANZTYP', 'GFK_URLAUBERTYP', 'LP_FAMILIE_FEIN', 'LP_FAMILIE_GROB', 'LP_STATUS_FEIN', 'LP_STATUS_GROB', 'NATIONALITAET_KZ', 'SHOPPER_TYP', 'ZABEOTYP', 'GEBAEUDETYP', 'CAMEO_DEUG_2015', 'CAMEO_DEU_2015']\n"
     ]
    }
   ],
   "source": [
    "print(multi_level_list)"
   ]
  },
  {
   "cell_type": "code",
   "execution_count": 53,
   "metadata": {},
   "outputs": [
    {
     "name": "stdout",
     "output_type": "stream",
     "text": [
      "13\n"
     ]
    }
   ],
   "source": [
    "print(len(multi_level_list))"
   ]
  },
  {
   "cell_type": "code",
   "execution_count": 54,
   "metadata": {},
   "outputs": [
    {
     "name": "stdout",
     "output_type": "stream",
     "text": [
      "ANREDE_KZ = [2 1]\n",
      "GREEN_AVANTGARDE = [0 1]\n",
      "SOHO_KZ = [ 1.  0.]\n",
      "VERS_TYP = [  2.   1.  nan]\n",
      "OST_WEST_KZ = ['W' 'O']\n"
     ]
    }
   ],
   "source": [
    "for i in binary_list:\n",
    "    print(i + \" = \" +str(azdias_copy[i].unique()))"
   ]
  },
  {
   "cell_type": "code",
   "execution_count": 55,
   "metadata": {},
   "outputs": [],
   "source": [
    "# Re-encode categorical variable(s) to be kept in the analysis.\n",
    "\n",
    "# so we need to change the value in the column OST_WEST_KZ  to by number \n",
    "\n",
    "azdias_copy[\"OST_WEST_KZ\"].replace(['W','O'],[1,0], inplace =True)\n"
   ]
  },
  {
   "cell_type": "code",
   "execution_count": 56,
   "metadata": {},
   "outputs": [
    {
     "name": "stdout",
     "output_type": "stream",
     "text": [
      "ANREDE_KZ = [2 1]\n",
      "GREEN_AVANTGARDE = [0 1]\n",
      "SOHO_KZ = [ 1.  0.]\n",
      "VERS_TYP = [  2.   1.  nan]\n",
      "OST_WEST_KZ = [1 0]\n"
     ]
    }
   ],
   "source": [
    "for i in binary_list:\n",
    "    print(i + \" = \" +str(azdias_copy[i].unique()))"
   ]
  },
  {
   "cell_type": "code",
   "execution_count": 57,
   "metadata": {},
   "outputs": [
    {
     "data": {
      "text/plain": [
       "(798057, 81)"
      ]
     },
     "execution_count": 57,
     "metadata": {},
     "output_type": "execute_result"
    }
   ],
   "source": [
    "azdias_copy.shape"
   ]
  },
  {
   "cell_type": "code",
   "execution_count": 58,
   "metadata": {},
   "outputs": [],
   "source": [
    "# for the multi_level_list i will drop \n",
    "azdias_copy.drop(multi_level_list, axis =1,inplace=True)"
   ]
  },
  {
   "cell_type": "code",
   "execution_count": 59,
   "metadata": {},
   "outputs": [
    {
     "data": {
      "text/plain": [
       "(798057, 68)"
      ]
     },
     "execution_count": 59,
     "metadata": {},
     "output_type": "execute_result"
    }
   ],
   "source": [
    "azdias_copy.shape"
   ]
  },
  {
   "cell_type": "markdown",
   "metadata": {},
   "source": [
    "#### Discussion 1.2.1: Re-Encode Categorical Features\n",
    " i find that 18 columns from the data set the type is categorical . so i split the categorical columns into two groups one is the binary group and the other is multi_level_list . i decide to drop the multi_level_list to save the time and kept the binary group , and i make one change for one column in binary group OST_WEST_KZ which contains  'W','O'  i replace them with 1,0\n"
   ]
  },
  {
   "cell_type": "markdown",
   "metadata": {},
   "source": [
    "#### Step 1.2.2: Engineer Mixed-Type Features\n",
    "\n",
    "There are a handful of features that are marked as \"mixed\" in the feature summary that require special treatment in order to be included in the analysis. There are two in particular that deserve attention; the handling of the rest are up to your own choices:\n",
    "- \"PRAEGENDE_JUGENDJAHRE\" combines information on three dimensions: generation by decade, movement (mainstream vs. avantgarde), and nation (east vs. west). While there aren't enough levels to disentangle east from west, you should create two new variables to capture the other two dimensions: an interval-type variable for decade, and a binary variable for movement.\n",
    "- \"CAMEO_INTL_2015\" combines information on two axes: wealth and life stage. Break up the two-digit codes by their 'tens'-place and 'ones'-place digits into two new ordinal variables (which, for the purposes of this project, is equivalent to just treating them as their raw numeric values).\n",
    "- If you decide to keep or engineer new features around the other mixed-type features, make sure you note your steps in the Discussion section.\n",
    "\n",
    "Be sure to check `Data_Dictionary.md` for the details needed to finish these tasks."
   ]
  },
  {
   "cell_type": "code",
   "execution_count": 60,
   "metadata": {},
   "outputs": [
    {
     "data": {
      "text/plain": [
       "14.0    182984\n",
       "8.0     141628\n",
       "10.0     85808\n",
       "5.0      84691\n",
       "3.0      53845\n",
       "15.0     42546\n",
       "11.0     35752\n",
       "9.0      33570\n",
       "6.0      25652\n",
       "12.0     24446\n",
       "1.0      20678\n",
       "4.0      20451\n",
       "2.0       7479\n",
       "13.0      5764\n",
       "7.0       4010\n",
       "Name: PRAEGENDE_JUGENDJAHRE, dtype: int64"
      ]
     },
     "execution_count": 60,
     "metadata": {},
     "output_type": "execute_result"
    }
   ],
   "source": [
    "# Investigate \"PRAEGENDE_JUGENDJAHRE\" and engineer two new variables.\n",
    "\n",
    "azdias_copy.PRAEGENDE_JUGENDJAHRE.value_counts()"
   ]
  },
  {
   "cell_type": "code",
   "execution_count": 61,
   "metadata": {},
   "outputs": [],
   "source": [
    "azdias_copy[\"Decade\"] = azdias_copy[\"PRAEGENDE_JUGENDJAHRE\"]\n",
    "azdias_copy[\"Movement\"] = azdias_copy[\"PRAEGENDE_JUGENDJAHRE\"]\n",
    "Decade_change = {1:1,2:1 ,3:2, 4:2 , 5:3 ,6:3 , 7:3 , 8:4 , 9:4 ,10:5,11:5 , 12:5 , 13:5 , 14:6, 15:6}\n",
    "Movement_change = {1:1,2:0 ,3:1, 4:0 , 5:1 ,6:0 , 7:0 , 8:1 , 9:0 ,10:1,11:0 , 12:1 , 13:0 , 14:1, 15:0}\n",
    "azdias_copy[\"Decade\"].replace(Decade_change,inplace=True)\n",
    "azdias_copy[\"Movement\"].replace(Movement_change,inplace=True)"
   ]
  },
  {
   "cell_type": "code",
   "execution_count": 62,
   "metadata": {},
   "outputs": [
    {
     "data": {
      "text/plain": [
       "6.0    225530\n",
       "4.0    175198\n",
       "5.0    151770\n",
       "3.0    114353\n",
       "2.0     74296\n",
       "1.0     28157\n",
       "Name: Decade, dtype: int64"
      ]
     },
     "execution_count": 62,
     "metadata": {},
     "output_type": "execute_result"
    }
   ],
   "source": [
    "azdias_copy[\"Decade\"].value_counts()"
   ]
  },
  {
   "cell_type": "code",
   "execution_count": 63,
   "metadata": {},
   "outputs": [
    {
     "data": {
      "text/plain": [
       "1.0    594080\n",
       "0.0    175224\n",
       "Name: Movement, dtype: int64"
      ]
     },
     "execution_count": 63,
     "metadata": {},
     "output_type": "execute_result"
    }
   ],
   "source": [
    "azdias_copy[\"Movement\"].value_counts()"
   ]
  },
  {
   "cell_type": "code",
   "execution_count": 64,
   "metadata": {},
   "outputs": [
    {
     "data": {
      "text/plain": [
       "51    133694\n",
       "41     92336\n",
       "24     91157\n",
       "14     62884\n",
       "43     56672\n",
       "54     45391\n",
       "25     39627\n",
       "22     33154\n",
       "23     26750\n",
       "13     26335\n",
       "45     26132\n",
       "55     23955\n",
       "52     20542\n",
       "31     19023\n",
       "34     18524\n",
       "15     16974\n",
       "44     14820\n",
       "12     13249\n",
       "35     10356\n",
       "32     10354\n",
       "33      9935\n",
       "Name: CAMEO_INTL_2015, dtype: int64"
      ]
     },
     "execution_count": 64,
     "metadata": {},
     "output_type": "execute_result"
    }
   ],
   "source": [
    "# Investigate \"CAMEO_INTL_2015\" and engineer two new variables.\n",
    "azdias_copy.CAMEO_INTL_2015.value_counts()\n"
   ]
  },
  {
   "cell_type": "code",
   "execution_count": 65,
   "metadata": {},
   "outputs": [],
   "source": [
    "azdias_copy[\"wealth\"] = azdias_copy[\"CAMEO_INTL_2015\"]\n",
    "azdias_copy[\"life_stage\"] = azdias_copy[\"CAMEO_INTL_2015\"]\n",
    "\n",
    "wealth_change = {'11':1, '12':1 ,'13':1, '14':1 , '15':1 ,'21':2 , '22':2 , '23':2 , '24':2 ,'25':2 , '31':3 ,'32':3,\n",
    "                 '33':3 , '34':3, '35':3, '41':4, '42':4 , '43':4, '44':4 , '45':4, '51':5, '52':5, '53':5, '54':5, '55':5}\n",
    "\n",
    "life_stage_change = {'11':1, '12':2 , '13':3, '14':4 , '15':5 , '21':1 , '22':2 , '23':3 , '24':4 , '25':5,\n",
    "                     '31':1 , '32':2 , '33':3 ,'34':4, '35':5,'41':1, '42':2 , '43':3, '44':4 , '45':5,\n",
    "                     '51':1, '52':2, '53':3, '54':4, '55':5}\n",
    "\n",
    "azdias_copy[\"wealth\"].replace(wealth_change,inplace=True)\n",
    "\n",
    "azdias_copy[\"life_stage\"].replace(life_stage_change,inplace=True)\n"
   ]
  },
  {
   "cell_type": "code",
   "execution_count": 66,
   "metadata": {},
   "outputs": [
    {
     "data": {
      "text/plain": [
       "5.0    223582\n",
       "2.0    190688\n",
       "4.0    189960\n",
       "1.0    119442\n",
       "3.0     68192\n",
       "Name: wealth, dtype: int64"
      ]
     },
     "execution_count": 66,
     "metadata": {},
     "output_type": "execute_result"
    }
   ],
   "source": [
    "azdias_copy[\"wealth\"].value_counts()"
   ]
  },
  {
   "cell_type": "code",
   "execution_count": 67,
   "metadata": {},
   "outputs": [
    {
     "data": {
      "text/plain": [
       "1.0    245053\n",
       "4.0    232776\n",
       "3.0    119692\n",
       "5.0    117044\n",
       "2.0     77299\n",
       "Name: life_stage, dtype: int64"
      ]
     },
     "execution_count": 67,
     "metadata": {},
     "output_type": "execute_result"
    }
   ],
   "source": [
    "azdias_copy[\"life_stage\"].value_counts()"
   ]
  },
  {
   "cell_type": "markdown",
   "metadata": {},
   "source": [
    "#### Discussion 1.2.2: Engineer Mixed-Type Features\n",
    "\n",
    "The mixed column PRAEGENDE_JUGENDJAHRE was replaced by Decade and Movement, and the column CAMEO_INTL_2015 was replaced by wealth and life_stage. The rest of mixed columns were dropped ['LP_LEBENSPHASE_FEIN', 'LP_LEBENSPHASE_GROB', 'WOHNLAGE', 'PLZ8_BAUMAX'].\n",
    "\n"
   ]
  },
  {
   "cell_type": "markdown",
   "metadata": {},
   "source": [
    "#### Step 1.2.3: Complete Feature Selection\n",
    "\n",
    "In order to finish this step up, you need to make sure that your data frame now only has the columns that you want to keep. To summarize, the dataframe should consist of the following:\n",
    "- All numeric, interval, and ordinal type columns from the original dataset.\n",
    "- Binary categorical features (all numerically-encoded).\n",
    "- Engineered features from other multi-level categorical features and mixed features.\n",
    "\n",
    "Make sure that for any new columns that you have engineered, that you've excluded the original columns from the final dataset. Otherwise, their values will interfere with the analysis later on the project. For example, you should not keep \"PRAEGENDE_JUGENDJAHRE\", since its values won't be useful for the algorithm: only the values derived from it in the engineered features you created should be retained. As a reminder, your data should only be from **the subset with few or no missing values**."
   ]
  },
  {
   "cell_type": "code",
   "execution_count": 68,
   "metadata": {},
   "outputs": [],
   "source": [
    "# If there are other re-engineering tasks you need to perform, make sure you\n",
    "# take care of them here. (Dealing with missing data will come in step 2.1.)\n",
    "\n"
   ]
  },
  {
   "cell_type": "code",
   "execution_count": 69,
   "metadata": {},
   "outputs": [
    {
     "data": {
      "text/plain": [
       "15      LP_LEBENSPHASE_FEIN\n",
       "16      LP_LEBENSPHASE_GROB\n",
       "22    PRAEGENDE_JUGENDJAHRE\n",
       "56                 WOHNLAGE\n",
       "59          CAMEO_INTL_2015\n",
       "79              PLZ8_BAUMAX\n",
       "Name: attribute, dtype: object"
      ]
     },
     "execution_count": 69,
     "metadata": {},
     "output_type": "execute_result"
    }
   ],
   "source": [
    "# Do whatever you need to in order to ensure that the dataframe only contains\n",
    "# the columns that should be passed to the algorithm functions.\n",
    "\n",
    "feat_mixed = feat_info_copy[feat_info_copy[\"type\"] == \"mixed\"].attribute\n",
    "feat_mixed\n"
   ]
  },
  {
   "cell_type": "code",
   "execution_count": 70,
   "metadata": {},
   "outputs": [
    {
     "data": {
      "text/plain": [
       "(798057, 72)"
      ]
     },
     "execution_count": 70,
     "metadata": {},
     "output_type": "execute_result"
    }
   ],
   "source": [
    "# the shape before we drop\n",
    "\n",
    "azdias_copy.shape"
   ]
  },
  {
   "cell_type": "code",
   "execution_count": 71,
   "metadata": {},
   "outputs": [],
   "source": [
    "azdias_copy.drop(feat_mixed, axis =1,inplace=True)"
   ]
  },
  {
   "cell_type": "code",
   "execution_count": 72,
   "metadata": {},
   "outputs": [
    {
     "data": {
      "text/plain": [
       "(798057, 66)"
      ]
     },
     "execution_count": 72,
     "metadata": {},
     "output_type": "execute_result"
    }
   ],
   "source": [
    "# the shape affter we drop\n",
    "azdias_copy.shape"
   ]
  },
  {
   "cell_type": "markdown",
   "metadata": {},
   "source": [
    "### Step 1.3: Create a Cleaning Function\n",
    "\n",
    "Even though you've finished cleaning up the general population demographics data, it's important to look ahead to the future and realize that you'll need to perform the same cleaning steps on the customer demographics data. In this substep, complete the function below to execute the main feature selection, encoding, and re-engineering steps you performed above. Then, when it comes to looking at the customer data in Step 3, you can just run this function on that DataFrame to get the trimmed dataset in a single step."
   ]
  },
  {
   "cell_type": "code",
   "execution_count": 73,
   "metadata": {},
   "outputs": [],
   "source": [
    "def clean_data(df):\n",
    "    \"\"\"\n",
    "    Perform feature trimming, re-encoding, and engineering for demographics\n",
    "    data\n",
    "    \n",
    "    INPUT: Demographics DataFrame\n",
    "    OUTPUT: Trimmed and cleaned demographics DataFrame\n",
    "    \"\"\"\n",
    "    \n",
    "    # Put in code here to execute all main cleaning steps:\n",
    "    # convert missing value codes into NaNs, ...\n",
    "    \n",
    "    \n",
    "    # remove selected columns and rows, ...\n",
    "\n",
    "    \n",
    "    # select, re-encode, and engineer column values.\n",
    "\n",
    "    \n",
    "    # Return the cleaned dataframe.\n",
    "    \n",
    "    "
   ]
  },
  {
   "cell_type": "code",
   "execution_count": 74,
   "metadata": {},
   "outputs": [],
   "source": [
    "def clean_data(df):\n",
    "    \"\"\"\n",
    "    Perform feature trimming, re-encoding, and engineering for demographics\n",
    "    data\n",
    "    \n",
    "    INPUT: Demographics DataFrame\n",
    "    OUTPUT: Trimmed and cleaned demographics DataFrame\n",
    "    \"\"\"\n",
    "    \n",
    "    # Put in code here to execute all main cleaning steps:\n",
    "    # convert missing value codes into NaNs, ...\n",
    "    feat_info_copy2 = feat_info.copy()\n",
    "    feat_info_copy2['missing_or_unknown'] = feat_info_copy2['missing_or_unknown'].str.strip('[').str.strip(']').str.split(',').values\n",
    "    feat_info_copy2.set_index(['attribute'], inplace=True)\n",
    "    for lab , row  in feat_info_copy2.iterrows():\n",
    "        \n",
    "\n",
    "        d=row['missing_or_unknown']\n",
    "        for i in range(len(d)): \n",
    "            \n",
    "            if ( d[i] != 'X'and d[i] != 'XX'and d[i] != '' ):\n",
    "                d[i] = int(d[i]) \n",
    "            else:\n",
    "                d[i] = d[i]\n",
    "                    \n",
    "          \n",
    "    \n",
    "    for lab2 , row  in feat_info_copy2.iterrows():\n",
    "\n",
    "        d=row['missing_or_unknown']\n",
    "\n",
    "        for s in d:\n",
    "            df[lab2].replace(s, np.NaN, inplace=True)\n",
    "\n",
    "    # remove selected columns and rows, ...\n",
    "    \n",
    "    \n",
    "    feat_info_copy2.reset_index(['attribute'], inplace=True)\n",
    "    drop_column = ['AGER_TYP', 'TITEL_KZ', 'KK_KUNDENTYP', 'KBA05_BAUMAX']\n",
    "        \n",
    "    df.drop(drop_column, axis =1,inplace=True)\n",
    "    \n",
    "    for drop_column in drop_column:\n",
    "    \n",
    "        drop_feat_info = feat_info_copy2[feat_info_copy2[\"attribute\"] == drop_column].index[0]\n",
    "        feat_info_copy2.drop(drop_feat_info,axis = 0,inplace=True)\n",
    "    \n",
    "    less_missing =  df[df.isnull().sum(axis=1) <=30]\n",
    "    \n",
    "    df = less_missing.copy()\n",
    "    \n",
    "    # select, re-encode, and engineer column values.\n",
    "    feat_categorical = feat_info_copy2[feat_info_copy2[\"type\"] == \"categorical\"].attribute\n",
    "    binary_list = []\n",
    "    multi_level_list = []\n",
    "\n",
    "    for i in feat_categorical:\n",
    "        if (df[i].value_counts().count() < 3):\n",
    "        \n",
    "            binary_list.append(i)\n",
    "        else:\n",
    "            multi_level_list.append(i)\n",
    "\n",
    "    df[\"OST_WEST_KZ\"].replace(['W','O'],[1,0], inplace =True)\n",
    "    \n",
    "    df.drop(multi_level_list, axis =1,inplace=True)\n",
    "    \n",
    "    \n",
    "    df[\"Decade\"] = df[\"PRAEGENDE_JUGENDJAHRE\"]\n",
    "    df[\"Movement\"] = df[\"PRAEGENDE_JUGENDJAHRE\"]\n",
    "    Decade_change = {1:1,2:1 ,3:2, 4:2 , 5:3 ,6:3 , 7:3 , 8:4 , 9:4 ,10:5,11:5 , 12:5 , 13:5 , 14:6, 15:6}\n",
    "    Movement_change = {1:1,2:0 ,3:1, 4:0 , 5:1 ,6:0 , 7:0 , 8:1 , 9:0 ,10:1,11:0 , 12:1 , 13:0 , 14:1, 15:0}\n",
    "    df[\"Decade\"].replace(Decade_change,inplace=True)\n",
    "    df[\"Movement\"].replace(Movement_change,inplace=True)\n",
    "    \n",
    "    \n",
    "    df[\"wealth\"] = df[\"CAMEO_INTL_2015\"]\n",
    "    df[\"life_stage\"] = df[\"CAMEO_INTL_2015\"]\n",
    "\n",
    "    wealth_change = {'11':1, '12':1 ,'13':1, '14':1 , '15':1 ,'21':2 , '22':2 , '23':2 , '24':2 ,'25':2 , '31':3 ,'32':3,\n",
    "                 '33':3 , '34':3, '35':3, '41':4, '42':4 , '43':4, '44':4 , '45':4, '51':5, '52':5, '53':5, '54':5, '55':5}\n",
    "\n",
    "    life_stage_change = {'11':1, '12':2 , '13':3, '14':4 , '15':5 , '21':1 , '22':2 , '23':3 , '24':4 , '25':5,\n",
    "                     '31':1 , '32':2 , '33':3 ,'34':4, '35':5,'41':1, '42':2 , '43':3, '44':4 , '45':5,\n",
    "                     '51':1, '52':2, '53':3, '54':4, '55':5}\n",
    "\n",
    "    df[\"wealth\"].replace(wealth_change,inplace=True)\n",
    "\n",
    "    df[\"life_stage\"].replace(life_stage_change,inplace=True)\n",
    "    \n",
    "    feat_mixed = feat_info_copy2[feat_info_copy2[\"type\"] == \"mixed\"].attribute\n",
    "    \n",
    "    df.drop(feat_mixed, axis =1,inplace=True)\n",
    "    \n",
    "\n",
    "\n",
    "    \n",
    "   \n",
    "    # Return the cleaned dataframe.\n",
    "    return df"
   ]
  },
  {
   "cell_type": "code",
   "execution_count": 75,
   "metadata": {},
   "outputs": [],
   "source": [
    "# cheak for the funcion\n",
    "azdias_test01 = azdias.copy()"
   ]
  },
  {
   "cell_type": "code",
   "execution_count": 76,
   "metadata": {},
   "outputs": [],
   "source": [
    "azdias_test01= clean_data(azdias_test01)"
   ]
  },
  {
   "cell_type": "code",
   "execution_count": 77,
   "metadata": {},
   "outputs": [
    {
     "data": {
      "text/plain": [
       "(798057, 66)"
      ]
     },
     "execution_count": 77,
     "metadata": {},
     "output_type": "execute_result"
    }
   ],
   "source": [
    "azdias_copy.shape"
   ]
  },
  {
   "cell_type": "code",
   "execution_count": 78,
   "metadata": {},
   "outputs": [
    {
     "data": {
      "text/plain": [
       "(798057, 66)"
      ]
     },
     "execution_count": 78,
     "metadata": {},
     "output_type": "execute_result"
    }
   ],
   "source": [
    "azdias_test01.shape"
   ]
  },
  {
   "cell_type": "code",
   "execution_count": 79,
   "metadata": {},
   "outputs": [
    {
     "data": {
      "text/plain": [
       "1304533"
      ]
     },
     "execution_count": 79,
     "metadata": {},
     "output_type": "execute_result"
    }
   ],
   "source": [
    "azdias_copy.isnull().sum().sum()"
   ]
  },
  {
   "cell_type": "code",
   "execution_count": 81,
   "metadata": {},
   "outputs": [
    {
     "data": {
      "text/plain": [
       "1304533"
      ]
     },
     "execution_count": 81,
     "metadata": {},
     "output_type": "execute_result"
    }
   ],
   "source": [
    "azdias_test01.isnull().sum().sum()"
   ]
  },
  {
   "cell_type": "markdown",
   "metadata": {},
   "source": [
    "## Step 2: Feature Transformation\n",
    "\n",
    "### Step 2.1: Apply Feature Scaling\n",
    "\n",
    "Before we apply dimensionality reduction techniques to the data, we need to perform feature scaling so that the principal component vectors are not influenced by the natural differences in scale for features. Starting from this part of the project, you'll want to keep an eye on the [API reference page for sklearn](http://scikit-learn.org/stable/modules/classes.html) to help you navigate to all of the classes and functions that you'll need. In this substep, you'll need to check the following:\n",
    "\n",
    "- sklearn requires that data not have missing values in order for its estimators to work properly. So, before applying the scaler to your data, make sure that you've cleaned the DataFrame of the remaining missing values. This can be as simple as just removing all data points with missing data, or applying an [Imputer](http://scikit-learn.org/stable/modules/generated/sklearn.preprocessing.Imputer.html) to replace all missing values. You might also try a more complicated procedure where you temporarily remove missing values in order to compute the scaling parameters before re-introducing those missing values and applying imputation. Think about how much missing data you have and what possible effects each approach might have on your analysis, and justify your decision in the discussion section below.\n",
    "- For the actual scaling function, a [StandardScaler](http://scikit-learn.org/stable/modules/generated/sklearn.preprocessing.StandardScaler.html) instance is suggested, scaling each feature to mean 0 and standard deviation 1.\n",
    "- For these classes, you can make use of the `.fit_transform()` method to both fit a procedure to the data as well as apply the transformation to the data at the same time. Don't forget to keep the fit sklearn objects handy, since you'll be applying them to the customer demographics data towards the end of the project."
   ]
  },
  {
   "cell_type": "code",
   "execution_count": 82,
   "metadata": {},
   "outputs": [],
   "source": [
    "azdias_clean = clean_data(azdias)"
   ]
  },
  {
   "cell_type": "code",
   "execution_count": 83,
   "metadata": {},
   "outputs": [],
   "source": [
    "imputer = Imputer(strategy='mean')\n",
    "azdias_clean = imputer.fit_transform(azdias_clean)"
   ]
  },
  {
   "cell_type": "code",
   "execution_count": 84,
   "metadata": {},
   "outputs": [],
   "source": [
    "azdias_clean_imputer = pd.DataFrame(azdias_clean , columns=azdias_copy.columns)"
   ]
  },
  {
   "cell_type": "code",
   "execution_count": 85,
   "metadata": {},
   "outputs": [
    {
     "data": {
      "text/plain": [
       "0"
      ]
     },
     "execution_count": 85,
     "metadata": {},
     "output_type": "execute_result"
    }
   ],
   "source": [
    "azdias_clean_imputer.isnull().sum().sum()"
   ]
  },
  {
   "cell_type": "code",
   "execution_count": 86,
   "metadata": {},
   "outputs": [
    {
     "data": {
      "text/html": [
       "<div>\n",
       "<style scoped>\n",
       "    .dataframe tbody tr th:only-of-type {\n",
       "        vertical-align: middle;\n",
       "    }\n",
       "\n",
       "    .dataframe tbody tr th {\n",
       "        vertical-align: top;\n",
       "    }\n",
       "\n",
       "    .dataframe thead th {\n",
       "        text-align: right;\n",
       "    }\n",
       "</style>\n",
       "<table border=\"1\" class=\"dataframe\">\n",
       "  <thead>\n",
       "    <tr style=\"text-align: right;\">\n",
       "      <th></th>\n",
       "      <th>ALTERSKATEGORIE_GROB</th>\n",
       "      <th>ANREDE_KZ</th>\n",
       "      <th>FINANZ_MINIMALIST</th>\n",
       "      <th>FINANZ_SPARER</th>\n",
       "      <th>FINANZ_VORSORGER</th>\n",
       "      <th>FINANZ_ANLEGER</th>\n",
       "      <th>FINANZ_UNAUFFAELLIGER</th>\n",
       "      <th>FINANZ_HAUSBAUER</th>\n",
       "      <th>GEBURTSJAHR</th>\n",
       "      <th>GREEN_AVANTGARDE</th>\n",
       "      <th>...</th>\n",
       "      <th>PLZ8_ANTG4</th>\n",
       "      <th>PLZ8_HHZ</th>\n",
       "      <th>PLZ8_GBZ</th>\n",
       "      <th>ARBEIT</th>\n",
       "      <th>ORTSGR_KLS9</th>\n",
       "      <th>RELAT_AB</th>\n",
       "      <th>Decade</th>\n",
       "      <th>Movement</th>\n",
       "      <th>wealth</th>\n",
       "      <th>life_stage</th>\n",
       "    </tr>\n",
       "  </thead>\n",
       "  <tbody>\n",
       "    <tr>\n",
       "      <th>0</th>\n",
       "      <td>-1.766065</td>\n",
       "      <td>0.957917</td>\n",
       "      <td>-1.494596</td>\n",
       "      <td>1.537923</td>\n",
       "      <td>-1.040686</td>\n",
       "      <td>1.465973</td>\n",
       "      <td>0.958651</td>\n",
       "      <td>1.339310</td>\n",
       "      <td>2.079129e+00</td>\n",
       "      <td>-0.530409</td>\n",
       "      <td>...</td>\n",
       "      <td>4.199134e-01</td>\n",
       "      <td>1.445564e+00</td>\n",
       "      <td>0.565108</td>\n",
       "      <td>-1.672895e-01</td>\n",
       "      <td>-1.277104e-01</td>\n",
       "      <td>6.846090e-01</td>\n",
       "      <td>1.165681e+00</td>\n",
       "      <td>5.531492e-01</td>\n",
       "      <td>1.191318e+00</td>\n",
       "      <td>-1.266420e+00</td>\n",
       "    </tr>\n",
       "    <tr>\n",
       "      <th>1</th>\n",
       "      <td>0.201242</td>\n",
       "      <td>0.957917</td>\n",
       "      <td>-1.494596</td>\n",
       "      <td>0.864563</td>\n",
       "      <td>-1.766971</td>\n",
       "      <td>-0.570994</td>\n",
       "      <td>0.244124</td>\n",
       "      <td>1.339310</td>\n",
       "      <td>8.564651e-01</td>\n",
       "      <td>1.885337</td>\n",
       "      <td>...</td>\n",
       "      <td>-9.759169e-01</td>\n",
       "      <td>4.034750e-01</td>\n",
       "      <td>0.565108</td>\n",
       "      <td>-1.672895e-01</td>\n",
       "      <td>-1.277104e-01</td>\n",
       "      <td>-7.893133e-01</td>\n",
       "      <td>1.165681e+00</td>\n",
       "      <td>-1.875399e+00</td>\n",
       "      <td>-8.651669e-01</td>\n",
       "      <td>7.619805e-01</td>\n",
       "    </tr>\n",
       "    <tr>\n",
       "      <th>2</th>\n",
       "      <td>1.184895</td>\n",
       "      <td>0.957917</td>\n",
       "      <td>0.683143</td>\n",
       "      <td>-0.482156</td>\n",
       "      <td>1.138168</td>\n",
       "      <td>-0.570994</td>\n",
       "      <td>-1.184930</td>\n",
       "      <td>-0.791211</td>\n",
       "      <td>-7.258053e-01</td>\n",
       "      <td>-0.530409</td>\n",
       "      <td>...</td>\n",
       "      <td>-9.759169e-01</td>\n",
       "      <td>-6.386137e-01</td>\n",
       "      <td>0.565108</td>\n",
       "      <td>-1.170883e+00</td>\n",
       "      <td>-9.982552e-01</td>\n",
       "      <td>-5.235215e-02</td>\n",
       "      <td>-2.320236e-01</td>\n",
       "      <td>5.531492e-01</td>\n",
       "      <td>-1.550662e+00</td>\n",
       "      <td>-5.902865e-01</td>\n",
       "    </tr>\n",
       "    <tr>\n",
       "      <th>3</th>\n",
       "      <td>0.201242</td>\n",
       "      <td>-1.043932</td>\n",
       "      <td>0.683143</td>\n",
       "      <td>0.191204</td>\n",
       "      <td>0.411883</td>\n",
       "      <td>-1.249984</td>\n",
       "      <td>0.244124</td>\n",
       "      <td>-0.791211</td>\n",
       "      <td>-2.942770e-01</td>\n",
       "      <td>-0.530409</td>\n",
       "      <td>...</td>\n",
       "      <td>4.199134e-01</td>\n",
       "      <td>-6.386137e-01</td>\n",
       "      <td>-0.347956</td>\n",
       "      <td>8.363035e-01</td>\n",
       "      <td>3.075620e-01</td>\n",
       "      <td>1.421570e+00</td>\n",
       "      <td>-2.320236e-01</td>\n",
       "      <td>5.531492e-01</td>\n",
       "      <td>5.058228e-01</td>\n",
       "      <td>8.584699e-02</td>\n",
       "    </tr>\n",
       "    <tr>\n",
       "      <th>4</th>\n",
       "      <td>-1.766065</td>\n",
       "      <td>0.957917</td>\n",
       "      <td>-0.042770</td>\n",
       "      <td>-1.155515</td>\n",
       "      <td>1.138168</td>\n",
       "      <td>-0.570994</td>\n",
       "      <td>-0.470403</td>\n",
       "      <td>1.339310</td>\n",
       "      <td>-1.732705e+00</td>\n",
       "      <td>-0.530409</td>\n",
       "      <td>...</td>\n",
       "      <td>4.199134e-01</td>\n",
       "      <td>1.445564e+00</td>\n",
       "      <td>1.478171</td>\n",
       "      <td>-1.170883e+00</td>\n",
       "      <td>-9.982552e-01</td>\n",
       "      <td>-5.235215e-02</td>\n",
       "      <td>-1.629729e+00</td>\n",
       "      <td>5.531492e-01</td>\n",
       "      <td>1.191318e+00</td>\n",
       "      <td>7.619805e-01</td>\n",
       "    </tr>\n",
       "    <tr>\n",
       "      <th>5</th>\n",
       "      <td>-0.782411</td>\n",
       "      <td>0.957917</td>\n",
       "      <td>-1.494596</td>\n",
       "      <td>1.537923</td>\n",
       "      <td>-1.766971</td>\n",
       "      <td>1.465973</td>\n",
       "      <td>0.958651</td>\n",
       "      <td>-0.081038</td>\n",
       "      <td>6.541211e-14</td>\n",
       "      <td>-0.530409</td>\n",
       "      <td>...</td>\n",
       "      <td>-9.759169e-01</td>\n",
       "      <td>1.445564e+00</td>\n",
       "      <td>1.478171</td>\n",
       "      <td>8.363035e-01</td>\n",
       "      <td>3.075620e-01</td>\n",
       "      <td>-5.235215e-02</td>\n",
       "      <td>4.668288e-01</td>\n",
       "      <td>5.531492e-01</td>\n",
       "      <td>-8.651669e-01</td>\n",
       "      <td>-5.902865e-01</td>\n",
       "    </tr>\n",
       "    <tr>\n",
       "      <th>6</th>\n",
       "      <td>-1.766065</td>\n",
       "      <td>-1.043932</td>\n",
       "      <td>-0.042770</td>\n",
       "      <td>0.191204</td>\n",
       "      <td>0.411883</td>\n",
       "      <td>-1.249984</td>\n",
       "      <td>0.244124</td>\n",
       "      <td>-0.791211</td>\n",
       "      <td>-2.223557e-01</td>\n",
       "      <td>-0.530409</td>\n",
       "      <td>...</td>\n",
       "      <td>-9.759169e-01</td>\n",
       "      <td>4.034750e-01</td>\n",
       "      <td>0.565108</td>\n",
       "      <td>-1.170883e+00</td>\n",
       "      <td>-1.277104e-01</td>\n",
       "      <td>-7.893133e-01</td>\n",
       "      <td>-2.320236e-01</td>\n",
       "      <td>5.531492e-01</td>\n",
       "      <td>-1.550662e+00</td>\n",
       "      <td>7.619805e-01</td>\n",
       "    </tr>\n",
       "    <tr>\n",
       "      <th>7</th>\n",
       "      <td>0.201242</td>\n",
       "      <td>-1.043932</td>\n",
       "      <td>0.683143</td>\n",
       "      <td>0.864563</td>\n",
       "      <td>-1.040686</td>\n",
       "      <td>0.786984</td>\n",
       "      <td>-0.470403</td>\n",
       "      <td>-0.791211</td>\n",
       "      <td>4.968582e-01</td>\n",
       "      <td>1.885337</td>\n",
       "      <td>...</td>\n",
       "      <td>4.199134e-01</td>\n",
       "      <td>-6.386137e-01</td>\n",
       "      <td>-0.347956</td>\n",
       "      <td>-1.170883e+00</td>\n",
       "      <td>-5.629828e-01</td>\n",
       "      <td>-5.235215e-02</td>\n",
       "      <td>4.668288e-01</td>\n",
       "      <td>-1.875399e+00</td>\n",
       "      <td>-1.550662e+00</td>\n",
       "      <td>8.584699e-02</td>\n",
       "    </tr>\n",
       "    <tr>\n",
       "      <th>8</th>\n",
       "      <td>0.201242</td>\n",
       "      <td>0.957917</td>\n",
       "      <td>-0.768683</td>\n",
       "      <td>0.864563</td>\n",
       "      <td>-1.040686</td>\n",
       "      <td>0.107995</td>\n",
       "      <td>1.673178</td>\n",
       "      <td>0.629136</td>\n",
       "      <td>5.687795e-01</td>\n",
       "      <td>1.885337</td>\n",
       "      <td>...</td>\n",
       "      <td>4.199134e-01</td>\n",
       "      <td>-6.386137e-01</td>\n",
       "      <td>-0.347956</td>\n",
       "      <td>-1.170883e+00</td>\n",
       "      <td>-9.982552e-01</td>\n",
       "      <td>-1.526274e+00</td>\n",
       "      <td>1.165681e+00</td>\n",
       "      <td>-1.875399e+00</td>\n",
       "      <td>-1.550662e+00</td>\n",
       "      <td>1.438114e+00</td>\n",
       "    </tr>\n",
       "    <tr>\n",
       "      <th>9</th>\n",
       "      <td>0.201242</td>\n",
       "      <td>0.957917</td>\n",
       "      <td>-0.768683</td>\n",
       "      <td>-0.482156</td>\n",
       "      <td>1.138168</td>\n",
       "      <td>0.107995</td>\n",
       "      <td>-1.184930</td>\n",
       "      <td>1.339310</td>\n",
       "      <td>-1.876547e+00</td>\n",
       "      <td>-0.530409</td>\n",
       "      <td>...</td>\n",
       "      <td>-9.759169e-01</td>\n",
       "      <td>-6.386137e-01</td>\n",
       "      <td>-0.347956</td>\n",
       "      <td>8.363035e-01</td>\n",
       "      <td>3.075620e-01</td>\n",
       "      <td>1.421570e+00</td>\n",
       "      <td>-1.629729e+00</td>\n",
       "      <td>5.531492e-01</td>\n",
       "      <td>1.191318e+00</td>\n",
       "      <td>-1.266420e+00</td>\n",
       "    </tr>\n",
       "    <tr>\n",
       "      <th>10</th>\n",
       "      <td>0.201242</td>\n",
       "      <td>-1.043932</td>\n",
       "      <td>1.409056</td>\n",
       "      <td>0.191204</td>\n",
       "      <td>0.411883</td>\n",
       "      <td>-0.570994</td>\n",
       "      <td>0.958651</td>\n",
       "      <td>-1.501385</td>\n",
       "      <td>6.541211e-14</td>\n",
       "      <td>-0.530409</td>\n",
       "      <td>...</td>\n",
       "      <td>-9.759169e-01</td>\n",
       "      <td>1.445564e+00</td>\n",
       "      <td>1.478171</td>\n",
       "      <td>-1.672895e-01</td>\n",
       "      <td>3.075620e-01</td>\n",
       "      <td>6.846090e-01</td>\n",
       "      <td>-2.320236e-01</td>\n",
       "      <td>5.531492e-01</td>\n",
       "      <td>5.058228e-01</td>\n",
       "      <td>8.584699e-02</td>\n",
       "    </tr>\n",
       "    <tr>\n",
       "      <th>11</th>\n",
       "      <td>-1.766065</td>\n",
       "      <td>0.957917</td>\n",
       "      <td>-1.494596</td>\n",
       "      <td>0.864563</td>\n",
       "      <td>-0.314402</td>\n",
       "      <td>1.465973</td>\n",
       "      <td>1.673178</td>\n",
       "      <td>-0.791211</td>\n",
       "      <td>1.863364e+00</td>\n",
       "      <td>1.885337</td>\n",
       "      <td>...</td>\n",
       "      <td>4.199134e-01</td>\n",
       "      <td>-6.386137e-01</td>\n",
       "      <td>-0.347956</td>\n",
       "      <td>-1.672895e-01</td>\n",
       "      <td>3.075620e-01</td>\n",
       "      <td>6.846090e-01</td>\n",
       "      <td>1.165681e+00</td>\n",
       "      <td>-1.875399e+00</td>\n",
       "      <td>-1.796720e-01</td>\n",
       "      <td>8.584699e-02</td>\n",
       "    </tr>\n",
       "    <tr>\n",
       "      <th>12</th>\n",
       "      <td>1.184895</td>\n",
       "      <td>0.957917</td>\n",
       "      <td>0.683143</td>\n",
       "      <td>-1.155515</td>\n",
       "      <td>1.138168</td>\n",
       "      <td>-1.249984</td>\n",
       "      <td>-1.184930</td>\n",
       "      <td>0.629136</td>\n",
       "      <td>-1.516940e+00</td>\n",
       "      <td>-0.530409</td>\n",
       "      <td>...</td>\n",
       "      <td>4.649049e-16</td>\n",
       "      <td>-1.388341e-15</td>\n",
       "      <td>0.000000</td>\n",
       "      <td>8.363035e-01</td>\n",
       "      <td>1.178107e+00</td>\n",
       "      <td>1.421570e+00</td>\n",
       "      <td>-9.308761e-01</td>\n",
       "      <td>5.531492e-01</td>\n",
       "      <td>5.058228e-01</td>\n",
       "      <td>-1.266420e+00</td>\n",
       "    </tr>\n",
       "    <tr>\n",
       "      <th>13</th>\n",
       "      <td>-1.766065</td>\n",
       "      <td>0.957917</td>\n",
       "      <td>0.683143</td>\n",
       "      <td>0.191204</td>\n",
       "      <td>-1.766971</td>\n",
       "      <td>0.786984</td>\n",
       "      <td>1.673178</td>\n",
       "      <td>-1.501385</td>\n",
       "      <td>1.503757e+00</td>\n",
       "      <td>-0.530409</td>\n",
       "      <td>...</td>\n",
       "      <td>-9.759169e-01</td>\n",
       "      <td>-6.386137e-01</td>\n",
       "      <td>0.565108</td>\n",
       "      <td>-2.174476e+00</td>\n",
       "      <td>-1.433528e+00</td>\n",
       "      <td>-1.526274e+00</td>\n",
       "      <td>1.165681e+00</td>\n",
       "      <td>5.531492e-01</td>\n",
       "      <td>5.058228e-01</td>\n",
       "      <td>-1.266420e+00</td>\n",
       "    </tr>\n",
       "    <tr>\n",
       "      <th>14</th>\n",
       "      <td>-0.782411</td>\n",
       "      <td>0.957917</td>\n",
       "      <td>-0.768683</td>\n",
       "      <td>0.864563</td>\n",
       "      <td>-1.766971</td>\n",
       "      <td>1.465973</td>\n",
       "      <td>0.958651</td>\n",
       "      <td>-1.501385</td>\n",
       "      <td>6.541211e-14</td>\n",
       "      <td>-0.530409</td>\n",
       "      <td>...</td>\n",
       "      <td>4.199134e-01</td>\n",
       "      <td>-6.386137e-01</td>\n",
       "      <td>-0.347956</td>\n",
       "      <td>-1.672895e-01</td>\n",
       "      <td>-5.629828e-01</td>\n",
       "      <td>-5.235215e-02</td>\n",
       "      <td>4.668288e-01</td>\n",
       "      <td>5.531492e-01</td>\n",
       "      <td>-8.651669e-01</td>\n",
       "      <td>7.619805e-01</td>\n",
       "    </tr>\n",
       "    <tr>\n",
       "      <th>15</th>\n",
       "      <td>0.201242</td>\n",
       "      <td>-1.043932</td>\n",
       "      <td>1.409056</td>\n",
       "      <td>-0.482156</td>\n",
       "      <td>-0.314402</td>\n",
       "      <td>-1.249984</td>\n",
       "      <td>0.244124</td>\n",
       "      <td>-1.501385</td>\n",
       "      <td>6.541211e-14</td>\n",
       "      <td>1.885337</td>\n",
       "      <td>...</td>\n",
       "      <td>4.199134e-01</td>\n",
       "      <td>1.445564e+00</td>\n",
       "      <td>0.565108</td>\n",
       "      <td>8.363035e-01</td>\n",
       "      <td>3.075620e-01</td>\n",
       "      <td>-5.235215e-02</td>\n",
       "      <td>-2.320236e-01</td>\n",
       "      <td>-1.875399e+00</td>\n",
       "      <td>-1.796720e-01</td>\n",
       "      <td>7.619805e-01</td>\n",
       "    </tr>\n",
       "    <tr>\n",
       "      <th>16</th>\n",
       "      <td>-0.782411</td>\n",
       "      <td>0.957917</td>\n",
       "      <td>0.683143</td>\n",
       "      <td>0.191204</td>\n",
       "      <td>-1.766971</td>\n",
       "      <td>0.786984</td>\n",
       "      <td>1.673178</td>\n",
       "      <td>-1.501385</td>\n",
       "      <td>6.541211e-14</td>\n",
       "      <td>1.885337</td>\n",
       "      <td>...</td>\n",
       "      <td>4.649049e-16</td>\n",
       "      <td>-1.388341e-15</td>\n",
       "      <td>0.000000</td>\n",
       "      <td>-1.672895e-01</td>\n",
       "      <td>-5.629828e-01</td>\n",
       "      <td>-1.526274e+00</td>\n",
       "      <td>4.668288e-01</td>\n",
       "      <td>-1.875399e+00</td>\n",
       "      <td>-8.651669e-01</td>\n",
       "      <td>7.619805e-01</td>\n",
       "    </tr>\n",
       "    <tr>\n",
       "      <th>17</th>\n",
       "      <td>-0.782411</td>\n",
       "      <td>-1.043932</td>\n",
       "      <td>-0.042770</td>\n",
       "      <td>0.864563</td>\n",
       "      <td>-1.766971</td>\n",
       "      <td>-0.570994</td>\n",
       "      <td>1.673178</td>\n",
       "      <td>-1.501385</td>\n",
       "      <td>6.541211e-14</td>\n",
       "      <td>-0.530409</td>\n",
       "      <td>...</td>\n",
       "      <td>1.815744e+00</td>\n",
       "      <td>4.034750e-01</td>\n",
       "      <td>-0.347956</td>\n",
       "      <td>1.839897e+00</td>\n",
       "      <td>7.428344e-01</td>\n",
       "      <td>1.421570e+00</td>\n",
       "      <td>4.668288e-01</td>\n",
       "      <td>5.531492e-01</td>\n",
       "      <td>1.191318e+00</td>\n",
       "      <td>1.438114e+00</td>\n",
       "    </tr>\n",
       "    <tr>\n",
       "      <th>18</th>\n",
       "      <td>-1.766065</td>\n",
       "      <td>-1.043932</td>\n",
       "      <td>-1.494596</td>\n",
       "      <td>1.537923</td>\n",
       "      <td>-0.314402</td>\n",
       "      <td>1.465973</td>\n",
       "      <td>1.673178</td>\n",
       "      <td>1.339310</td>\n",
       "      <td>6.541211e-14</td>\n",
       "      <td>-0.530409</td>\n",
       "      <td>...</td>\n",
       "      <td>4.199134e-01</td>\n",
       "      <td>4.034750e-01</td>\n",
       "      <td>-0.347956</td>\n",
       "      <td>8.363035e-01</td>\n",
       "      <td>-1.277104e-01</td>\n",
       "      <td>1.421570e+00</td>\n",
       "      <td>1.165681e+00</td>\n",
       "      <td>5.531492e-01</td>\n",
       "      <td>1.191318e+00</td>\n",
       "      <td>-1.266420e+00</td>\n",
       "    </tr>\n",
       "    <tr>\n",
       "      <th>19</th>\n",
       "      <td>0.201242</td>\n",
       "      <td>-1.043932</td>\n",
       "      <td>1.409056</td>\n",
       "      <td>0.191204</td>\n",
       "      <td>-0.314402</td>\n",
       "      <td>-0.570994</td>\n",
       "      <td>-0.470403</td>\n",
       "      <td>-1.501385</td>\n",
       "      <td>6.541211e-14</td>\n",
       "      <td>1.885337</td>\n",
       "      <td>...</td>\n",
       "      <td>4.649049e-16</td>\n",
       "      <td>-1.388341e-15</td>\n",
       "      <td>0.000000</td>\n",
       "      <td>-1.672895e-01</td>\n",
       "      <td>3.075620e-01</td>\n",
       "      <td>-7.893133e-01</td>\n",
       "      <td>-2.320236e-01</td>\n",
       "      <td>-1.875399e+00</td>\n",
       "      <td>5.058228e-01</td>\n",
       "      <td>8.584699e-02</td>\n",
       "    </tr>\n",
       "    <tr>\n",
       "      <th>20</th>\n",
       "      <td>-1.766065</td>\n",
       "      <td>-1.043932</td>\n",
       "      <td>-0.042770</td>\n",
       "      <td>1.537923</td>\n",
       "      <td>-0.314402</td>\n",
       "      <td>1.465973</td>\n",
       "      <td>0.958651</td>\n",
       "      <td>-0.081038</td>\n",
       "      <td>1.719522e+00</td>\n",
       "      <td>-0.530409</td>\n",
       "      <td>...</td>\n",
       "      <td>-9.759169e-01</td>\n",
       "      <td>4.034750e-01</td>\n",
       "      <td>1.478171</td>\n",
       "      <td>-1.672895e-01</td>\n",
       "      <td>-1.433528e+00</td>\n",
       "      <td>1.421570e+00</td>\n",
       "      <td>1.165681e+00</td>\n",
       "      <td>5.531492e-01</td>\n",
       "      <td>-1.796720e-01</td>\n",
       "      <td>8.584699e-02</td>\n",
       "    </tr>\n",
       "    <tr>\n",
       "      <th>21</th>\n",
       "      <td>0.201242</td>\n",
       "      <td>-1.043932</td>\n",
       "      <td>1.409056</td>\n",
       "      <td>-0.482156</td>\n",
       "      <td>0.411883</td>\n",
       "      <td>-0.570994</td>\n",
       "      <td>0.244124</td>\n",
       "      <td>-1.501385</td>\n",
       "      <td>6.541211e-14</td>\n",
       "      <td>-0.530409</td>\n",
       "      <td>...</td>\n",
       "      <td>4.649049e-16</td>\n",
       "      <td>-1.388341e-15</td>\n",
       "      <td>0.000000</td>\n",
       "      <td>8.363035e-01</td>\n",
       "      <td>-9.982552e-01</td>\n",
       "      <td>1.421570e+00</td>\n",
       "      <td>-2.320236e-01</td>\n",
       "      <td>5.531492e-01</td>\n",
       "      <td>-3.044209e-16</td>\n",
       "      <td>9.007908e-16</td>\n",
       "    </tr>\n",
       "    <tr>\n",
       "      <th>22</th>\n",
       "      <td>0.201242</td>\n",
       "      <td>-1.043932</td>\n",
       "      <td>-0.042770</td>\n",
       "      <td>0.191204</td>\n",
       "      <td>0.411883</td>\n",
       "      <td>-1.249984</td>\n",
       "      <td>-0.470403</td>\n",
       "      <td>-0.791211</td>\n",
       "      <td>6.541211e-14</td>\n",
       "      <td>1.885337</td>\n",
       "      <td>...</td>\n",
       "      <td>1.815744e+00</td>\n",
       "      <td>1.445564e+00</td>\n",
       "      <td>-0.347956</td>\n",
       "      <td>8.363035e-01</td>\n",
       "      <td>7.428344e-01</td>\n",
       "      <td>1.421570e+00</td>\n",
       "      <td>4.668288e-01</td>\n",
       "      <td>-1.875399e+00</td>\n",
       "      <td>1.191318e+00</td>\n",
       "      <td>-1.266420e+00</td>\n",
       "    </tr>\n",
       "    <tr>\n",
       "      <th>23</th>\n",
       "      <td>0.201242</td>\n",
       "      <td>-1.043932</td>\n",
       "      <td>-0.042770</td>\n",
       "      <td>-0.482156</td>\n",
       "      <td>0.411883</td>\n",
       "      <td>0.107995</td>\n",
       "      <td>0.244124</td>\n",
       "      <td>-0.791211</td>\n",
       "      <td>-7.851289e-02</td>\n",
       "      <td>-0.530409</td>\n",
       "      <td>...</td>\n",
       "      <td>-9.759169e-01</td>\n",
       "      <td>1.445564e+00</td>\n",
       "      <td>1.478171</td>\n",
       "      <td>-1.672895e-01</td>\n",
       "      <td>-5.629828e-01</td>\n",
       "      <td>-1.526274e+00</td>\n",
       "      <td>4.668288e-01</td>\n",
       "      <td>5.531492e-01</td>\n",
       "      <td>-1.550662e+00</td>\n",
       "      <td>8.584699e-02</td>\n",
       "    </tr>\n",
       "    <tr>\n",
       "      <th>24</th>\n",
       "      <td>1.184895</td>\n",
       "      <td>0.957917</td>\n",
       "      <td>1.409056</td>\n",
       "      <td>-1.155515</td>\n",
       "      <td>1.138168</td>\n",
       "      <td>-0.570994</td>\n",
       "      <td>-1.184930</td>\n",
       "      <td>-0.081038</td>\n",
       "      <td>-1.301176e+00</td>\n",
       "      <td>1.885337</td>\n",
       "      <td>...</td>\n",
       "      <td>-9.759169e-01</td>\n",
       "      <td>-6.386137e-01</td>\n",
       "      <td>0.565108</td>\n",
       "      <td>-1.170883e+00</td>\n",
       "      <td>-5.629828e-01</td>\n",
       "      <td>-5.235215e-02</td>\n",
       "      <td>-9.308761e-01</td>\n",
       "      <td>-1.875399e+00</td>\n",
       "      <td>-1.550662e+00</td>\n",
       "      <td>-5.902865e-01</td>\n",
       "    </tr>\n",
       "    <tr>\n",
       "      <th>25</th>\n",
       "      <td>-0.782411</td>\n",
       "      <td>0.957917</td>\n",
       "      <td>-1.494596</td>\n",
       "      <td>1.537923</td>\n",
       "      <td>-1.040686</td>\n",
       "      <td>0.107995</td>\n",
       "      <td>1.673178</td>\n",
       "      <td>0.629136</td>\n",
       "      <td>6.541211e-14</td>\n",
       "      <td>-0.530409</td>\n",
       "      <td>...</td>\n",
       "      <td>1.815744e+00</td>\n",
       "      <td>4.034750e-01</td>\n",
       "      <td>-1.261020</td>\n",
       "      <td>8.363035e-01</td>\n",
       "      <td>1.178107e+00</td>\n",
       "      <td>1.421570e+00</td>\n",
       "      <td>4.668288e-01</td>\n",
       "      <td>5.531492e-01</td>\n",
       "      <td>1.191318e+00</td>\n",
       "      <td>-1.266420e+00</td>\n",
       "    </tr>\n",
       "    <tr>\n",
       "      <th>26</th>\n",
       "      <td>-1.766065</td>\n",
       "      <td>-1.043932</td>\n",
       "      <td>1.409056</td>\n",
       "      <td>0.864563</td>\n",
       "      <td>-1.040686</td>\n",
       "      <td>0.107995</td>\n",
       "      <td>0.958651</td>\n",
       "      <td>-1.501385</td>\n",
       "      <td>1.072229e+00</td>\n",
       "      <td>1.885337</td>\n",
       "      <td>...</td>\n",
       "      <td>-9.759169e-01</td>\n",
       "      <td>-6.386137e-01</td>\n",
       "      <td>0.565108</td>\n",
       "      <td>8.363035e-01</td>\n",
       "      <td>-9.982552e-01</td>\n",
       "      <td>1.421570e+00</td>\n",
       "      <td>1.165681e+00</td>\n",
       "      <td>-1.875399e+00</td>\n",
       "      <td>-1.550662e+00</td>\n",
       "      <td>7.619805e-01</td>\n",
       "    </tr>\n",
       "    <tr>\n",
       "      <th>27</th>\n",
       "      <td>-0.782411</td>\n",
       "      <td>0.957917</td>\n",
       "      <td>-0.768683</td>\n",
       "      <td>-0.482156</td>\n",
       "      <td>0.411883</td>\n",
       "      <td>-1.249984</td>\n",
       "      <td>0.244124</td>\n",
       "      <td>0.629136</td>\n",
       "      <td>-2.942770e-01</td>\n",
       "      <td>-0.530409</td>\n",
       "      <td>...</td>\n",
       "      <td>4.199134e-01</td>\n",
       "      <td>1.445564e+00</td>\n",
       "      <td>-0.347956</td>\n",
       "      <td>-1.672895e-01</td>\n",
       "      <td>1.178107e+00</td>\n",
       "      <td>1.421570e+00</td>\n",
       "      <td>-2.320236e-01</td>\n",
       "      <td>5.531492e-01</td>\n",
       "      <td>5.058228e-01</td>\n",
       "      <td>-1.266420e+00</td>\n",
       "    </tr>\n",
       "    <tr>\n",
       "      <th>28</th>\n",
       "      <td>-1.766065</td>\n",
       "      <td>0.957917</td>\n",
       "      <td>0.683143</td>\n",
       "      <td>-1.155515</td>\n",
       "      <td>1.138168</td>\n",
       "      <td>-1.249984</td>\n",
       "      <td>-0.470403</td>\n",
       "      <td>-0.081038</td>\n",
       "      <td>-1.732705e+00</td>\n",
       "      <td>1.885337</td>\n",
       "      <td>...</td>\n",
       "      <td>4.199134e-01</td>\n",
       "      <td>-6.386137e-01</td>\n",
       "      <td>-0.347956</td>\n",
       "      <td>8.363035e-01</td>\n",
       "      <td>7.428344e-01</td>\n",
       "      <td>1.421570e+00</td>\n",
       "      <td>-1.629729e+00</td>\n",
       "      <td>-1.875399e+00</td>\n",
       "      <td>-8.651669e-01</td>\n",
       "      <td>1.438114e+00</td>\n",
       "    </tr>\n",
       "    <tr>\n",
       "      <th>29</th>\n",
       "      <td>0.201242</td>\n",
       "      <td>0.957917</td>\n",
       "      <td>-0.768683</td>\n",
       "      <td>0.191204</td>\n",
       "      <td>0.411883</td>\n",
       "      <td>0.107995</td>\n",
       "      <td>-0.470403</td>\n",
       "      <td>-0.081038</td>\n",
       "      <td>6.541211e-14</td>\n",
       "      <td>-0.530409</td>\n",
       "      <td>...</td>\n",
       "      <td>4.199134e-01</td>\n",
       "      <td>-6.386137e-01</td>\n",
       "      <td>-0.347956</td>\n",
       "      <td>8.363035e-01</td>\n",
       "      <td>1.613379e+00</td>\n",
       "      <td>6.846090e-01</td>\n",
       "      <td>-2.320236e-01</td>\n",
       "      <td>5.531492e-01</td>\n",
       "      <td>5.058228e-01</td>\n",
       "      <td>-1.266420e+00</td>\n",
       "    </tr>\n",
       "    <tr>\n",
       "      <th>...</th>\n",
       "      <td>...</td>\n",
       "      <td>...</td>\n",
       "      <td>...</td>\n",
       "      <td>...</td>\n",
       "      <td>...</td>\n",
       "      <td>...</td>\n",
       "      <td>...</td>\n",
       "      <td>...</td>\n",
       "      <td>...</td>\n",
       "      <td>...</td>\n",
       "      <td>...</td>\n",
       "      <td>...</td>\n",
       "      <td>...</td>\n",
       "      <td>...</td>\n",
       "      <td>...</td>\n",
       "      <td>...</td>\n",
       "      <td>...</td>\n",
       "      <td>...</td>\n",
       "      <td>...</td>\n",
       "      <td>...</td>\n",
       "      <td>...</td>\n",
       "    </tr>\n",
       "    <tr>\n",
       "      <th>798027</th>\n",
       "      <td>1.184895</td>\n",
       "      <td>0.957917</td>\n",
       "      <td>0.683143</td>\n",
       "      <td>-1.155515</td>\n",
       "      <td>1.138168</td>\n",
       "      <td>-1.249984</td>\n",
       "      <td>-1.184930</td>\n",
       "      <td>0.629136</td>\n",
       "      <td>-1.660783e+00</td>\n",
       "      <td>-0.530409</td>\n",
       "      <td>...</td>\n",
       "      <td>-9.759169e-01</td>\n",
       "      <td>4.034750e-01</td>\n",
       "      <td>1.478171</td>\n",
       "      <td>-2.174476e+00</td>\n",
       "      <td>-9.982552e-01</td>\n",
       "      <td>-1.526274e+00</td>\n",
       "      <td>-1.629729e+00</td>\n",
       "      <td>5.531492e-01</td>\n",
       "      <td>5.058228e-01</td>\n",
       "      <td>7.619805e-01</td>\n",
       "    </tr>\n",
       "    <tr>\n",
       "      <th>798028</th>\n",
       "      <td>-1.766065</td>\n",
       "      <td>0.957917</td>\n",
       "      <td>-1.494596</td>\n",
       "      <td>1.537923</td>\n",
       "      <td>-1.040686</td>\n",
       "      <td>1.465973</td>\n",
       "      <td>0.244124</td>\n",
       "      <td>1.339310</td>\n",
       "      <td>6.541211e-14</td>\n",
       "      <td>-0.530409</td>\n",
       "      <td>...</td>\n",
       "      <td>-9.759169e-01</td>\n",
       "      <td>-6.386137e-01</td>\n",
       "      <td>-0.347956</td>\n",
       "      <td>-1.672895e-01</td>\n",
       "      <td>-1.277104e-01</td>\n",
       "      <td>-1.526274e+00</td>\n",
       "      <td>1.165681e+00</td>\n",
       "      <td>5.531492e-01</td>\n",
       "      <td>-1.796720e-01</td>\n",
       "      <td>-5.902865e-01</td>\n",
       "    </tr>\n",
       "    <tr>\n",
       "      <th>798029</th>\n",
       "      <td>1.184895</td>\n",
       "      <td>-1.043932</td>\n",
       "      <td>0.683143</td>\n",
       "      <td>-1.155515</td>\n",
       "      <td>1.138168</td>\n",
       "      <td>-1.249984</td>\n",
       "      <td>-0.470403</td>\n",
       "      <td>1.339310</td>\n",
       "      <td>-1.588862e+00</td>\n",
       "      <td>-0.530409</td>\n",
       "      <td>...</td>\n",
       "      <td>-9.759169e-01</td>\n",
       "      <td>-1.680703e+00</td>\n",
       "      <td>-1.261020</td>\n",
       "      <td>8.363035e-01</td>\n",
       "      <td>3.075620e-01</td>\n",
       "      <td>6.846090e-01</td>\n",
       "      <td>-9.308761e-01</td>\n",
       "      <td>5.531492e-01</td>\n",
       "      <td>5.058228e-01</td>\n",
       "      <td>8.584699e-02</td>\n",
       "    </tr>\n",
       "    <tr>\n",
       "      <th>798030</th>\n",
       "      <td>0.201242</td>\n",
       "      <td>-1.043932</td>\n",
       "      <td>0.683143</td>\n",
       "      <td>0.191204</td>\n",
       "      <td>0.411883</td>\n",
       "      <td>-0.570994</td>\n",
       "      <td>0.244124</td>\n",
       "      <td>-1.501385</td>\n",
       "      <td>-6.591510e-03</td>\n",
       "      <td>1.885337</td>\n",
       "      <td>...</td>\n",
       "      <td>-9.759169e-01</td>\n",
       "      <td>4.034750e-01</td>\n",
       "      <td>0.565108</td>\n",
       "      <td>8.363035e-01</td>\n",
       "      <td>1.178107e+00</td>\n",
       "      <td>1.421570e+00</td>\n",
       "      <td>4.668288e-01</td>\n",
       "      <td>-1.875399e+00</td>\n",
       "      <td>-8.651669e-01</td>\n",
       "      <td>7.619805e-01</td>\n",
       "    </tr>\n",
       "    <tr>\n",
       "      <th>798031</th>\n",
       "      <td>1.184895</td>\n",
       "      <td>0.957917</td>\n",
       "      <td>-0.042770</td>\n",
       "      <td>-1.155515</td>\n",
       "      <td>1.138168</td>\n",
       "      <td>-1.249984</td>\n",
       "      <td>-1.184930</td>\n",
       "      <td>1.339310</td>\n",
       "      <td>-7.977267e-01</td>\n",
       "      <td>-0.530409</td>\n",
       "      <td>...</td>\n",
       "      <td>4.199134e-01</td>\n",
       "      <td>4.034750e-01</td>\n",
       "      <td>-0.347956</td>\n",
       "      <td>8.363035e-01</td>\n",
       "      <td>7.428344e-01</td>\n",
       "      <td>1.421570e+00</td>\n",
       "      <td>-2.320236e-01</td>\n",
       "      <td>5.531492e-01</td>\n",
       "      <td>1.191318e+00</td>\n",
       "      <td>1.438114e+00</td>\n",
       "    </tr>\n",
       "    <tr>\n",
       "      <th>798032</th>\n",
       "      <td>-0.782411</td>\n",
       "      <td>0.957917</td>\n",
       "      <td>-1.494596</td>\n",
       "      <td>1.537923</td>\n",
       "      <td>-1.040686</td>\n",
       "      <td>1.465973</td>\n",
       "      <td>0.958651</td>\n",
       "      <td>-0.081038</td>\n",
       "      <td>7.845437e-01</td>\n",
       "      <td>-0.530409</td>\n",
       "      <td>...</td>\n",
       "      <td>4.199134e-01</td>\n",
       "      <td>-6.386137e-01</td>\n",
       "      <td>-0.347956</td>\n",
       "      <td>-1.672895e-01</td>\n",
       "      <td>-5.629828e-01</td>\n",
       "      <td>1.421570e+00</td>\n",
       "      <td>1.165681e+00</td>\n",
       "      <td>5.531492e-01</td>\n",
       "      <td>-8.651669e-01</td>\n",
       "      <td>8.584699e-02</td>\n",
       "    </tr>\n",
       "    <tr>\n",
       "      <th>798033</th>\n",
       "      <td>0.201242</td>\n",
       "      <td>0.957917</td>\n",
       "      <td>-0.042770</td>\n",
       "      <td>-0.482156</td>\n",
       "      <td>0.411883</td>\n",
       "      <td>-1.249984</td>\n",
       "      <td>0.244124</td>\n",
       "      <td>-0.081038</td>\n",
       "      <td>-6.591510e-03</td>\n",
       "      <td>1.885337</td>\n",
       "      <td>...</td>\n",
       "      <td>4.199134e-01</td>\n",
       "      <td>4.034750e-01</td>\n",
       "      <td>0.565108</td>\n",
       "      <td>-1.672895e-01</td>\n",
       "      <td>1.613379e+00</td>\n",
       "      <td>1.421570e+00</td>\n",
       "      <td>4.668288e-01</td>\n",
       "      <td>-1.875399e+00</td>\n",
       "      <td>-8.651669e-01</td>\n",
       "      <td>7.619805e-01</td>\n",
       "    </tr>\n",
       "    <tr>\n",
       "      <th>798034</th>\n",
       "      <td>0.201242</td>\n",
       "      <td>-1.043932</td>\n",
       "      <td>-0.768683</td>\n",
       "      <td>1.537923</td>\n",
       "      <td>-0.314402</td>\n",
       "      <td>0.786984</td>\n",
       "      <td>1.673178</td>\n",
       "      <td>-0.081038</td>\n",
       "      <td>1.647600e+00</td>\n",
       "      <td>1.885337</td>\n",
       "      <td>...</td>\n",
       "      <td>-9.759169e-01</td>\n",
       "      <td>4.034750e-01</td>\n",
       "      <td>1.478171</td>\n",
       "      <td>-1.672895e-01</td>\n",
       "      <td>1.613379e+00</td>\n",
       "      <td>1.421570e+00</td>\n",
       "      <td>1.165681e+00</td>\n",
       "      <td>-1.875399e+00</td>\n",
       "      <td>-1.550662e+00</td>\n",
       "      <td>7.619805e-01</td>\n",
       "    </tr>\n",
       "    <tr>\n",
       "      <th>798035</th>\n",
       "      <td>-0.782411</td>\n",
       "      <td>-1.043932</td>\n",
       "      <td>-0.768683</td>\n",
       "      <td>1.537923</td>\n",
       "      <td>-1.040686</td>\n",
       "      <td>0.107995</td>\n",
       "      <td>0.244124</td>\n",
       "      <td>0.629136</td>\n",
       "      <td>6.541211e-14</td>\n",
       "      <td>-0.530409</td>\n",
       "      <td>...</td>\n",
       "      <td>1.815744e+00</td>\n",
       "      <td>1.445564e+00</td>\n",
       "      <td>-0.347956</td>\n",
       "      <td>-1.672895e-01</td>\n",
       "      <td>7.428344e-01</td>\n",
       "      <td>-5.235215e-02</td>\n",
       "      <td>4.668288e-01</td>\n",
       "      <td>5.531492e-01</td>\n",
       "      <td>1.191318e+00</td>\n",
       "      <td>-1.266420e+00</td>\n",
       "    </tr>\n",
       "    <tr>\n",
       "      <th>798036</th>\n",
       "      <td>-1.766065</td>\n",
       "      <td>0.957917</td>\n",
       "      <td>-1.494596</td>\n",
       "      <td>1.537923</td>\n",
       "      <td>-0.314402</td>\n",
       "      <td>1.465973</td>\n",
       "      <td>1.673178</td>\n",
       "      <td>1.339310</td>\n",
       "      <td>6.541211e-14</td>\n",
       "      <td>-0.530409</td>\n",
       "      <td>...</td>\n",
       "      <td>4.199134e-01</td>\n",
       "      <td>-6.386137e-01</td>\n",
       "      <td>-0.347956</td>\n",
       "      <td>8.363035e-01</td>\n",
       "      <td>3.075620e-01</td>\n",
       "      <td>1.421570e+00</td>\n",
       "      <td>1.165681e+00</td>\n",
       "      <td>5.531492e-01</td>\n",
       "      <td>1.191318e+00</td>\n",
       "      <td>-5.902865e-01</td>\n",
       "    </tr>\n",
       "    <tr>\n",
       "      <th>798037</th>\n",
       "      <td>0.201242</td>\n",
       "      <td>-1.043932</td>\n",
       "      <td>0.683143</td>\n",
       "      <td>-0.482156</td>\n",
       "      <td>-0.314402</td>\n",
       "      <td>-0.570994</td>\n",
       "      <td>-0.470403</td>\n",
       "      <td>-0.081038</td>\n",
       "      <td>2.810940e-01</td>\n",
       "      <td>-0.530409</td>\n",
       "      <td>...</td>\n",
       "      <td>4.199134e-01</td>\n",
       "      <td>4.034750e-01</td>\n",
       "      <td>-0.347956</td>\n",
       "      <td>-1.672895e-01</td>\n",
       "      <td>7.428344e-01</td>\n",
       "      <td>1.421570e+00</td>\n",
       "      <td>4.668288e-01</td>\n",
       "      <td>5.531492e-01</td>\n",
       "      <td>5.058228e-01</td>\n",
       "      <td>-1.266420e+00</td>\n",
       "    </tr>\n",
       "    <tr>\n",
       "      <th>798038</th>\n",
       "      <td>-0.782411</td>\n",
       "      <td>0.957917</td>\n",
       "      <td>-1.494596</td>\n",
       "      <td>0.864563</td>\n",
       "      <td>-1.766971</td>\n",
       "      <td>-0.570994</td>\n",
       "      <td>1.673178</td>\n",
       "      <td>0.629136</td>\n",
       "      <td>6.541211e-14</td>\n",
       "      <td>-0.530409</td>\n",
       "      <td>...</td>\n",
       "      <td>1.815744e+00</td>\n",
       "      <td>4.034750e-01</td>\n",
       "      <td>-1.261020</td>\n",
       "      <td>8.363035e-01</td>\n",
       "      <td>1.178107e+00</td>\n",
       "      <td>1.421570e+00</td>\n",
       "      <td>4.668288e-01</td>\n",
       "      <td>5.531492e-01</td>\n",
       "      <td>5.058228e-01</td>\n",
       "      <td>-1.266420e+00</td>\n",
       "    </tr>\n",
       "    <tr>\n",
       "      <th>798039</th>\n",
       "      <td>1.184895</td>\n",
       "      <td>0.957917</td>\n",
       "      <td>0.683143</td>\n",
       "      <td>-1.155515</td>\n",
       "      <td>1.138168</td>\n",
       "      <td>-1.249984</td>\n",
       "      <td>0.244124</td>\n",
       "      <td>0.629136</td>\n",
       "      <td>6.541211e-14</td>\n",
       "      <td>-0.530409</td>\n",
       "      <td>...</td>\n",
       "      <td>4.199134e-01</td>\n",
       "      <td>-6.386137e-01</td>\n",
       "      <td>-0.347956</td>\n",
       "      <td>8.363035e-01</td>\n",
       "      <td>1.178107e+00</td>\n",
       "      <td>1.421570e+00</td>\n",
       "      <td>6.207057e-16</td>\n",
       "      <td>-8.088690e-16</td>\n",
       "      <td>-8.651669e-01</td>\n",
       "      <td>1.438114e+00</td>\n",
       "    </tr>\n",
       "    <tr>\n",
       "      <th>798040</th>\n",
       "      <td>0.201242</td>\n",
       "      <td>-1.043932</td>\n",
       "      <td>0.683143</td>\n",
       "      <td>0.191204</td>\n",
       "      <td>0.411883</td>\n",
       "      <td>0.786984</td>\n",
       "      <td>-0.470403</td>\n",
       "      <td>-1.501385</td>\n",
       "      <td>4.249368e-01</td>\n",
       "      <td>-0.530409</td>\n",
       "      <td>...</td>\n",
       "      <td>-9.759169e-01</td>\n",
       "      <td>-6.386137e-01</td>\n",
       "      <td>0.565108</td>\n",
       "      <td>8.363035e-01</td>\n",
       "      <td>7.428344e-01</td>\n",
       "      <td>-5.235215e-02</td>\n",
       "      <td>4.668288e-01</td>\n",
       "      <td>5.531492e-01</td>\n",
       "      <td>-8.651669e-01</td>\n",
       "      <td>7.619805e-01</td>\n",
       "    </tr>\n",
       "    <tr>\n",
       "      <th>798041</th>\n",
       "      <td>1.184895</td>\n",
       "      <td>-1.043932</td>\n",
       "      <td>0.683143</td>\n",
       "      <td>-0.482156</td>\n",
       "      <td>0.411883</td>\n",
       "      <td>0.107995</td>\n",
       "      <td>0.244124</td>\n",
       "      <td>0.629136</td>\n",
       "      <td>-1.948469e+00</td>\n",
       "      <td>-0.530409</td>\n",
       "      <td>...</td>\n",
       "      <td>4.199134e-01</td>\n",
       "      <td>-6.386137e-01</td>\n",
       "      <td>-1.261020</td>\n",
       "      <td>-1.672895e-01</td>\n",
       "      <td>7.428344e-01</td>\n",
       "      <td>1.421570e+00</td>\n",
       "      <td>-1.629729e+00</td>\n",
       "      <td>5.531492e-01</td>\n",
       "      <td>-1.796720e-01</td>\n",
       "      <td>7.619805e-01</td>\n",
       "    </tr>\n",
       "    <tr>\n",
       "      <th>798042</th>\n",
       "      <td>-1.766065</td>\n",
       "      <td>0.957917</td>\n",
       "      <td>-0.042770</td>\n",
       "      <td>0.864563</td>\n",
       "      <td>-1.040686</td>\n",
       "      <td>0.786984</td>\n",
       "      <td>0.958651</td>\n",
       "      <td>-0.791211</td>\n",
       "      <td>1.216072e+00</td>\n",
       "      <td>-0.530409</td>\n",
       "      <td>...</td>\n",
       "      <td>-9.759169e-01</td>\n",
       "      <td>4.034750e-01</td>\n",
       "      <td>1.478171</td>\n",
       "      <td>-1.672895e-01</td>\n",
       "      <td>-5.629828e-01</td>\n",
       "      <td>-5.235215e-02</td>\n",
       "      <td>1.165681e+00</td>\n",
       "      <td>5.531492e-01</td>\n",
       "      <td>-8.651669e-01</td>\n",
       "      <td>1.438114e+00</td>\n",
       "    </tr>\n",
       "    <tr>\n",
       "      <th>798043</th>\n",
       "      <td>0.201242</td>\n",
       "      <td>0.957917</td>\n",
       "      <td>1.409056</td>\n",
       "      <td>-1.155515</td>\n",
       "      <td>1.138168</td>\n",
       "      <td>-1.249984</td>\n",
       "      <td>-0.470403</td>\n",
       "      <td>0.629136</td>\n",
       "      <td>-2.451918e+00</td>\n",
       "      <td>1.885337</td>\n",
       "      <td>...</td>\n",
       "      <td>1.815744e+00</td>\n",
       "      <td>4.034750e-01</td>\n",
       "      <td>-1.261020</td>\n",
       "      <td>-2.174476e+00</td>\n",
       "      <td>-1.277104e-01</td>\n",
       "      <td>-1.526274e+00</td>\n",
       "      <td>-2.328581e+00</td>\n",
       "      <td>-1.875399e+00</td>\n",
       "      <td>5.058228e-01</td>\n",
       "      <td>-1.266420e+00</td>\n",
       "    </tr>\n",
       "    <tr>\n",
       "      <th>798044</th>\n",
       "      <td>1.184895</td>\n",
       "      <td>-1.043932</td>\n",
       "      <td>1.409056</td>\n",
       "      <td>-0.482156</td>\n",
       "      <td>0.411883</td>\n",
       "      <td>-0.570994</td>\n",
       "      <td>0.244124</td>\n",
       "      <td>-1.501385</td>\n",
       "      <td>-4.381198e-01</td>\n",
       "      <td>-0.530409</td>\n",
       "      <td>...</td>\n",
       "      <td>-9.759169e-01</td>\n",
       "      <td>-6.386137e-01</td>\n",
       "      <td>-0.347956</td>\n",
       "      <td>8.363035e-01</td>\n",
       "      <td>-1.433528e+00</td>\n",
       "      <td>1.421570e+00</td>\n",
       "      <td>-2.320236e-01</td>\n",
       "      <td>5.531492e-01</td>\n",
       "      <td>-1.550662e+00</td>\n",
       "      <td>7.619805e-01</td>\n",
       "    </tr>\n",
       "    <tr>\n",
       "      <th>798045</th>\n",
       "      <td>-1.766065</td>\n",
       "      <td>0.957917</td>\n",
       "      <td>-1.494596</td>\n",
       "      <td>0.864563</td>\n",
       "      <td>-1.040686</td>\n",
       "      <td>0.107995</td>\n",
       "      <td>0.958651</td>\n",
       "      <td>0.629136</td>\n",
       "      <td>6.541211e-14</td>\n",
       "      <td>-0.530409</td>\n",
       "      <td>...</td>\n",
       "      <td>4.199134e-01</td>\n",
       "      <td>1.445564e+00</td>\n",
       "      <td>0.565108</td>\n",
       "      <td>8.363035e-01</td>\n",
       "      <td>-1.277104e-01</td>\n",
       "      <td>1.421570e+00</td>\n",
       "      <td>1.165681e+00</td>\n",
       "      <td>5.531492e-01</td>\n",
       "      <td>1.191318e+00</td>\n",
       "      <td>-1.266420e+00</td>\n",
       "    </tr>\n",
       "    <tr>\n",
       "      <th>798046</th>\n",
       "      <td>0.201242</td>\n",
       "      <td>-1.043932</td>\n",
       "      <td>-0.042770</td>\n",
       "      <td>0.191204</td>\n",
       "      <td>0.411883</td>\n",
       "      <td>-0.570994</td>\n",
       "      <td>-0.470403</td>\n",
       "      <td>-0.791211</td>\n",
       "      <td>6.541211e-14</td>\n",
       "      <td>-0.530409</td>\n",
       "      <td>...</td>\n",
       "      <td>4.199134e-01</td>\n",
       "      <td>-6.386137e-01</td>\n",
       "      <td>-0.347956</td>\n",
       "      <td>-1.672895e-01</td>\n",
       "      <td>1.613379e+00</td>\n",
       "      <td>1.421570e+00</td>\n",
       "      <td>-2.320236e-01</td>\n",
       "      <td>5.531492e-01</td>\n",
       "      <td>5.058228e-01</td>\n",
       "      <td>-1.266420e+00</td>\n",
       "    </tr>\n",
       "    <tr>\n",
       "      <th>798047</th>\n",
       "      <td>0.201242</td>\n",
       "      <td>-1.043932</td>\n",
       "      <td>-0.042770</td>\n",
       "      <td>-0.482156</td>\n",
       "      <td>0.411883</td>\n",
       "      <td>0.107995</td>\n",
       "      <td>0.244124</td>\n",
       "      <td>-0.791211</td>\n",
       "      <td>-2.942770e-01</td>\n",
       "      <td>-0.530409</td>\n",
       "      <td>...</td>\n",
       "      <td>-9.759169e-01</td>\n",
       "      <td>-6.386137e-01</td>\n",
       "      <td>-1.261020</td>\n",
       "      <td>-1.672895e-01</td>\n",
       "      <td>-1.277104e-01</td>\n",
       "      <td>1.421570e+00</td>\n",
       "      <td>-2.320236e-01</td>\n",
       "      <td>5.531492e-01</td>\n",
       "      <td>1.191318e+00</td>\n",
       "      <td>-1.266420e+00</td>\n",
       "    </tr>\n",
       "    <tr>\n",
       "      <th>798048</th>\n",
       "      <td>1.184895</td>\n",
       "      <td>-1.043932</td>\n",
       "      <td>-0.042770</td>\n",
       "      <td>-1.155515</td>\n",
       "      <td>1.138168</td>\n",
       "      <td>-1.249984</td>\n",
       "      <td>-1.184930</td>\n",
       "      <td>1.339310</td>\n",
       "      <td>6.541211e-14</td>\n",
       "      <td>-0.530409</td>\n",
       "      <td>...</td>\n",
       "      <td>1.815744e+00</td>\n",
       "      <td>4.034750e-01</td>\n",
       "      <td>-2.174084</td>\n",
       "      <td>-1.672895e-01</td>\n",
       "      <td>1.613379e+00</td>\n",
       "      <td>1.421570e+00</td>\n",
       "      <td>-1.629729e+00</td>\n",
       "      <td>5.531492e-01</td>\n",
       "      <td>1.191318e+00</td>\n",
       "      <td>-1.266420e+00</td>\n",
       "    </tr>\n",
       "    <tr>\n",
       "      <th>798049</th>\n",
       "      <td>1.184895</td>\n",
       "      <td>0.957917</td>\n",
       "      <td>-0.042770</td>\n",
       "      <td>0.191204</td>\n",
       "      <td>-0.314402</td>\n",
       "      <td>1.465973</td>\n",
       "      <td>0.244124</td>\n",
       "      <td>-0.791211</td>\n",
       "      <td>-7.851289e-02</td>\n",
       "      <td>1.885337</td>\n",
       "      <td>...</td>\n",
       "      <td>4.199134e-01</td>\n",
       "      <td>1.445564e+00</td>\n",
       "      <td>1.478171</td>\n",
       "      <td>-1.672895e-01</td>\n",
       "      <td>-5.629828e-01</td>\n",
       "      <td>6.846090e-01</td>\n",
       "      <td>4.668288e-01</td>\n",
       "      <td>-1.875399e+00</td>\n",
       "      <td>-1.796720e-01</td>\n",
       "      <td>7.619805e-01</td>\n",
       "    </tr>\n",
       "    <tr>\n",
       "      <th>798050</th>\n",
       "      <td>-1.766065</td>\n",
       "      <td>0.957917</td>\n",
       "      <td>-1.494596</td>\n",
       "      <td>1.537923</td>\n",
       "      <td>-1.040686</td>\n",
       "      <td>0.107995</td>\n",
       "      <td>0.244124</td>\n",
       "      <td>0.629136</td>\n",
       "      <td>7.845437e-01</td>\n",
       "      <td>-0.530409</td>\n",
       "      <td>...</td>\n",
       "      <td>1.815744e+00</td>\n",
       "      <td>1.445564e+00</td>\n",
       "      <td>-1.261020</td>\n",
       "      <td>-1.672895e-01</td>\n",
       "      <td>7.428344e-01</td>\n",
       "      <td>-5.235215e-02</td>\n",
       "      <td>1.165681e+00</td>\n",
       "      <td>5.531492e-01</td>\n",
       "      <td>-8.651669e-01</td>\n",
       "      <td>8.584699e-02</td>\n",
       "    </tr>\n",
       "    <tr>\n",
       "      <th>798051</th>\n",
       "      <td>-0.782411</td>\n",
       "      <td>0.957917</td>\n",
       "      <td>-1.494596</td>\n",
       "      <td>1.537923</td>\n",
       "      <td>-1.040686</td>\n",
       "      <td>0.786984</td>\n",
       "      <td>1.673178</td>\n",
       "      <td>0.629136</td>\n",
       "      <td>6.541211e-14</td>\n",
       "      <td>-0.530409</td>\n",
       "      <td>...</td>\n",
       "      <td>4.199134e-01</td>\n",
       "      <td>4.034750e-01</td>\n",
       "      <td>0.565108</td>\n",
       "      <td>-1.170883e+00</td>\n",
       "      <td>-1.277104e-01</td>\n",
       "      <td>-7.893133e-01</td>\n",
       "      <td>4.668288e-01</td>\n",
       "      <td>5.531492e-01</td>\n",
       "      <td>-1.796720e-01</td>\n",
       "      <td>-1.266420e+00</td>\n",
       "    </tr>\n",
       "    <tr>\n",
       "      <th>798052</th>\n",
       "      <td>0.201242</td>\n",
       "      <td>0.957917</td>\n",
       "      <td>-1.494596</td>\n",
       "      <td>0.864563</td>\n",
       "      <td>-1.040686</td>\n",
       "      <td>1.465973</td>\n",
       "      <td>0.958651</td>\n",
       "      <td>0.629136</td>\n",
       "      <td>6.407009e-01</td>\n",
       "      <td>-0.530409</td>\n",
       "      <td>...</td>\n",
       "      <td>-9.759169e-01</td>\n",
       "      <td>-1.680703e+00</td>\n",
       "      <td>-0.347956</td>\n",
       "      <td>-8.913697e-16</td>\n",
       "      <td>3.865995e-16</td>\n",
       "      <td>-3.272765e-16</td>\n",
       "      <td>1.165681e+00</td>\n",
       "      <td>5.531492e-01</td>\n",
       "      <td>5.058228e-01</td>\n",
       "      <td>-1.266420e+00</td>\n",
       "    </tr>\n",
       "    <tr>\n",
       "      <th>798053</th>\n",
       "      <td>-0.782411</td>\n",
       "      <td>-1.043932</td>\n",
       "      <td>-0.042770</td>\n",
       "      <td>0.191204</td>\n",
       "      <td>-0.314402</td>\n",
       "      <td>-0.570994</td>\n",
       "      <td>-0.470403</td>\n",
       "      <td>-0.081038</td>\n",
       "      <td>2.091726e-01</td>\n",
       "      <td>-0.530409</td>\n",
       "      <td>...</td>\n",
       "      <td>1.815744e+00</td>\n",
       "      <td>1.445564e+00</td>\n",
       "      <td>-0.347956</td>\n",
       "      <td>8.363035e-01</td>\n",
       "      <td>3.075620e-01</td>\n",
       "      <td>1.421570e+00</td>\n",
       "      <td>4.668288e-01</td>\n",
       "      <td>5.531492e-01</td>\n",
       "      <td>1.191318e+00</td>\n",
       "      <td>-1.266420e+00</td>\n",
       "    </tr>\n",
       "    <tr>\n",
       "      <th>798054</th>\n",
       "      <td>-0.782411</td>\n",
       "      <td>0.957917</td>\n",
       "      <td>-0.768683</td>\n",
       "      <td>0.864563</td>\n",
       "      <td>-1.040686</td>\n",
       "      <td>1.465973</td>\n",
       "      <td>0.958651</td>\n",
       "      <td>-0.081038</td>\n",
       "      <td>6.407009e-01</td>\n",
       "      <td>-0.530409</td>\n",
       "      <td>...</td>\n",
       "      <td>-9.759169e-01</td>\n",
       "      <td>-6.386137e-01</td>\n",
       "      <td>0.565108</td>\n",
       "      <td>-1.170883e+00</td>\n",
       "      <td>-1.433528e+00</td>\n",
       "      <td>-5.235215e-02</td>\n",
       "      <td>1.165681e+00</td>\n",
       "      <td>5.531492e-01</td>\n",
       "      <td>-8.651669e-01</td>\n",
       "      <td>7.619805e-01</td>\n",
       "    </tr>\n",
       "    <tr>\n",
       "      <th>798055</th>\n",
       "      <td>-1.766065</td>\n",
       "      <td>-1.043932</td>\n",
       "      <td>-1.494596</td>\n",
       "      <td>1.537923</td>\n",
       "      <td>-0.314402</td>\n",
       "      <td>1.465973</td>\n",
       "      <td>1.673178</td>\n",
       "      <td>1.339310</td>\n",
       "      <td>1.935286e+00</td>\n",
       "      <td>-0.530409</td>\n",
       "      <td>...</td>\n",
       "      <td>4.199134e-01</td>\n",
       "      <td>-2.722791e+00</td>\n",
       "      <td>-2.174084</td>\n",
       "      <td>8.363035e-01</td>\n",
       "      <td>7.428344e-01</td>\n",
       "      <td>1.421570e+00</td>\n",
       "      <td>1.165681e+00</td>\n",
       "      <td>5.531492e-01</td>\n",
       "      <td>1.191318e+00</td>\n",
       "      <td>-1.266420e+00</td>\n",
       "    </tr>\n",
       "    <tr>\n",
       "      <th>798056</th>\n",
       "      <td>1.184895</td>\n",
       "      <td>-1.043932</td>\n",
       "      <td>0.683143</td>\n",
       "      <td>-0.482156</td>\n",
       "      <td>1.138168</td>\n",
       "      <td>-0.570994</td>\n",
       "      <td>-1.184930</td>\n",
       "      <td>1.339310</td>\n",
       "      <td>6.541211e-14</td>\n",
       "      <td>-0.530409</td>\n",
       "      <td>...</td>\n",
       "      <td>-9.759169e-01</td>\n",
       "      <td>4.034750e-01</td>\n",
       "      <td>0.565108</td>\n",
       "      <td>-1.672895e-01</td>\n",
       "      <td>-5.629828e-01</td>\n",
       "      <td>1.421570e+00</td>\n",
       "      <td>-1.629729e+00</td>\n",
       "      <td>5.531492e-01</td>\n",
       "      <td>5.058228e-01</td>\n",
       "      <td>8.584699e-02</td>\n",
       "    </tr>\n",
       "  </tbody>\n",
       "</table>\n",
       "<p>798057 rows × 66 columns</p>\n",
       "</div>"
      ],
      "text/plain": [
       "        ALTERSKATEGORIE_GROB  ANREDE_KZ  FINANZ_MINIMALIST  FINANZ_SPARER  \\\n",
       "0                  -1.766065   0.957917          -1.494596       1.537923   \n",
       "1                   0.201242   0.957917          -1.494596       0.864563   \n",
       "2                   1.184895   0.957917           0.683143      -0.482156   \n",
       "3                   0.201242  -1.043932           0.683143       0.191204   \n",
       "4                  -1.766065   0.957917          -0.042770      -1.155515   \n",
       "5                  -0.782411   0.957917          -1.494596       1.537923   \n",
       "6                  -1.766065  -1.043932          -0.042770       0.191204   \n",
       "7                   0.201242  -1.043932           0.683143       0.864563   \n",
       "8                   0.201242   0.957917          -0.768683       0.864563   \n",
       "9                   0.201242   0.957917          -0.768683      -0.482156   \n",
       "10                  0.201242  -1.043932           1.409056       0.191204   \n",
       "11                 -1.766065   0.957917          -1.494596       0.864563   \n",
       "12                  1.184895   0.957917           0.683143      -1.155515   \n",
       "13                 -1.766065   0.957917           0.683143       0.191204   \n",
       "14                 -0.782411   0.957917          -0.768683       0.864563   \n",
       "15                  0.201242  -1.043932           1.409056      -0.482156   \n",
       "16                 -0.782411   0.957917           0.683143       0.191204   \n",
       "17                 -0.782411  -1.043932          -0.042770       0.864563   \n",
       "18                 -1.766065  -1.043932          -1.494596       1.537923   \n",
       "19                  0.201242  -1.043932           1.409056       0.191204   \n",
       "20                 -1.766065  -1.043932          -0.042770       1.537923   \n",
       "21                  0.201242  -1.043932           1.409056      -0.482156   \n",
       "22                  0.201242  -1.043932          -0.042770       0.191204   \n",
       "23                  0.201242  -1.043932          -0.042770      -0.482156   \n",
       "24                  1.184895   0.957917           1.409056      -1.155515   \n",
       "25                 -0.782411   0.957917          -1.494596       1.537923   \n",
       "26                 -1.766065  -1.043932           1.409056       0.864563   \n",
       "27                 -0.782411   0.957917          -0.768683      -0.482156   \n",
       "28                 -1.766065   0.957917           0.683143      -1.155515   \n",
       "29                  0.201242   0.957917          -0.768683       0.191204   \n",
       "...                      ...        ...                ...            ...   \n",
       "798027              1.184895   0.957917           0.683143      -1.155515   \n",
       "798028             -1.766065   0.957917          -1.494596       1.537923   \n",
       "798029              1.184895  -1.043932           0.683143      -1.155515   \n",
       "798030              0.201242  -1.043932           0.683143       0.191204   \n",
       "798031              1.184895   0.957917          -0.042770      -1.155515   \n",
       "798032             -0.782411   0.957917          -1.494596       1.537923   \n",
       "798033              0.201242   0.957917          -0.042770      -0.482156   \n",
       "798034              0.201242  -1.043932          -0.768683       1.537923   \n",
       "798035             -0.782411  -1.043932          -0.768683       1.537923   \n",
       "798036             -1.766065   0.957917          -1.494596       1.537923   \n",
       "798037              0.201242  -1.043932           0.683143      -0.482156   \n",
       "798038             -0.782411   0.957917          -1.494596       0.864563   \n",
       "798039              1.184895   0.957917           0.683143      -1.155515   \n",
       "798040              0.201242  -1.043932           0.683143       0.191204   \n",
       "798041              1.184895  -1.043932           0.683143      -0.482156   \n",
       "798042             -1.766065   0.957917          -0.042770       0.864563   \n",
       "798043              0.201242   0.957917           1.409056      -1.155515   \n",
       "798044              1.184895  -1.043932           1.409056      -0.482156   \n",
       "798045             -1.766065   0.957917          -1.494596       0.864563   \n",
       "798046              0.201242  -1.043932          -0.042770       0.191204   \n",
       "798047              0.201242  -1.043932          -0.042770      -0.482156   \n",
       "798048              1.184895  -1.043932          -0.042770      -1.155515   \n",
       "798049              1.184895   0.957917          -0.042770       0.191204   \n",
       "798050             -1.766065   0.957917          -1.494596       1.537923   \n",
       "798051             -0.782411   0.957917          -1.494596       1.537923   \n",
       "798052              0.201242   0.957917          -1.494596       0.864563   \n",
       "798053             -0.782411  -1.043932          -0.042770       0.191204   \n",
       "798054             -0.782411   0.957917          -0.768683       0.864563   \n",
       "798055             -1.766065  -1.043932          -1.494596       1.537923   \n",
       "798056              1.184895  -1.043932           0.683143      -0.482156   \n",
       "\n",
       "        FINANZ_VORSORGER  FINANZ_ANLEGER  FINANZ_UNAUFFAELLIGER  \\\n",
       "0              -1.040686        1.465973               0.958651   \n",
       "1              -1.766971       -0.570994               0.244124   \n",
       "2               1.138168       -0.570994              -1.184930   \n",
       "3               0.411883       -1.249984               0.244124   \n",
       "4               1.138168       -0.570994              -0.470403   \n",
       "5              -1.766971        1.465973               0.958651   \n",
       "6               0.411883       -1.249984               0.244124   \n",
       "7              -1.040686        0.786984              -0.470403   \n",
       "8              -1.040686        0.107995               1.673178   \n",
       "9               1.138168        0.107995              -1.184930   \n",
       "10              0.411883       -0.570994               0.958651   \n",
       "11             -0.314402        1.465973               1.673178   \n",
       "12              1.138168       -1.249984              -1.184930   \n",
       "13             -1.766971        0.786984               1.673178   \n",
       "14             -1.766971        1.465973               0.958651   \n",
       "15             -0.314402       -1.249984               0.244124   \n",
       "16             -1.766971        0.786984               1.673178   \n",
       "17             -1.766971       -0.570994               1.673178   \n",
       "18             -0.314402        1.465973               1.673178   \n",
       "19             -0.314402       -0.570994              -0.470403   \n",
       "20             -0.314402        1.465973               0.958651   \n",
       "21              0.411883       -0.570994               0.244124   \n",
       "22              0.411883       -1.249984              -0.470403   \n",
       "23              0.411883        0.107995               0.244124   \n",
       "24              1.138168       -0.570994              -1.184930   \n",
       "25             -1.040686        0.107995               1.673178   \n",
       "26             -1.040686        0.107995               0.958651   \n",
       "27              0.411883       -1.249984               0.244124   \n",
       "28              1.138168       -1.249984              -0.470403   \n",
       "29              0.411883        0.107995              -0.470403   \n",
       "...                  ...             ...                    ...   \n",
       "798027          1.138168       -1.249984              -1.184930   \n",
       "798028         -1.040686        1.465973               0.244124   \n",
       "798029          1.138168       -1.249984              -0.470403   \n",
       "798030          0.411883       -0.570994               0.244124   \n",
       "798031          1.138168       -1.249984              -1.184930   \n",
       "798032         -1.040686        1.465973               0.958651   \n",
       "798033          0.411883       -1.249984               0.244124   \n",
       "798034         -0.314402        0.786984               1.673178   \n",
       "798035         -1.040686        0.107995               0.244124   \n",
       "798036         -0.314402        1.465973               1.673178   \n",
       "798037         -0.314402       -0.570994              -0.470403   \n",
       "798038         -1.766971       -0.570994               1.673178   \n",
       "798039          1.138168       -1.249984               0.244124   \n",
       "798040          0.411883        0.786984              -0.470403   \n",
       "798041          0.411883        0.107995               0.244124   \n",
       "798042         -1.040686        0.786984               0.958651   \n",
       "798043          1.138168       -1.249984              -0.470403   \n",
       "798044          0.411883       -0.570994               0.244124   \n",
       "798045         -1.040686        0.107995               0.958651   \n",
       "798046          0.411883       -0.570994              -0.470403   \n",
       "798047          0.411883        0.107995               0.244124   \n",
       "798048          1.138168       -1.249984              -1.184930   \n",
       "798049         -0.314402        1.465973               0.244124   \n",
       "798050         -1.040686        0.107995               0.244124   \n",
       "798051         -1.040686        0.786984               1.673178   \n",
       "798052         -1.040686        1.465973               0.958651   \n",
       "798053         -0.314402       -0.570994              -0.470403   \n",
       "798054         -1.040686        1.465973               0.958651   \n",
       "798055         -0.314402        1.465973               1.673178   \n",
       "798056          1.138168       -0.570994              -1.184930   \n",
       "\n",
       "        FINANZ_HAUSBAUER   GEBURTSJAHR  GREEN_AVANTGARDE      ...       \\\n",
       "0               1.339310  2.079129e+00         -0.530409      ...        \n",
       "1               1.339310  8.564651e-01          1.885337      ...        \n",
       "2              -0.791211 -7.258053e-01         -0.530409      ...        \n",
       "3              -0.791211 -2.942770e-01         -0.530409      ...        \n",
       "4               1.339310 -1.732705e+00         -0.530409      ...        \n",
       "5              -0.081038  6.541211e-14         -0.530409      ...        \n",
       "6              -0.791211 -2.223557e-01         -0.530409      ...        \n",
       "7              -0.791211  4.968582e-01          1.885337      ...        \n",
       "8               0.629136  5.687795e-01          1.885337      ...        \n",
       "9               1.339310 -1.876547e+00         -0.530409      ...        \n",
       "10             -1.501385  6.541211e-14         -0.530409      ...        \n",
       "11             -0.791211  1.863364e+00          1.885337      ...        \n",
       "12              0.629136 -1.516940e+00         -0.530409      ...        \n",
       "13             -1.501385  1.503757e+00         -0.530409      ...        \n",
       "14             -1.501385  6.541211e-14         -0.530409      ...        \n",
       "15             -1.501385  6.541211e-14          1.885337      ...        \n",
       "16             -1.501385  6.541211e-14          1.885337      ...        \n",
       "17             -1.501385  6.541211e-14         -0.530409      ...        \n",
       "18              1.339310  6.541211e-14         -0.530409      ...        \n",
       "19             -1.501385  6.541211e-14          1.885337      ...        \n",
       "20             -0.081038  1.719522e+00         -0.530409      ...        \n",
       "21             -1.501385  6.541211e-14         -0.530409      ...        \n",
       "22             -0.791211  6.541211e-14          1.885337      ...        \n",
       "23             -0.791211 -7.851289e-02         -0.530409      ...        \n",
       "24             -0.081038 -1.301176e+00          1.885337      ...        \n",
       "25              0.629136  6.541211e-14         -0.530409      ...        \n",
       "26             -1.501385  1.072229e+00          1.885337      ...        \n",
       "27              0.629136 -2.942770e-01         -0.530409      ...        \n",
       "28             -0.081038 -1.732705e+00          1.885337      ...        \n",
       "29             -0.081038  6.541211e-14         -0.530409      ...        \n",
       "...                  ...           ...               ...      ...        \n",
       "798027          0.629136 -1.660783e+00         -0.530409      ...        \n",
       "798028          1.339310  6.541211e-14         -0.530409      ...        \n",
       "798029          1.339310 -1.588862e+00         -0.530409      ...        \n",
       "798030         -1.501385 -6.591510e-03          1.885337      ...        \n",
       "798031          1.339310 -7.977267e-01         -0.530409      ...        \n",
       "798032         -0.081038  7.845437e-01         -0.530409      ...        \n",
       "798033         -0.081038 -6.591510e-03          1.885337      ...        \n",
       "798034         -0.081038  1.647600e+00          1.885337      ...        \n",
       "798035          0.629136  6.541211e-14         -0.530409      ...        \n",
       "798036          1.339310  6.541211e-14         -0.530409      ...        \n",
       "798037         -0.081038  2.810940e-01         -0.530409      ...        \n",
       "798038          0.629136  6.541211e-14         -0.530409      ...        \n",
       "798039          0.629136  6.541211e-14         -0.530409      ...        \n",
       "798040         -1.501385  4.249368e-01         -0.530409      ...        \n",
       "798041          0.629136 -1.948469e+00         -0.530409      ...        \n",
       "798042         -0.791211  1.216072e+00         -0.530409      ...        \n",
       "798043          0.629136 -2.451918e+00          1.885337      ...        \n",
       "798044         -1.501385 -4.381198e-01         -0.530409      ...        \n",
       "798045          0.629136  6.541211e-14         -0.530409      ...        \n",
       "798046         -0.791211  6.541211e-14         -0.530409      ...        \n",
       "798047         -0.791211 -2.942770e-01         -0.530409      ...        \n",
       "798048          1.339310  6.541211e-14         -0.530409      ...        \n",
       "798049         -0.791211 -7.851289e-02          1.885337      ...        \n",
       "798050          0.629136  7.845437e-01         -0.530409      ...        \n",
       "798051          0.629136  6.541211e-14         -0.530409      ...        \n",
       "798052          0.629136  6.407009e-01         -0.530409      ...        \n",
       "798053         -0.081038  2.091726e-01         -0.530409      ...        \n",
       "798054         -0.081038  6.407009e-01         -0.530409      ...        \n",
       "798055          1.339310  1.935286e+00         -0.530409      ...        \n",
       "798056          1.339310  6.541211e-14         -0.530409      ...        \n",
       "\n",
       "          PLZ8_ANTG4      PLZ8_HHZ  PLZ8_GBZ        ARBEIT   ORTSGR_KLS9  \\\n",
       "0       4.199134e-01  1.445564e+00  0.565108 -1.672895e-01 -1.277104e-01   \n",
       "1      -9.759169e-01  4.034750e-01  0.565108 -1.672895e-01 -1.277104e-01   \n",
       "2      -9.759169e-01 -6.386137e-01  0.565108 -1.170883e+00 -9.982552e-01   \n",
       "3       4.199134e-01 -6.386137e-01 -0.347956  8.363035e-01  3.075620e-01   \n",
       "4       4.199134e-01  1.445564e+00  1.478171 -1.170883e+00 -9.982552e-01   \n",
       "5      -9.759169e-01  1.445564e+00  1.478171  8.363035e-01  3.075620e-01   \n",
       "6      -9.759169e-01  4.034750e-01  0.565108 -1.170883e+00 -1.277104e-01   \n",
       "7       4.199134e-01 -6.386137e-01 -0.347956 -1.170883e+00 -5.629828e-01   \n",
       "8       4.199134e-01 -6.386137e-01 -0.347956 -1.170883e+00 -9.982552e-01   \n",
       "9      -9.759169e-01 -6.386137e-01 -0.347956  8.363035e-01  3.075620e-01   \n",
       "10     -9.759169e-01  1.445564e+00  1.478171 -1.672895e-01  3.075620e-01   \n",
       "11      4.199134e-01 -6.386137e-01 -0.347956 -1.672895e-01  3.075620e-01   \n",
       "12      4.649049e-16 -1.388341e-15  0.000000  8.363035e-01  1.178107e+00   \n",
       "13     -9.759169e-01 -6.386137e-01  0.565108 -2.174476e+00 -1.433528e+00   \n",
       "14      4.199134e-01 -6.386137e-01 -0.347956 -1.672895e-01 -5.629828e-01   \n",
       "15      4.199134e-01  1.445564e+00  0.565108  8.363035e-01  3.075620e-01   \n",
       "16      4.649049e-16 -1.388341e-15  0.000000 -1.672895e-01 -5.629828e-01   \n",
       "17      1.815744e+00  4.034750e-01 -0.347956  1.839897e+00  7.428344e-01   \n",
       "18      4.199134e-01  4.034750e-01 -0.347956  8.363035e-01 -1.277104e-01   \n",
       "19      4.649049e-16 -1.388341e-15  0.000000 -1.672895e-01  3.075620e-01   \n",
       "20     -9.759169e-01  4.034750e-01  1.478171 -1.672895e-01 -1.433528e+00   \n",
       "21      4.649049e-16 -1.388341e-15  0.000000  8.363035e-01 -9.982552e-01   \n",
       "22      1.815744e+00  1.445564e+00 -0.347956  8.363035e-01  7.428344e-01   \n",
       "23     -9.759169e-01  1.445564e+00  1.478171 -1.672895e-01 -5.629828e-01   \n",
       "24     -9.759169e-01 -6.386137e-01  0.565108 -1.170883e+00 -5.629828e-01   \n",
       "25      1.815744e+00  4.034750e-01 -1.261020  8.363035e-01  1.178107e+00   \n",
       "26     -9.759169e-01 -6.386137e-01  0.565108  8.363035e-01 -9.982552e-01   \n",
       "27      4.199134e-01  1.445564e+00 -0.347956 -1.672895e-01  1.178107e+00   \n",
       "28      4.199134e-01 -6.386137e-01 -0.347956  8.363035e-01  7.428344e-01   \n",
       "29      4.199134e-01 -6.386137e-01 -0.347956  8.363035e-01  1.613379e+00   \n",
       "...              ...           ...       ...           ...           ...   \n",
       "798027 -9.759169e-01  4.034750e-01  1.478171 -2.174476e+00 -9.982552e-01   \n",
       "798028 -9.759169e-01 -6.386137e-01 -0.347956 -1.672895e-01 -1.277104e-01   \n",
       "798029 -9.759169e-01 -1.680703e+00 -1.261020  8.363035e-01  3.075620e-01   \n",
       "798030 -9.759169e-01  4.034750e-01  0.565108  8.363035e-01  1.178107e+00   \n",
       "798031  4.199134e-01  4.034750e-01 -0.347956  8.363035e-01  7.428344e-01   \n",
       "798032  4.199134e-01 -6.386137e-01 -0.347956 -1.672895e-01 -5.629828e-01   \n",
       "798033  4.199134e-01  4.034750e-01  0.565108 -1.672895e-01  1.613379e+00   \n",
       "798034 -9.759169e-01  4.034750e-01  1.478171 -1.672895e-01  1.613379e+00   \n",
       "798035  1.815744e+00  1.445564e+00 -0.347956 -1.672895e-01  7.428344e-01   \n",
       "798036  4.199134e-01 -6.386137e-01 -0.347956  8.363035e-01  3.075620e-01   \n",
       "798037  4.199134e-01  4.034750e-01 -0.347956 -1.672895e-01  7.428344e-01   \n",
       "798038  1.815744e+00  4.034750e-01 -1.261020  8.363035e-01  1.178107e+00   \n",
       "798039  4.199134e-01 -6.386137e-01 -0.347956  8.363035e-01  1.178107e+00   \n",
       "798040 -9.759169e-01 -6.386137e-01  0.565108  8.363035e-01  7.428344e-01   \n",
       "798041  4.199134e-01 -6.386137e-01 -1.261020 -1.672895e-01  7.428344e-01   \n",
       "798042 -9.759169e-01  4.034750e-01  1.478171 -1.672895e-01 -5.629828e-01   \n",
       "798043  1.815744e+00  4.034750e-01 -1.261020 -2.174476e+00 -1.277104e-01   \n",
       "798044 -9.759169e-01 -6.386137e-01 -0.347956  8.363035e-01 -1.433528e+00   \n",
       "798045  4.199134e-01  1.445564e+00  0.565108  8.363035e-01 -1.277104e-01   \n",
       "798046  4.199134e-01 -6.386137e-01 -0.347956 -1.672895e-01  1.613379e+00   \n",
       "798047 -9.759169e-01 -6.386137e-01 -1.261020 -1.672895e-01 -1.277104e-01   \n",
       "798048  1.815744e+00  4.034750e-01 -2.174084 -1.672895e-01  1.613379e+00   \n",
       "798049  4.199134e-01  1.445564e+00  1.478171 -1.672895e-01 -5.629828e-01   \n",
       "798050  1.815744e+00  1.445564e+00 -1.261020 -1.672895e-01  7.428344e-01   \n",
       "798051  4.199134e-01  4.034750e-01  0.565108 -1.170883e+00 -1.277104e-01   \n",
       "798052 -9.759169e-01 -1.680703e+00 -0.347956 -8.913697e-16  3.865995e-16   \n",
       "798053  1.815744e+00  1.445564e+00 -0.347956  8.363035e-01  3.075620e-01   \n",
       "798054 -9.759169e-01 -6.386137e-01  0.565108 -1.170883e+00 -1.433528e+00   \n",
       "798055  4.199134e-01 -2.722791e+00 -2.174084  8.363035e-01  7.428344e-01   \n",
       "798056 -9.759169e-01  4.034750e-01  0.565108 -1.672895e-01 -5.629828e-01   \n",
       "\n",
       "            RELAT_AB        Decade      Movement        wealth    life_stage  \n",
       "0       6.846090e-01  1.165681e+00  5.531492e-01  1.191318e+00 -1.266420e+00  \n",
       "1      -7.893133e-01  1.165681e+00 -1.875399e+00 -8.651669e-01  7.619805e-01  \n",
       "2      -5.235215e-02 -2.320236e-01  5.531492e-01 -1.550662e+00 -5.902865e-01  \n",
       "3       1.421570e+00 -2.320236e-01  5.531492e-01  5.058228e-01  8.584699e-02  \n",
       "4      -5.235215e-02 -1.629729e+00  5.531492e-01  1.191318e+00  7.619805e-01  \n",
       "5      -5.235215e-02  4.668288e-01  5.531492e-01 -8.651669e-01 -5.902865e-01  \n",
       "6      -7.893133e-01 -2.320236e-01  5.531492e-01 -1.550662e+00  7.619805e-01  \n",
       "7      -5.235215e-02  4.668288e-01 -1.875399e+00 -1.550662e+00  8.584699e-02  \n",
       "8      -1.526274e+00  1.165681e+00 -1.875399e+00 -1.550662e+00  1.438114e+00  \n",
       "9       1.421570e+00 -1.629729e+00  5.531492e-01  1.191318e+00 -1.266420e+00  \n",
       "10      6.846090e-01 -2.320236e-01  5.531492e-01  5.058228e-01  8.584699e-02  \n",
       "11      6.846090e-01  1.165681e+00 -1.875399e+00 -1.796720e-01  8.584699e-02  \n",
       "12      1.421570e+00 -9.308761e-01  5.531492e-01  5.058228e-01 -1.266420e+00  \n",
       "13     -1.526274e+00  1.165681e+00  5.531492e-01  5.058228e-01 -1.266420e+00  \n",
       "14     -5.235215e-02  4.668288e-01  5.531492e-01 -8.651669e-01  7.619805e-01  \n",
       "15     -5.235215e-02 -2.320236e-01 -1.875399e+00 -1.796720e-01  7.619805e-01  \n",
       "16     -1.526274e+00  4.668288e-01 -1.875399e+00 -8.651669e-01  7.619805e-01  \n",
       "17      1.421570e+00  4.668288e-01  5.531492e-01  1.191318e+00  1.438114e+00  \n",
       "18      1.421570e+00  1.165681e+00  5.531492e-01  1.191318e+00 -1.266420e+00  \n",
       "19     -7.893133e-01 -2.320236e-01 -1.875399e+00  5.058228e-01  8.584699e-02  \n",
       "20      1.421570e+00  1.165681e+00  5.531492e-01 -1.796720e-01  8.584699e-02  \n",
       "21      1.421570e+00 -2.320236e-01  5.531492e-01 -3.044209e-16  9.007908e-16  \n",
       "22      1.421570e+00  4.668288e-01 -1.875399e+00  1.191318e+00 -1.266420e+00  \n",
       "23     -1.526274e+00  4.668288e-01  5.531492e-01 -1.550662e+00  8.584699e-02  \n",
       "24     -5.235215e-02 -9.308761e-01 -1.875399e+00 -1.550662e+00 -5.902865e-01  \n",
       "25      1.421570e+00  4.668288e-01  5.531492e-01  1.191318e+00 -1.266420e+00  \n",
       "26      1.421570e+00  1.165681e+00 -1.875399e+00 -1.550662e+00  7.619805e-01  \n",
       "27      1.421570e+00 -2.320236e-01  5.531492e-01  5.058228e-01 -1.266420e+00  \n",
       "28      1.421570e+00 -1.629729e+00 -1.875399e+00 -8.651669e-01  1.438114e+00  \n",
       "29      6.846090e-01 -2.320236e-01  5.531492e-01  5.058228e-01 -1.266420e+00  \n",
       "...              ...           ...           ...           ...           ...  \n",
       "798027 -1.526274e+00 -1.629729e+00  5.531492e-01  5.058228e-01  7.619805e-01  \n",
       "798028 -1.526274e+00  1.165681e+00  5.531492e-01 -1.796720e-01 -5.902865e-01  \n",
       "798029  6.846090e-01 -9.308761e-01  5.531492e-01  5.058228e-01  8.584699e-02  \n",
       "798030  1.421570e+00  4.668288e-01 -1.875399e+00 -8.651669e-01  7.619805e-01  \n",
       "798031  1.421570e+00 -2.320236e-01  5.531492e-01  1.191318e+00  1.438114e+00  \n",
       "798032  1.421570e+00  1.165681e+00  5.531492e-01 -8.651669e-01  8.584699e-02  \n",
       "798033  1.421570e+00  4.668288e-01 -1.875399e+00 -8.651669e-01  7.619805e-01  \n",
       "798034  1.421570e+00  1.165681e+00 -1.875399e+00 -1.550662e+00  7.619805e-01  \n",
       "798035 -5.235215e-02  4.668288e-01  5.531492e-01  1.191318e+00 -1.266420e+00  \n",
       "798036  1.421570e+00  1.165681e+00  5.531492e-01  1.191318e+00 -5.902865e-01  \n",
       "798037  1.421570e+00  4.668288e-01  5.531492e-01  5.058228e-01 -1.266420e+00  \n",
       "798038  1.421570e+00  4.668288e-01  5.531492e-01  5.058228e-01 -1.266420e+00  \n",
       "798039  1.421570e+00  6.207057e-16 -8.088690e-16 -8.651669e-01  1.438114e+00  \n",
       "798040 -5.235215e-02  4.668288e-01  5.531492e-01 -8.651669e-01  7.619805e-01  \n",
       "798041  1.421570e+00 -1.629729e+00  5.531492e-01 -1.796720e-01  7.619805e-01  \n",
       "798042 -5.235215e-02  1.165681e+00  5.531492e-01 -8.651669e-01  1.438114e+00  \n",
       "798043 -1.526274e+00 -2.328581e+00 -1.875399e+00  5.058228e-01 -1.266420e+00  \n",
       "798044  1.421570e+00 -2.320236e-01  5.531492e-01 -1.550662e+00  7.619805e-01  \n",
       "798045  1.421570e+00  1.165681e+00  5.531492e-01  1.191318e+00 -1.266420e+00  \n",
       "798046  1.421570e+00 -2.320236e-01  5.531492e-01  5.058228e-01 -1.266420e+00  \n",
       "798047  1.421570e+00 -2.320236e-01  5.531492e-01  1.191318e+00 -1.266420e+00  \n",
       "798048  1.421570e+00 -1.629729e+00  5.531492e-01  1.191318e+00 -1.266420e+00  \n",
       "798049  6.846090e-01  4.668288e-01 -1.875399e+00 -1.796720e-01  7.619805e-01  \n",
       "798050 -5.235215e-02  1.165681e+00  5.531492e-01 -8.651669e-01  8.584699e-02  \n",
       "798051 -7.893133e-01  4.668288e-01  5.531492e-01 -1.796720e-01 -1.266420e+00  \n",
       "798052 -3.272765e-16  1.165681e+00  5.531492e-01  5.058228e-01 -1.266420e+00  \n",
       "798053  1.421570e+00  4.668288e-01  5.531492e-01  1.191318e+00 -1.266420e+00  \n",
       "798054 -5.235215e-02  1.165681e+00  5.531492e-01 -8.651669e-01  7.619805e-01  \n",
       "798055  1.421570e+00  1.165681e+00  5.531492e-01  1.191318e+00 -1.266420e+00  \n",
       "798056  1.421570e+00 -1.629729e+00  5.531492e-01  5.058228e-01  8.584699e-02  \n",
       "\n",
       "[798057 rows x 66 columns]"
      ]
     },
     "execution_count": 86,
     "metadata": {},
     "output_type": "execute_result"
    }
   ],
   "source": [
    "# Apply feature scaling to the general population demographics data.\n",
    "\n",
    "s=StandardScaler()\n",
    "s.fit(azdias_clean_imputer)\n",
    "data_scaler=s.transform(azdias_clean_imputer)\n",
    "\n",
    "azdias_scaler = pd.DataFrame(data_scaler, columns=azdias_clean_imputer.columns)\n",
    "azdias_scaler"
   ]
  },
  {
   "cell_type": "markdown",
   "metadata": {},
   "source": [
    "### Discussion 2.1: Apply Feature Scaling\n",
    "\n",
    "i use StandardScaler() and fit() first than transform() becuse we will use these steps agen in customer data set so in thes case we just use the transform() because the  s whas fit already"
   ]
  },
  {
   "cell_type": "markdown",
   "metadata": {},
   "source": [
    "### Step 2.2: Perform Dimensionality Reduction\n",
    "\n",
    "On your scaled data, you are now ready to apply dimensionality reduction techniques.\n",
    "\n",
    "- Use sklearn's [PCA](http://scikit-learn.org/stable/modules/generated/sklearn.decomposition.PCA.html) class to apply principal component analysis on the data, thus finding the vectors of maximal variance in the data. To start, you should not set any parameters (so all components are computed) or set a number of components that is at least half the number of features (so there's enough features to see the general trend in variability).\n",
    "- Check out the ratio of variance explained by each principal component as well as the cumulative variance explained. Try plotting the cumulative or sequential values using matplotlib's [`plot()`](https://matplotlib.org/api/_as_gen/matplotlib.pyplot.plot.html) function. Based on what you find, select a value for the number of transformed features you'll retain for the clustering part of the project.\n",
    "- Once you've made a choice for the number of components to keep, make sure you re-fit a PCA instance to perform the decided-on transformation."
   ]
  },
  {
   "cell_type": "code",
   "execution_count": 87,
   "metadata": {},
   "outputs": [],
   "source": [
    "# Apply PCA to the data.\n",
    "pca = PCA().fit(azdias_scaler)\n"
   ]
  },
  {
   "cell_type": "code",
   "execution_count": 88,
   "metadata": {},
   "outputs": [],
   "source": [
    "# Investigate the variance accounted for by each principal component.\n",
    "def scree_plot(pca):\n",
    "    '''\n",
    "    Creates a scree plot associated with the principal components \n",
    "    \n",
    "    INPUT: pca - the result of instantian of PCA in scikit learn\n",
    "            \n",
    "    OUTPUT:\n",
    "            None\n",
    "    '''\n",
    "    num_components=len(pca.explained_variance_ratio_)\n",
    "    ind = np.arange(num_components)\n",
    "    vals = pca.explained_variance_ratio_\n",
    " \n",
    "    plt.figure(figsize=(20, 11))\n",
    "    ax = plt.subplot(111)\n",
    "    cumvals = np.cumsum(vals)\n",
    "    ax.bar(ind, vals)\n",
    "    ax.plot(ind, cumvals)\n",
    "    for i in range(num_components):\n",
    "        ax.annotate(r\"%s%%\" % ((str(vals[i]*100)[:4])), (ind[i]+0.2, vals[i]), va=\"bottom\", ha=\"center\", fontsize=12)\n",
    " \n",
    "    ax.xaxis.set_tick_params(width=0)\n",
    "    ax.yaxis.set_tick_params(width=2, length=12)\n",
    " \n",
    "    ax.set_xlabel(\"Principal Component\")\n",
    "    ax.set_ylabel(\"Variance Explained (%)\")\n",
    "    plt.title('Explained Variance Per Principal Component')\n"
   ]
  },
  {
   "cell_type": "code",
   "execution_count": 153,
   "metadata": {},
   "outputs": [
    {
     "data": {
      "image/png": "[encoded data removed]",
      "text/plain": [
       "<matplotlib.figure.Figure at 0x7f52431679b0>"
      ]
     },
     "metadata": {
      "needs_background": "light"
     },
     "output_type": "display_data"
    }
   ],
   "source": [
    "scree_plot(pca)"
   ]
  },
  {
   "cell_type": "code",
   "execution_count": 89,
   "metadata": {},
   "outputs": [],
   "source": [
    "# Re-apply PCA to the data while selecting for number of components to retain.\n",
    "\n",
    "pca=PCA(n_components=45)\n",
    "pca.fit(azdias_scaler)\n",
    "reduced_data = pca.transform(azdias_scaler)\n"
   ]
  },
  {
   "cell_type": "markdown",
   "metadata": {},
   "source": [
    "### Discussion 2.2: Perform Dimensionality Reduction\n",
    "According to the scree plot above, I selected the number of components that will represent at least 95% of the total vairances which is 45 components "
   ]
  },
  {
   "cell_type": "markdown",
   "metadata": {},
   "source": [
    "### Step 2.3: Interpret Principal Components\n",
    "\n",
    "Now that we have our transformed principal components, it's a nice idea to check out the weight of each variable on the first few components to see if they can be interpreted in some fashion.\n",
    "\n",
    "As a reminder, each principal component is a unit vector that points in the direction of highest variance (after accounting for the variance captured by earlier principal components). The further a weight is from zero, the more the principal component is in the direction of the corresponding feature. If two features have large weights of the same sign (both positive or both negative), then increases in one tend expect to be associated with increases in the other. To contrast, features with different signs can be expected to show a negative correlation: increases in one variable should result in a decrease in the other.\n",
    "\n",
    "- To investigate the features, you should map each weight to their corresponding feature name, then sort the features according to weight. The most interesting features for each principal component, then, will be those at the beginning and end of the sorted list. Use the data dictionary document to help you understand these most prominent features, their relationships, and what a positive or negative value on the principal component might indicate.\n",
    "- You should investigate and interpret feature associations from the first three principal components in this substep. To help facilitate this, you should write a function that you can call at any time to print the sorted list of feature weights, for the *i*-th principal component. This might come in handy in the next step of the project, when you interpret the tendencies of the discovered clusters."
   ]
  },
  {
   "cell_type": "code",
   "execution_count": 90,
   "metadata": {},
   "outputs": [
    {
     "data": {
      "text/plain": [
       "array([[  4.45377466e+00,  -2.45683180e+00,  -2.69396981e+00, ...,\n",
       "          6.23926132e-01,  -1.00809937e-01,  -2.85278081e-02],\n",
       "       [ -7.61964675e-01,  -3.95530281e-01,  -3.21412980e+00, ...,\n",
       "         -3.91992998e-01,   2.88977595e-01,   7.21572586e-01],\n",
       "       [ -4.09715303e+00,   9.05745249e-01,  -8.28775467e-01, ...,\n",
       "         -3.81457657e-01,  -4.96300819e-01,   5.25520087e-01],\n",
       "       ..., \n",
       "       [ -3.70772392e-01,  -3.63617235e+00,  -2.67592977e+00, ...,\n",
       "         -4.83963771e-01,  -2.93429392e-01,   4.18301865e-01],\n",
       "       [  6.38814585e+00,  -2.52087215e+00,   2.59092153e+00, ...,\n",
       "          2.00794751e-01,   4.91308644e-01,  -2.68602524e-01],\n",
       "       [ -9.04756563e-01,   1.16565679e+00,   3.00315699e+00, ...,\n",
       "         -7.69640131e-01,   4.32472705e-03,  -7.94529384e-01]])"
      ]
     },
     "execution_count": 90,
     "metadata": {},
     "output_type": "execute_result"
    }
   ],
   "source": [
    "reduced_data"
   ]
  },
  {
   "cell_type": "code",
   "execution_count": 96,
   "metadata": {},
   "outputs": [],
   "source": [
    "def getComponentLinkage(pca, component_number, feature_names):\n",
    "    \"\"\"Prints the sorted relevancy of each feature given the component\n",
    "       \n",
    "       INPUT: pca object, the component number, feature names\n",
    "    \"\"\"\n",
    "    component_linkage = pd.DataFrame(pca.components_, columns = feature_names)\n",
    "    relevancy = pd.DataFrame(component_linkage.iloc[component_number + 1,:]\n",
    "                             .transpose().sort_values(ascending = False))\n",
    "    relevancy.columns = ['weights']\n",
    "    \n",
    "    return relevancy.head(5), relevancy.tail(5).sort_values('weights')"
   ]
  },
  {
   "cell_type": "code",
   "execution_count": 97,
   "metadata": {},
   "outputs": [],
   "source": [
    "def visualizeRelevancy(head_df, tail_df, PC_number):\n",
    "    \"\"\"Plot the top and bottom weights of PCs  \n",
    "       \n",
    "       INPUT: head, tail dfs\n",
    "    \"\"\"\n",
    "    \n",
    "    # create subplots\n",
    "    ind = np.arange(len(head_df))\n",
    "    fig, (ax1, ax2) = plt.subplots(1, 2, sharey = True, figsize = (16, 5))\n",
    "    plt.setp(ax1.xaxis.get_majorticklabels(), rotation=45)\n",
    "    plt.setp(ax2.xaxis.get_majorticklabels(), rotation=45)\n",
    "    ax1.set_title('Highest Positive Relevancy')\n",
    "    ax2.set_title('Highest Negative Relevancy')\n",
    "    sns.barplot(x = head_df.index, y = head_df['weights'],  ax = ax1)\n",
    "    sns.barplot(x = tail_df.index, y = tail_df['weights'], ax = ax2, data = tail_df)\n",
    "    \n",
    "    for i in range(len(head_df)):\n",
    "        ax1.annotate(r\"%s%%\" % ((str(head_df['weights'][i]*100)[:4])), (ind[i] , -0.06), \n",
    "                    va=\"bottom\", ha=\"center\", fontsize=12)\n",
    "        ax2.annotate(r\"%s%%\" % ((str(tail_df['weights'][i]*100)[:5])), (ind[i] , 0.02), \n",
    "                    va=\"bottom\", ha=\"center\", fontsize=12)\n",
    "    plt.ylabel('Weights')\n",
    "    plt.suptitle('PC' + str(PC_number))"
   ]
  },
  {
   "cell_type": "code",
   "execution_count": 101,
   "metadata": {},
   "outputs": [
    {
     "data": {
      "image/png": "[encoded data removed]",
      "text/plain": [
       "<matplotlib.figure.Figure at 0x7f0524fe8748>"
      ]
     },
     "metadata": {},
     "output_type": "display_data"
    }
   ],
   "source": [
    "# Map weights for the first principal component to corresponding feature names\n",
    "# and then print the linked values, sorted by weight.\n",
    "# HINT: Try defining a function here or in a new cell that you can reuse in the\n",
    "# other cells.\n",
    "c1_head, c1_tail = getComponentLinkage(pca, 1, azdias_copy.columns)\n",
    "visualizeRelevancy(c1_head, c1_tail, 1)\n"
   ]
  },
  {
   "cell_type": "code",
   "execution_count": 105,
   "metadata": {},
   "outputs": [
    {
     "data": {
      "image/png": "[encoded data removed]",
      "text/plain": [
       "<matplotlib.figure.Figure at 0x7f052705d5f8>"
      ]
     },
     "metadata": {},
     "output_type": "display_data"
    }
   ],
   "source": [
    "# Map weights for the second principal component to corresponding feature names\n",
    "# and then print the linked values, sorted by weight.\n",
    "\n",
    "c2_head, c2_tail = getComponentLinkage(pca,2, azdias_copy.columns)\n",
    "visualizeRelevancy(c2_head, c2_tail, 2)"
   ]
  },
  {
   "cell_type": "code",
   "execution_count": 110,
   "metadata": {},
   "outputs": [
    {
     "data": {
      "image/png": "[encoded data removed]",
      "text/plain": [
       "<matplotlib.figure.Figure at 0x7f0544782be0>"
      ]
     },
     "metadata": {},
     "output_type": "display_data"
    }
   ],
   "source": [
    "# Map weights for the third principal component to corresponding feature names\n",
    "# and then print the linked values, sorted by weight.\n",
    "\n",
    "c3_head, c3_tail = getComponentLinkage(pca,3, azdias_copy.columns)\n",
    "visualizeRelevancy(c3_head, c3_tail, 3)"
   ]
  },
  {
   "cell_type": "markdown",
   "metadata": {},
   "source": [
    "### Discussion 2.3: Interpret Principal Components\n",
    "\n",
    "\n",
    "First Component\n",
    "\n",
    "\n",
    "\n",
    "Top positively correlated features with PC1,\n",
    "\n",
    "SEMIO_VERT ~ 34.6 %\n",
    "\n",
    "SEMIO_SOZ ~29.9 %\n",
    "\n",
    "SEMIO_FAM ~ 26.7 %\n",
    "\n",
    "Top negatively correlated features with PC1,\n",
    "\n",
    "ANREDE_KZ~ -37.2 %\n",
    "\n",
    "SEMIO_KAEM ~ -34.3 %\n",
    "\n",
    "SEMIO_DOM ~ -31.7 %\n",
    "\n",
    "Second Component\n",
    "\n",
    "Top positively correlated features with PC2,\n",
    "\n",
    "GREEN_AVANTGARDE ~39.9 %\n",
    "\n",
    "EWDICHTE~ 26.4 %\n",
    "\n",
    "ORTSGR_KLS9~ 25.2 %\n",
    "\n",
    "the negatively correlated features with PC2,\n",
    "\n",
    "MOVEMENTS ~-39.9%\n",
    "\n",
    "kkk ~-26.9%\n",
    "\n",
    "HH_EINKOMMEN_SCORE~ -24.8%\n",
    "\n",
    "Third Component\n",
    "\n",
    "\n",
    "\n",
    "Top positively correlated feattures with PC3,\n",
    "\n",
    "ARBEIT ~ 21.3 %\n",
    "\n",
    "RELAT_AB ~ 14.6 %\n",
    "\n",
    "ANZ_PERSONEN ~ 14.5 %\n",
    "\n",
    "Top negatively correlated features with PC3,\n",
    "\n",
    "KBA13_ANZAHL_PKW ~ -51.0 %\n",
    "\n",
    " PLZ8_HHZ ~ -48.5 %\n",
    " \n",
    "PLZ8_GBZ  ~ -40.1 %\n",
    "\n"
   ]
  },
  {
   "cell_type": "markdown",
   "metadata": {},
   "source": [
    "## Step 3: Clustering\n",
    "\n",
    "### Step 3.1: Apply Clustering to General Population\n",
    "\n",
    "You've assessed and cleaned the demographics data, then scaled and transformed them. Now, it's time to see how the data clusters in the principal components space. In this substep, you will apply k-means clustering to the dataset and use the average within-cluster distances from each point to their assigned cluster's centroid to decide on a number of clusters to keep.\n",
    "\n",
    "- Use sklearn's [KMeans](http://scikit-learn.org/stable/modules/generated/sklearn.cluster.KMeans.html#sklearn.cluster.KMeans) class to perform k-means clustering on the PCA-transformed data.\n",
    "- Then, compute the average difference from each point to its assigned cluster's center. **Hint**: The KMeans object's `.score()` method might be useful here, but note that in sklearn, scores tend to be defined so that larger is better. Try applying it to a small, toy dataset, or use an internet search to help your understanding.\n",
    "- Perform the above two steps for a number of different cluster counts. You can then see how the average distance decreases with an increasing number of clusters. However, each additional cluster provides a smaller net benefit. Use this fact to select a final number of clusters in which to group the data. **Warning**: because of the large size of the dataset, it can take a long time for the algorithm to resolve. The more clusters to fit, the longer the algorithm will take. You should test for cluster counts through at least 10 clusters to get the full picture, but you shouldn't need to test for a number of clusters above about 30.\n",
    "- Once you've selected a final number of clusters to use, re-fit a KMeans instance to perform the clustering operation. Make sure that you also obtain the cluster assignments for the general demographics data, since you'll be using them in the final Step 3.3."
   ]
  },
  {
   "cell_type": "code",
   "execution_count": 91,
   "metadata": {},
   "outputs": [
    {
     "data": {
      "image/png": "[encoded data removed]",
      "text/plain": [
       "<matplotlib.figure.Figure at 0x7f054487ec50>"
      ]
     },
     "metadata": {},
     "output_type": "display_data"
    }
   ],
   "source": [
    "def get_kmeans_score(data, center):\n",
    "    '''\n",
    "    returns the kmeans score regarding SSE for points to centers\n",
    "    INPUT:\n",
    "        data - the dataset you want to fit kmeans to\n",
    "        center - the number of centers you want (the k value)\n",
    "    OUTPUT:\n",
    "        score - the SSE score for the kmeans model fit to the data\n",
    "    '''\n",
    "    #instantiate kmeans\n",
    "    kmeans = KMeans(n_clusters=center)\n",
    "\n",
    "    # Then fit the model to your data using the fit method\n",
    "    model = kmeans.fit(data)\n",
    "    \n",
    "    # Obtain a score related to the model fit\n",
    "    score = np.abs(model.score(data))\n",
    "    \n",
    "    return score\n",
    "\n",
    "scores = []\n",
    "centers = list(range(1,20))\n",
    "\n",
    "for center in centers:\n",
    "    scores.append(get_kmeans_score(reduced_data, center))\n",
    "    \n",
    "plt.plot(centers, scores, linestyle='--', marker='o', color='b');\n",
    "plt.xlabel('K');\n",
    "plt.ylabel('SSE');\n",
    "plt.title('SSE vs. K');"
   ]
  },
  {
   "cell_type": "code",
   "execution_count": 111,
   "metadata": {},
   "outputs": [],
   "source": [
    "kmeans = KMeans(n_clusters=14)\n",
    "\n",
    "# Then fit the model to your data using the fit method\n",
    "model = kmeans.fit(reduced_data)\n",
    "\n",
    "# Finally get the labels on the same data to show the cluster/group for each point point that belongs to\n",
    "predict_general = model.predict(reduced_data)\n"
   ]
  },
  {
   "cell_type": "markdown",
   "metadata": {},
   "source": [
    "# Discussion 3.1: Apply Clustering to General Population\n",
    "\n",
    "after Using the elbow method i think Picking 14 as the number of clusters seems to be a good option."
   ]
  },
  {
   "cell_type": "markdown",
   "metadata": {},
   "source": [
    "### Step 3.2: Apply All Steps to the Customer Data\n",
    "\n",
    "Now that you have clusters and cluster centers for the general population, it's time to see how the customer data maps on to those clusters. Take care to not confuse this for re-fitting all of the models to the customer data. Instead, you're going to use the fits from the general population to clean, transform, and cluster the customer data. In the last step of the project, you will interpret how the general population fits apply to the customer data.\n",
    "\n",
    "- Don't forget when loading in the customers data, that it is semicolon (`;`) delimited.\n",
    "- Apply the same feature wrangling, selection, and engineering steps to the customer demographics using the `clean_data()` function you created earlier. (You can assume that the customer demographics data has similar meaning behind missing data patterns as the general demographics data.)\n",
    "- Use the sklearn objects from the general demographics data, and apply their transformations to the customers data. That is, you should not be using a `.fit()` or `.fit_transform()` method to re-fit the old objects, nor should you be creating new sklearn objects! Carry the data through the feature scaling, PCA, and clustering steps, obtaining cluster assignments for all of the data in the customer demographics data."
   ]
  },
  {
   "cell_type": "code",
   "execution_count": 112,
   "metadata": {},
   "outputs": [],
   "source": [
    "# Load in the customer demographics data.\n",
    "customers = pd.read_csv('Udacity_CUSTOMERS_Subset.csv',delimiter=';')"
   ]
  },
  {
   "cell_type": "code",
   "execution_count": 113,
   "metadata": {},
   "outputs": [],
   "source": [
    "customers_clean = clean_data(customers)"
   ]
  },
  {
   "cell_type": "code",
   "execution_count": 114,
   "metadata": {},
   "outputs": [
    {
     "data": {
      "text/html": [
       "<div>\n",
       "<style scoped>\n",
       "    .dataframe tbody tr th:only-of-type {\n",
       "        vertical-align: middle;\n",
       "    }\n",
       "\n",
       "    .dataframe tbody tr th {\n",
       "        vertical-align: top;\n",
       "    }\n",
       "\n",
       "    .dataframe thead th {\n",
       "        text-align: right;\n",
       "    }\n",
       "</style>\n",
       "<table border=\"1\" class=\"dataframe\">\n",
       "  <thead>\n",
       "    <tr style=\"text-align: right;\">\n",
       "      <th></th>\n",
       "      <th>ALTERSKATEGORIE_GROB</th>\n",
       "      <th>ANREDE_KZ</th>\n",
       "      <th>FINANZ_MINIMALIST</th>\n",
       "      <th>FINANZ_SPARER</th>\n",
       "      <th>FINANZ_VORSORGER</th>\n",
       "      <th>FINANZ_ANLEGER</th>\n",
       "      <th>FINANZ_UNAUFFAELLIGER</th>\n",
       "      <th>FINANZ_HAUSBAUER</th>\n",
       "      <th>GEBURTSJAHR</th>\n",
       "      <th>GREEN_AVANTGARDE</th>\n",
       "      <th>...</th>\n",
       "      <th>PLZ8_ANTG4</th>\n",
       "      <th>PLZ8_HHZ</th>\n",
       "      <th>PLZ8_GBZ</th>\n",
       "      <th>ARBEIT</th>\n",
       "      <th>ORTSGR_KLS9</th>\n",
       "      <th>RELAT_AB</th>\n",
       "      <th>Decade</th>\n",
       "      <th>Movement</th>\n",
       "      <th>wealth</th>\n",
       "      <th>life_stage</th>\n",
       "    </tr>\n",
       "  </thead>\n",
       "  <tbody>\n",
       "    <tr>\n",
       "      <th>0</th>\n",
       "      <td>4.0</td>\n",
       "      <td>1</td>\n",
       "      <td>5</td>\n",
       "      <td>1</td>\n",
       "      <td>5</td>\n",
       "      <td>1</td>\n",
       "      <td>2</td>\n",
       "      <td>2</td>\n",
       "      <td>NaN</td>\n",
       "      <td>1</td>\n",
       "      <td>...</td>\n",
       "      <td>0.0</td>\n",
       "      <td>5.0</td>\n",
       "      <td>5.0</td>\n",
       "      <td>1.0</td>\n",
       "      <td>2.0</td>\n",
       "      <td>1.0</td>\n",
       "      <td>2.0</td>\n",
       "      <td>0.0</td>\n",
       "      <td>1.0</td>\n",
       "      <td>3.0</td>\n",
       "    </tr>\n",
       "    <tr>\n",
       "      <th>2</th>\n",
       "      <td>4.0</td>\n",
       "      <td>2</td>\n",
       "      <td>5</td>\n",
       "      <td>1</td>\n",
       "      <td>5</td>\n",
       "      <td>1</td>\n",
       "      <td>4</td>\n",
       "      <td>4</td>\n",
       "      <td>NaN</td>\n",
       "      <td>1</td>\n",
       "      <td>...</td>\n",
       "      <td>1.0</td>\n",
       "      <td>3.0</td>\n",
       "      <td>2.0</td>\n",
       "      <td>3.0</td>\n",
       "      <td>5.0</td>\n",
       "      <td>3.0</td>\n",
       "      <td>2.0</td>\n",
       "      <td>0.0</td>\n",
       "      <td>3.0</td>\n",
       "      <td>4.0</td>\n",
       "    </tr>\n",
       "    <tr>\n",
       "      <th>3</th>\n",
       "      <td>4.0</td>\n",
       "      <td>1</td>\n",
       "      <td>5</td>\n",
       "      <td>1</td>\n",
       "      <td>5</td>\n",
       "      <td>2</td>\n",
       "      <td>1</td>\n",
       "      <td>2</td>\n",
       "      <td>NaN</td>\n",
       "      <td>0</td>\n",
       "      <td>...</td>\n",
       "      <td>0.0</td>\n",
       "      <td>3.0</td>\n",
       "      <td>4.0</td>\n",
       "      <td>1.0</td>\n",
       "      <td>3.0</td>\n",
       "      <td>1.0</td>\n",
       "      <td>1.0</td>\n",
       "      <td>1.0</td>\n",
       "      <td>2.0</td>\n",
       "      <td>4.0</td>\n",
       "    </tr>\n",
       "    <tr>\n",
       "      <th>4</th>\n",
       "      <td>3.0</td>\n",
       "      <td>1</td>\n",
       "      <td>3</td>\n",
       "      <td>1</td>\n",
       "      <td>4</td>\n",
       "      <td>4</td>\n",
       "      <td>5</td>\n",
       "      <td>2</td>\n",
       "      <td>1960.0</td>\n",
       "      <td>0</td>\n",
       "      <td>...</td>\n",
       "      <td>1.0</td>\n",
       "      <td>3.0</td>\n",
       "      <td>3.0</td>\n",
       "      <td>3.0</td>\n",
       "      <td>5.0</td>\n",
       "      <td>1.0</td>\n",
       "      <td>4.0</td>\n",
       "      <td>1.0</td>\n",
       "      <td>4.0</td>\n",
       "      <td>1.0</td>\n",
       "    </tr>\n",
       "    <tr>\n",
       "      <th>5</th>\n",
       "      <td>3.0</td>\n",
       "      <td>1</td>\n",
       "      <td>5</td>\n",
       "      <td>1</td>\n",
       "      <td>5</td>\n",
       "      <td>1</td>\n",
       "      <td>2</td>\n",
       "      <td>3</td>\n",
       "      <td>NaN</td>\n",
       "      <td>1</td>\n",
       "      <td>...</td>\n",
       "      <td>1.0</td>\n",
       "      <td>5.0</td>\n",
       "      <td>5.0</td>\n",
       "      <td>3.0</td>\n",
       "      <td>7.0</td>\n",
       "      <td>5.0</td>\n",
       "      <td>2.0</td>\n",
       "      <td>0.0</td>\n",
       "      <td>3.0</td>\n",
       "      <td>4.0</td>\n",
       "    </tr>\n",
       "  </tbody>\n",
       "</table>\n",
       "<p>5 rows × 66 columns</p>\n",
       "</div>"
      ],
      "text/plain": [
       "   ALTERSKATEGORIE_GROB  ANREDE_KZ  FINANZ_MINIMALIST  FINANZ_SPARER  \\\n",
       "0                   4.0          1                  5              1   \n",
       "2                   4.0          2                  5              1   \n",
       "3                   4.0          1                  5              1   \n",
       "4                   3.0          1                  3              1   \n",
       "5                   3.0          1                  5              1   \n",
       "\n",
       "   FINANZ_VORSORGER  FINANZ_ANLEGER  FINANZ_UNAUFFAELLIGER  FINANZ_HAUSBAUER  \\\n",
       "0                 5               1                      2                 2   \n",
       "2                 5               1                      4                 4   \n",
       "3                 5               2                      1                 2   \n",
       "4                 4               4                      5                 2   \n",
       "5                 5               1                      2                 3   \n",
       "\n",
       "   GEBURTSJAHR  GREEN_AVANTGARDE     ...      PLZ8_ANTG4  PLZ8_HHZ  PLZ8_GBZ  \\\n",
       "0          NaN                 1     ...             0.0       5.0       5.0   \n",
       "2          NaN                 1     ...             1.0       3.0       2.0   \n",
       "3          NaN                 0     ...             0.0       3.0       4.0   \n",
       "4       1960.0                 0     ...             1.0       3.0       3.0   \n",
       "5          NaN                 1     ...             1.0       5.0       5.0   \n",
       "\n",
       "   ARBEIT  ORTSGR_KLS9  RELAT_AB  Decade  Movement  wealth  life_stage  \n",
       "0     1.0          2.0       1.0     2.0       0.0     1.0         3.0  \n",
       "2     3.0          5.0       3.0     2.0       0.0     3.0         4.0  \n",
       "3     1.0          3.0       1.0     1.0       1.0     2.0         4.0  \n",
       "4     3.0          5.0       1.0     4.0       1.0     4.0         1.0  \n",
       "5     3.0          7.0       5.0     2.0       0.0     3.0         4.0  \n",
       "\n",
       "[5 rows x 66 columns]"
      ]
     },
     "execution_count": 114,
     "metadata": {},
     "output_type": "execute_result"
    }
   ],
   "source": [
    "customers_clean.head()"
   ]
  },
  {
   "cell_type": "code",
   "execution_count": 115,
   "metadata": {},
   "outputs": [
    {
     "data": {
      "text/plain": [
       "(141725, 66)"
      ]
     },
     "execution_count": 115,
     "metadata": {},
     "output_type": "execute_result"
    }
   ],
   "source": [
    "customers_clean.shape"
   ]
  },
  {
   "cell_type": "code",
   "execution_count": 116,
   "metadata": {},
   "outputs": [],
   "source": [
    "customers_clean2 = customers_clean.copy()"
   ]
  },
  {
   "cell_type": "code",
   "execution_count": 117,
   "metadata": {},
   "outputs": [
    {
     "data": {
      "text/plain": [
       "(141725, 66)"
      ]
     },
     "execution_count": 117,
     "metadata": {},
     "output_type": "execute_result"
    }
   ],
   "source": [
    "customers_clean2.shape"
   ]
  },
  {
   "cell_type": "code",
   "execution_count": 118,
   "metadata": {},
   "outputs": [
    {
     "data": {
      "text/plain": [
       "171405"
      ]
     },
     "execution_count": 118,
     "metadata": {},
     "output_type": "execute_result"
    }
   ],
   "source": [
    "customers_clean2.isnull().sum().sum()"
   ]
  },
  {
   "cell_type": "code",
   "execution_count": 119,
   "metadata": {},
   "outputs": [],
   "source": [
    "#imputer = Imputer(strategy='most_frequent')\n",
    "customers_clean2 = imputer.fit_transform(customers_clean)"
   ]
  },
  {
   "cell_type": "code",
   "execution_count": 120,
   "metadata": {},
   "outputs": [],
   "source": [
    "customers_clean_imputer = pd.DataFrame(customers_clean2 , columns=customers_clean.columns)"
   ]
  },
  {
   "cell_type": "code",
   "execution_count": 121,
   "metadata": {},
   "outputs": [
    {
     "data": {
      "text/plain": [
       "0"
      ]
     },
     "execution_count": 121,
     "metadata": {},
     "output_type": "execute_result"
    }
   ],
   "source": [
    "customers_clean_imputer.isnull().sum().sum()"
   ]
  },
  {
   "cell_type": "code",
   "execution_count": 122,
   "metadata": {},
   "outputs": [],
   "source": [
    "#scale:\n",
    "customers_imputer_scaler= s.transform(customers_clean_imputer)\n",
    "\n",
    "customers_scaler = pd.DataFrame(customers_imputer_scaler,columns=customers_clean_imputer.columns)"
   ]
  },
  {
   "cell_type": "code",
   "execution_count": 123,
   "metadata": {},
   "outputs": [],
   "source": [
    "#pca \n",
    "pca.fit(customers_scaler)\n",
    "reduced_customers = pca.transform(customers_scaler)"
   ]
  },
  {
   "cell_type": "code",
   "execution_count": 124,
   "metadata": {},
   "outputs": [],
   "source": [
    "#predict kmean\n",
    "predict_customers = model.predict(reduced_customers)"
   ]
  },
  {
   "cell_type": "code",
   "execution_count": 206,
   "metadata": {},
   "outputs": [],
   "source": [
    "# Apply preprocessing, feature transformation, and clustering from the general\n",
    "# demographics onto the customer data, obtaining cluster predictions for the\n",
    "# customer demographics data.\n",
    "\n"
   ]
  },
  {
   "cell_type": "markdown",
   "metadata": {},
   "source": [
    "### Step 3.3: Compare Customer Data to Demographics Data\n",
    "\n",
    "At this point, you have clustered data based on demographics of the general population of Germany, and seen how the customer data for a mail-order sales company maps onto those demographic clusters. In this final substep, you will compare the two cluster distributions to see where the strongest customer base for the company is.\n",
    "\n",
    "Consider the proportion of persons in each cluster for the general population, and the proportions for the customers. If we think the company's customer base to be universal, then the cluster assignment proportions should be fairly similar between the two. If there are only particular segments of the population that are interested in the company's products, then we should see a mismatch from one to the other. If there is a higher proportion of persons in a cluster for the customer data compared to the general population (e.g. 5% of persons are assigned to a cluster for the general population, but 15% of the customer data is closest to that cluster's centroid) then that suggests the people in that cluster to be a target audience for the company. On the other hand, the proportion of the data in a cluster being larger in the general population than the customer data (e.g. only 2% of customers closest to a population centroid that captures 6% of the data) suggests that group of persons to be outside of the target demographics.\n",
    "\n",
    "Take a look at the following points in this step:\n",
    "\n",
    "- Compute the proportion of data points in each cluster for the general population and the customer data. Visualizations will be useful here: both for the individual dataset proportions, but also to visualize the ratios in cluster representation between groups. Seaborn's [`countplot()`](https://seaborn.pydata.org/generated/seaborn.countplot.html) or [`barplot()`](https://seaborn.pydata.org/generated/seaborn.barplot.html) function could be handy.\n",
    "  - Recall the analysis you performed in step 1.1.3 of the project, where you separated out certain data points from the dataset if they had more than a specified threshold of missing values. If you found that this group was qualitatively different from the main bulk of the data, you should treat this as an additional data cluster in this analysis. Make sure that you account for the number of data points in this subset, for both the general population and customer datasets, when making your computations!\n",
    "- Which cluster or clusters are overrepresented in the customer dataset compared to the general population? Select at least one such cluster and infer what kind of people might be represented by that cluster. Use the principal component interpretations from step 2.3 or look at additional components to help you make this inference. Alternatively, you can use the `.inverse_transform()` method of the PCA and StandardScaler objects to transform centroids back to the original data space and interpret the retrieved values directly.\n",
    "- Perform a similar investigation for the underrepresented clusters. Which cluster or clusters are underrepresented in the customer dataset compared to the general population, and what kinds of people are typified by these clusters?"
   ]
  },
  {
   "cell_type": "code",
   "execution_count": 126,
   "metadata": {},
   "outputs": [
    {
     "data": {
      "image/png": "[encoded data removed]",
      "text/plain": [
       "<matplotlib.figure.Figure at 0x7f05271ddfd0>"
      ]
     },
     "metadata": {},
     "output_type": "display_data"
    }
   ],
   "source": [
    "# Compare the proportion of data in each cluster for the customer data to the\n",
    "# proportion of data in each cluster for the general population.\n",
    "\n",
    "figure, axs = plt.subplots(nrows =1 , ncols =2 , figsize =(11,6))\n",
    "\n",
    "figure.subplots_adjust()\n",
    "sns.countplot(predict_customers, ax= axs[0])\n",
    "axs[0].set_title(\"customers Clusters\");\n",
    "sns.countplot(predict_general, ax= axs[1])\n",
    "axs[1].set_title(\"Population Clusters\");"
   ]
  },
  {
   "cell_type": "code",
   "execution_count": 134,
   "metadata": {},
   "outputs": [],
   "source": [
    "# What kinds of people are part of a cluster that is overrepresented in the\n",
    "# customer data compared to the general population?\n",
    "\n",
    "\n",
    "centroid_10 =s.inverse_transform(pca.inverse_transform(model.cluster_centers_[10]))\n",
    "\n",
    "overrepresented = pd.Series(data =centroid_10, index = customers_clean.columns)"
   ]
  },
  {
   "cell_type": "code",
   "execution_count": 139,
   "metadata": {},
   "outputs": [
    {
     "data": {
      "text/plain": [
       "ALTERSKATEGORIE_GROB    3.782781\n",
       "ANREDE_KZ               1.427025\n",
       "FINANZ_MINIMALIST       5.141676\n",
       "FINANZ_SPARER           1.042334\n",
       "FINANZ_VORSORGER        4.870934\n",
       "dtype: float64"
      ]
     },
     "execution_count": 139,
     "metadata": {},
     "output_type": "execute_result"
    }
   ],
   "source": [
    "overrepresented.head()"
   ]
  },
  {
   "cell_type": "code",
   "execution_count": 142,
   "metadata": {},
   "outputs": [],
   "source": [
    "# What kinds of people are part of a cluster that is underrepresented in the\n",
    "# customer data compared to the general population?\n",
    "\n",
    "centroid_13 =s.inverse_transform(pca.inverse_transform(model.cluster_centers_[13]))\n",
    "\n",
    "underrepresented = pd.Series(data =centroid_13, index = customers_clean.columns)"
   ]
  },
  {
   "cell_type": "code",
   "execution_count": 143,
   "metadata": {},
   "outputs": [
    {
     "data": {
      "text/plain": [
       "ALTERSKATEGORIE_GROB    3.213809\n",
       "ANREDE_KZ               1.185463\n",
       "FINANZ_MINIMALIST       3.767492\n",
       "FINANZ_SPARER           2.223996\n",
       "FINANZ_VORSORGER        4.030498\n",
       "dtype: float64"
      ]
     },
     "execution_count": 143,
     "metadata": {},
     "output_type": "execute_result"
    }
   ],
   "source": [
    "underrepresented.head()"
   ]
  },
  {
   "cell_type": "markdown",
   "metadata": {},
   "source": [
    "### Discussion 3.3: Compare Customer Data to Demographics Data\n",
    "\n",
    "In this final step, I used Seaborn's countplot() to compare between customers Clusters and Population Clusters\n",
    "then i use inverse_transform() to get the oraignal dat .\n",
    "There is a small difference between the predictions demographics of the general populations and the customer data\n",
    "cluster 0 ,11 and 10 are the most overrepresented Compared to other cluster to the Genral pupulation .\n",
    "\n",
    "cluster 11 (overrepresented):  the age of Customer (ALTERSKATEGORIE_GROB) tend by > 60 years old  , the Gender(ANREDE_KZ) tend by male , the low financial interest (FINANZ_MINIMALIST) tend by very low , the money-saver(SPARER) tend by very high , and the VORSORGER (FINANZ_VORSORGER) tend by very low.\n",
    "\n",
    "cluster 13 (underrepresented) the age of Customer (ALTERSKATEGORIE_GROB) tend by 46 - 60 years old , the Gender(ANREDE_KZ) tend by male , the low financial interest (FINANZ_MINIMALIST) tend by low , the money-saver(SPARER) tend by high , and the VORSORGER (FINANZ_VORSORGER) tend low.\n"
   ]
  },
  {
   "cell_type": "markdown",
   "metadata": {},
   "source": [
    "> Congratulations on making it this far in the project! Before you finish, make sure to check through the entire notebook from top to bottom to make sure that your analysis follows a logical flow and all of your findings are documented in **Discussion** cells. Once you've checked over all of your work, you should export the notebook as an HTML document to submit for evaluation. You can do this from the menu, navigating to **File -> Download as -> HTML (.html)**. You will submit both that document and this notebook for your project submission."
   ]
  },
  {
   "cell_type": "code",
   "execution_count": null,
   "metadata": {},
   "outputs": [],
   "source": []
  }
 ],
 "metadata": {
  "kernelspec": {
   "display_name": "Python 3",
   "language": "python",
   "name": "python3"
  },
  "language_info": {
   "codemirror_mode": {
    "name": "ipython",
    "version": 3
   },
   "file_extension": ".py",
   "mimetype": "text/x-python",
   "name": "python",
   "nbconvert_exporter": "python",
   "pygments_lexer": "ipython3",
   "version": "3.6.3"
  }
 },
 "nbformat": 4,
 "nbformat_minor": 2
}
